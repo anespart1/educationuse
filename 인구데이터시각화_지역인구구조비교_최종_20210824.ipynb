{
  "nbformat": 4,
  "nbformat_minor": 0,
  "metadata": {
    "colab": {
      "name": "인구데이터시각화_지역인구구조비교_최종_20210824.ipynb",
      "provenance": [],
      "collapsed_sections": [
        "v6X3OweLi288",
        "VjJdheU5iTOl"
      ],
      "authorship_tag": "ABX9TyORuP4YvD9W+MUbtvcanTus",
      "include_colab_link": true
    },
    "kernelspec": {
      "name": "python3",
      "display_name": "Python 3"
    },
    "language_info": {
      "name": "python"
    }
  },
  "cells": [
    {
      "cell_type": "markdown",
      "metadata": {
        "id": "view-in-github",
        "colab_type": "text"
      },
      "source": [
        "<a href=\"https://colab.research.google.com/github/anespart1/educationuse/blob/main/%EC%9D%B8%EA%B5%AC%EB%8D%B0%EC%9D%B4%ED%84%B0%EC%8B%9C%EA%B0%81%ED%99%94_%EC%A7%80%EC%97%AD%EC%9D%B8%EA%B5%AC%EA%B5%AC%EC%A1%B0%EB%B9%84%EA%B5%90_%EC%B5%9C%EC%A2%85_20210824.ipynb\" target=\"_parent\"><img src=\"https://colab.research.google.com/assets/colab-badge.svg\" alt=\"Open In Colab\"/></a>"
      ]
    },
    {
      "cell_type": "markdown",
      "metadata": {
        "id": "T0IVJnXqcAfi"
      },
      "source": [
        "#인구구조가 비슷한/전혀다른 지역은 어디일까?\n",
        "(송석리 선생님 방법 참고)"
      ]
    },
    {
      "cell_type": "markdown",
      "metadata": {
        "id": "v6X3OweLi288"
      },
      "source": [
        "#판다스 & 플로틀리 가져오기 및 설정(숨김)"
      ]
    },
    {
      "cell_type": "code",
      "metadata": {
        "id": "6c6ePx8ZbaR2",
        "colab": {
          "base_uri": "https://localhost:8080/",
          "height": 17
        },
        "outputId": "8431e1f4-9db2-4012-a38a-261cbbd4b20a"
      },
      "source": [
        "import pandas as pd\n",
        "import numpy as np\n",
        "import plotly.offline\n",
        "import plotly.graph_objects as go\n",
        "from plotly.subplots import make_subplots\n",
        "import plotly.io as pio\n",
        "import requests\n",
        "from io import BytesIO\n",
        "\n",
        "#플로티 옵션 설정 및 준비\n",
        "plotly.offline.init_notebook_mode(connected=True)\n",
        "pio.renderers.default = 'colab'"
      ],
      "execution_count": 1,
      "outputs": [
        {
          "output_type": "display_data",
          "data": {
            "text/html": [
              "        <script type=\"text/javascript\">\n",
              "        window.PlotlyConfig = {MathJaxConfig: 'local'};\n",
              "        if (window.MathJax) {MathJax.Hub.Config({SVG: {font: \"STIX-Web\"}});}\n",
              "        if (typeof require !== 'undefined') {\n",
              "        require.undef(\"plotly\");\n",
              "        requirejs.config({\n",
              "            paths: {\n",
              "                'plotly': ['https://cdn.plot.ly/plotly-latest.min']\n",
              "            }\n",
              "        });\n",
              "        require(['plotly'], function(Plotly) {\n",
              "            window._Plotly = Plotly;\n",
              "        });\n",
              "        }\n",
              "        </script>\n",
              "        "
            ]
          },
          "metadata": {}
        }
      ]
    },
    {
      "cell_type": "markdown",
      "metadata": {
        "id": "nfAvK9xajFpT"
      },
      "source": [
        "#인구데이터시각화 연도 설정(변경시 Ctrl+ F10으로 여기부터 재실행)"
      ]
    },
    {
      "cell_type": "code",
      "metadata": {
        "colab": {
          "base_uri": "https://localhost:8080/"
        },
        "id": "0XFQVNg2KIOj",
        "outputId": "24284e62-a3fd-479c-c55d-4d3aad17c317"
      },
      "source": [
        "#@title 연도를 입력해주세요 { run: \"auto\" }\n",
        "target_year = 2012 #@param {type:\"slider\", min:2008, max:2020, step:1}\n",
        "print('{}년을 선택했습니다.'.format(target_year))\n",
        "url = \"https://raw.githubusercontent.com/anespart1/educationuse/master/{}12_{}12_연령별인구현황_연간.xlsx\".format(target_year, target_year)\n",
        "data = requests.get(url).content\n",
        "pop = pd.read_excel(BytesIO(data)) "
      ],
      "execution_count": 2,
      "outputs": [
        {
          "output_type": "stream",
          "text": [
            "2012년을 선택했습니다.\n"
          ],
          "name": "stdout"
        }
      ]
    },
    {
      "cell_type": "markdown",
      "metadata": {
        "id": "VjJdheU5iTOl"
      },
      "source": [
        "#코드 실행부분(숨김)"
      ]
    },
    {
      "cell_type": "code",
      "metadata": {
        "id": "fEJTRDwgM7t2"
      },
      "source": [
        "def insert_columns(data, exist_data):\n",
        "  for i in range(2):\n",
        "    data.insert(0 + i, exist_data.columns[i], exist_data[exist_data.columns[i]])"
      ],
      "execution_count": 3,
      "outputs": []
    },
    {
      "cell_type": "code",
      "metadata": {
        "id": "a1AbIYxx5EXQ"
      },
      "source": [
        "#항목명 변환, 필요없는 행 제거, 인덱스 리셋, 행정구분 추가, 열 순서 변경\n",
        "def data_adjust(data=None):\n",
        "  data.columns = data.iloc[2].values.tolist()\n",
        "  data = data[data['행정기관코드'] != '3611000000'] #2012년 이후 데이터의 세종시중복문제 회피\n",
        "  data = data.drop(data.index[[0, 1, 2]], axis=0)\n",
        "  data.reset_index(drop=True, inplace=True)\n",
        "  data['행정구분'] = data['행정기관'].apply(lambda x: str(len(str(x).split())))\n",
        "  data['행정구분'] = data['행정구분'].apply(lambda x:x.replace('1',\"시도\")).apply(lambda x:x.replace('2',\"시군구\")).apply(lambda x:x.replace('3',\"읍면동\"))\n",
        "  col_list = list(data.columns)[:-1]\n",
        "  col_list.insert(2, data.columns[-1])\n",
        "  data = data[col_list]\n",
        "\n",
        "  return data"
      ],
      "execution_count": 4,
      "outputs": []
    },
    {
      "cell_type": "code",
      "metadata": {
        "id": "qmqfYQXK1_dS"
      },
      "source": [
        "def data_normalization(data=None, columns=None, idx=None, pre_reset='y'):\n",
        "  ndata = data.transpose()\n",
        "  ndata.columns = columns\n",
        "  if pre_reset == 'y':\n",
        "    ndata.reset_index(inplace=True)\n",
        "  ndata = ndata.drop(ndata.index[idx], axis=0)\n",
        "  ndata.reset_index(drop=True, inplace=True)\n",
        "  for i in range(1, len(ndata.columns)):\n",
        "    ndata[ndata.columns[i]] = ndata[ndata.columns[i]].apply(lambda x: int(x.replace(',', '')))\n",
        "    ndata[ndata.columns[i]] = ndata[ndata.columns[i]] / ndata[ndata.columns[i]][0]\n",
        "  \n",
        "  return ndata"
      ],
      "execution_count": 5,
      "outputs": []
    },
    {
      "cell_type": "code",
      "metadata": {
        "id": "KMn4vdfl5uF2"
      },
      "source": [
        "def prepare_data_comparing(data=None):\n",
        "  ndata = data.transpose().copy()\n",
        "  ndata.columns = ndata.iloc[0].values.tolist()\n",
        "  ndata = ndata.drop(ndata.index[0], axis=0)\n",
        "  ndata.reset_index(inplace=True)\n",
        "\n",
        "  return ndata"
      ],
      "execution_count": 6,
      "outputs": []
    },
    {
      "cell_type": "code",
      "metadata": {
        "id": "S5tNuxZp8yb_"
      },
      "source": [
        "def data_preprocessing(data1=None, data2=None):\n",
        "  both = pd.concat([data1, data2], axis = 0)\n",
        "  area_name = both[both.columns[1]].values[0]\n",
        "  df = both.transpose()\n",
        "  df.columns = ['남', '여']\n",
        "  df.reset_index(inplace=True)\n",
        "  df = df.drop(df.index[[0, 1, 2, 3, -1]], axis=0)\n",
        "  df.reset_index(drop=True, inplace=True)\n",
        "  for i in range(1, 3):\n",
        "    df[df.columns[i]] = df[df.columns[i]].apply(lambda x: int(x.replace(',', '')))\n",
        "    df[df.columns[i]] = df[df.columns[i]] / df[df.columns[i]][0]\n",
        "  \n",
        "  return df, area_name"
      ],
      "execution_count": 7,
      "outputs": []
    },
    {
      "cell_type": "code",
      "metadata": {
        "id": "Ea3DA9MN-sJ3"
      },
      "source": [
        "def add_graph(data=None):\n",
        "  fig.add_trace(go.Bar(y= data['index'][1:], x = data['남'][1:], name = 'Male', orientation = 'h',\n",
        "                       text=['(남성) {} | {}'.format(str(i)[:5], j) for i, j in zip(data['남'][1:], data['index'][1:])], hoverinfo='text'))\n",
        "  fig.add_trace(go.Bar(y= data['index'][1:], x = data['여'][1:] * -1, name = 'Female', orientation = 'h',\n",
        "                       text=['(여성) {} | {}'.format(str(i)[:5], j) for i, j in zip(data['여'][1:], data['index'][1:])], hoverinfo='text'))"
      ],
      "execution_count": 8,
      "outputs": []
    },
    {
      "cell_type": "code",
      "metadata": {
        "id": "x4B0JLYvdLuG"
      },
      "source": [
        "def tick_lists(data1=None, data2=None):\n",
        "  df1_point = round(data2['남'][1:].max(), 1)\n",
        "  df2_point = round(data2['남'][1:].max(), 1)\n",
        "  if df1_point > df2_point:\n",
        "    x1 = df1_point\n",
        "  else:\n",
        "    x1 = df2_point\n",
        "  tickv, tickt = [], []\n",
        "  for i in [-1.25, -2, -4, 0, 4, 2, 1.25]:\n",
        "    if i == 0:\n",
        "      tickv.append(0)\n",
        "      tickt.append('0')\n",
        "    else:\n",
        "      tickv.append(x1/i)\n",
        "      tickt.append(str(abs(x1/i)))\n",
        "  return tickv, tickt\n"
      ],
      "execution_count": 9,
      "outputs": []
    },
    {
      "cell_type": "code",
      "metadata": {
        "id": "l3RLHZ91tyMz"
      },
      "source": [
        "#성별로 구분 하기\n",
        "pop_tot = pop[pop.columns[:25]].copy()\n",
        "pop_male = pop[pop.columns[25:48]].copy()\n",
        "pop_female = pop[pop.columns[48:]].copy()\n",
        "insert_columns(pop_male, pop)\n",
        "insert_columns(pop_female, pop)"
      ],
      "execution_count": 10,
      "outputs": []
    },
    {
      "cell_type": "code",
      "metadata": {
        "id": "hUC48LWw6j3k"
      },
      "source": [
        "pop_tot = data_adjust(pop_tot)\n",
        "pop_male = data_adjust(pop_male)\n",
        "pop_female = data_adjust(pop_female)"
      ],
      "execution_count": 11,
      "outputs": []
    },
    {
      "cell_type": "code",
      "metadata": {
        "id": "WNHiMxMgkMuC"
      },
      "source": [
        "def find_target_and_others(target_area=None, data1=None, data2=None, data3=None):\n",
        "  ttot = data1[data1['행정기관'].str.contains(target_area) == True].head(1) #head(1)을 안하면 중복데이터로 실행부분에서 문제가 생길수 있음\n",
        "  tmale = data2[data2['행정기관'].str.contains(target_area) == True].head(1)\n",
        "  tfemale = data3[data3['행정기관'].str.contains(target_area) == True].head(1)\n",
        "\n",
        "  #데이터 정규화 작업\n",
        "  ttdf = data_normalization(data=ttot, columns= ['전체'], idx=[0, 1, 2, 3])\n",
        "\n",
        "  #중복회피를 위해 기타지역 데이터프레임 생성\n",
        "  nttot = pop_tot[pop_tot['행정기관'].str.contains(target_area) == False]\n",
        "\n",
        "  #데이터 정규화 작업\n",
        "  nttdf = data_normalization(data=nttot, columns=nttot['행정기관'].values.tolist(), idx=[0, 1, 2, 3])\n",
        "\n",
        "  #정규화된 데이터 비교 및 제곱오차합계 작성 준비 작업\n",
        "  nt= prepare_data_comparing(data=nttdf)\n",
        "  t = prepare_data_comparing(data=ttdf)\n",
        "\n",
        "  #제곱오차합계 비교작업\n",
        "  nt['제곱오차합계'] = 0\n",
        "  for i in t.columns[2:]:\n",
        "    nt['제곱오차합계'] = nt['제곱오차합계'] + (nt[i] - t[i][0])**2\n",
        "  min = nt.loc[nt['제곱오차합계'] == nt['제곱오차합계'].min()]\n",
        "  max = nt.loc[nt['제곱오차합계'] == nt['제곱오차합계'].max()]\n",
        "  find_min = min['index'].values[0]\n",
        "  find_max = max['index'].values[0]\n",
        "  \n",
        "  #비교데이터셋 준비\n",
        "  ctmale = pop_male[pop_male['행정기관'].str.contains(find_min) == True].head(1)\n",
        "  ctfemale = pop_female[pop_female['행정기관'].str.contains(find_min) == True].head(1)\n",
        "  dtmale = pop_male[pop_male['행정기관'].str.contains(find_max) == True].head(1)\n",
        "  dtfemale = pop_female[pop_female['행정기관'].str.contains(find_max) == True].head(1)\n",
        "\n",
        "  return tmale, tfemale, ctmale, ctfemale, dtmale, dtfemale"
      ],
      "execution_count": 12,
      "outputs": []
    },
    {
      "cell_type": "code",
      "metadata": {
        "id": "k-sVrKt4meTe"
      },
      "source": [
        "def data_visualization():\n",
        "  fig.add_trace(go.Bar(y= df1['index'][1:], x = df1['남'][1:], name = df1_name.split()[-1]+' 남', orientation = 'h', #marker_color='powderblue',\n",
        "                       text=['(남성) {} | {}'.format(str(i)[:5], j) for i, j in zip(df1['남'][1:], df1['index'][1:])],  hoverinfo='text'),row=1, col=1)\n",
        "  fig.add_trace(go.Bar(y= df1['index'][1:], x = df1['여'][1:] * -1, name = df1_name.split()[-1]+' 여', orientation = 'h', #marker_color='seagreen',\n",
        "                       text=['(여성) {} | {}'.format(str(i)[:5], j) for i, j in zip(df1['여'][1:], df1['index'][1:])], hoverinfo='text'),row=1, col=1)\n",
        "  fig.add_trace(go.Bar(y= df2['index'][1:], x = df2['남'][1:], name = df2_name.split()[-1]+' 남', orientation = 'h', #marker_color='teal',\n",
        "                       text=['(남성) {} | {}'.format(str(i)[:5], j) for i, j in zip(df2['남'][1:], df2['index'][1:])], hoverinfo='text', opacity=0.5),row=1, col=1)\n",
        "  fig.add_trace(go.Bar(y= df2['index'][1:], x = df2['여'][1:] * -1, name = df2_name.split()[-1]+' 여', orientation = 'h', #marker_color='darkgreen',\n",
        "                       text=['(여성) {} | {}'.format(str(i)[:5], j) for i, j in zip(df2['여'][1:], df2['index'][1:])], hoverinfo='text', opacity=0.5),row=1, col=1)\n",
        "  \n",
        "  fig.add_trace(go.Bar(y= df1['index'][1:], x = df1['남'][1:], name = df1_name.split()[-1]+' 남', orientation = 'h', #marker_color='powderblue',\n",
        "                       text=['(남성) {} | {}'.format(str(i)[:5], j) for i, j in zip(df1['남'][1:], df1['index'][1:])],  hoverinfo='text'),row=1, col=2)\n",
        "  fig.add_trace(go.Bar(y= df1['index'][1:], x = df1['여'][1:] * -1, name = df1_name.split()[-1]+' 여', orientation = 'h', #marker_color='seagreen',\n",
        "                       text=['(여성) {} | {}'.format(str(i)[:5], j) for i, j in zip(df1['여'][1:], df1['index'][1:])], hoverinfo='text'),row=1, col=2)\n",
        "  fig.add_trace(go.Bar(y= df3['index'][1:], x = df3['남'][1:], name = df3_name.split()[-1]+' 남', orientation = 'h', #marker_color='teal',\n",
        "                       text=['(남성) {} | {}'.format(str(i)[:5], j) for i, j in zip(df3['남'][1:], df3['index'][1:])], hoverinfo='text', opacity=0.5),row=1, col=2)\n",
        "  fig.add_trace(go.Bar(y= df3['index'][1:], x = df3['여'][1:] * -1, name = df3_name.split()[-1]+' 여', orientation = 'h', #marker_color='darkgreen',\n",
        "                       text=['(여성) {} | {}'.format(str(i)[:5], j) for i, j in zip(df3['여'][1:], df3['index'][1:])], hoverinfo='text', opacity=0.5),row=1, col=2)\n",
        "  \n",
        "  fig.update_layout(title_text=\"{}의 인구구조 비교\".format(df1_name.rstrip()), title_font_size = 20, barmode = 'overlay', bargap = 0.10,\n",
        "                    xaxis = dict(tickvals = tickv1, ticktext = tickt1), xaxis2 = dict(tickvals = tickv2, ticktext = tickt2))"
      ],
      "execution_count": 13,
      "outputs": []
    },
    {
      "cell_type": "markdown",
      "metadata": {
        "id": "19xZke56n7JQ"
      },
      "source": [
        "#연도별 지역 인구구조 비교 그래프(실행후 자동 재실행)"
      ]
    },
    {
      "cell_type": "code",
      "metadata": {
        "colab": {
          "base_uri": "https://localhost:8080/",
          "height": 560
        },
        "id": "adaoIZTLvZjB",
        "outputId": "1f7a5ca0-f077-4de8-9b92-de518b872984"
      },
      "source": [
        "#@title 찾고자하는 지역을 입력해주세요 { run: \"auto\" }\n",
        "target_area = '\\uC6D4\\uB871\\uBA74' #@param {type:\"string\"}\n",
        "print('{}년, {} 을(를) 입력했습니다.'.format(target_year, target_area))\n",
        "if target_year < 2013 and '세종' in target_area:\n",
        "  raise ValueError('2013년 이전 데이터는 세종특별자치시가 없습니다.')\n",
        "\n",
        "tmale, tfemale, ctmale, ctfemale, dtmale, dtfemale = find_target_and_others(target_area=target_area, data1=pop_tot, data2=pop_male, data3=pop_female)\n",
        "df1, df1_name = data_preprocessing(data1=tmale, data2=tfemale)\n",
        "df2, df2_name = data_preprocessing(data1=ctmale, data2=ctfemale)\n",
        "df3, df3_name  = data_preprocessing(data1=dtmale, data2=dtfemale)\n",
        "tickv1, tickt1 = tick_lists(data1=df1, data2=df2)\n",
        "tickv2, tickt2 = tick_lists(data1=df1, data2=df3)\n",
        "fig = make_subplots(rows=1, cols=2, \n",
        "                    subplot_titles=('{} ≒  {}'.format(df1_name, df2_name), '{} ≠  {}'.format(df1_name, df3_name)))\n",
        "data_visualization()\n",
        "fig.show()"
      ],
      "execution_count": 18,
      "outputs": [
        {
          "output_type": "stream",
          "text": [
            "2012년, 월롱면 을(를) 입력했습니다.\n"
          ],
          "name": "stdout"
        },
        {
          "output_type": "display_data",
          "data": {
            "text/html": [
              "<html>\n",
              "<head><meta charset=\"utf-8\" /></head>\n",
              "<body>\n",
              "    <div>\n",
              "            <script src=\"https://cdnjs.cloudflare.com/ajax/libs/mathjax/2.7.5/MathJax.js?config=TeX-AMS-MML_SVG\"></script><script type=\"text/javascript\">if (window.MathJax) {MathJax.Hub.Config({SVG: {font: \"STIX-Web\"}});}</script>\n",
              "                <script type=\"text/javascript\">window.PlotlyConfig = {MathJaxConfig: 'local'};</script>\n",
              "        <script src=\"https://cdn.plot.ly/plotly-latest.min.js\"></script>    \n",
              "            <div id=\"851f1cec-6efc-435e-b9cf-053bc354cb9d\" class=\"plotly-graph-div\" style=\"height:525px; width:100%;\"></div>\n",
              "            <script type=\"text/javascript\">\n",
              "                \n",
              "                    window.PLOTLYENV=window.PLOTLYENV || {};\n",
              "                    \n",
              "                if (document.getElementById(\"851f1cec-6efc-435e-b9cf-053bc354cb9d\")) {\n",
              "                    Plotly.newPlot(\n",
              "                        '851f1cec-6efc-435e-b9cf-053bc354cb9d',\n",
              "                        [{\"hoverinfo\": \"text\", \"name\": \"\\uc6d4\\ub871\\uba74 \\ub0a8\", \"orientation\": \"h\", \"text\": [\"(\\ub0a8\\uc131) 0.010 | 0~4\\uc138\", \"(\\ub0a8\\uc131) 0.009 | 5~9\\uc138\", \"(\\ub0a8\\uc131) 0.012 | 10~14\\uc138\", \"(\\ub0a8\\uc131) 0.020 | 15~19\\uc138\", \"(\\ub0a8\\uc131) 0.165 | 20~24\\uc138\", \"(\\ub0a8\\uc131) 0.405 | 25~29\\uc138\", \"(\\ub0a8\\uc131) 0.110 | 30~34\\uc138\", \"(\\ub0a8\\uc131) 0.036 | 35~39\\uc138\", \"(\\ub0a8\\uc131) 0.035 | 40~44\\uc138\", \"(\\ub0a8\\uc131) 0.036 | 45~49\\uc138\", \"(\\ub0a8\\uc131) 0.050 | 50~54\\uc138\", \"(\\ub0a8\\uc131) 0.034 | 55~59\\uc138\", \"(\\ub0a8\\uc131) 0.023 | 60~64\\uc138\", \"(\\ub0a8\\uc131) 0.016 | 65~69\\uc138\", \"(\\ub0a8\\uc131) 0.014 | 70~74\\uc138\", \"(\\ub0a8\\uc131) 0.010 | 75~79\\uc138\", \"(\\ub0a8\\uc131) 0.005 | 80~84\\uc138\", \"(\\ub0a8\\uc131) 0.001 | 85~89\\uc138\", \"(\\ub0a8\\uc131) 0.000 | 90~94\\uc138\", \"(\\ub0a8\\uc131) 0.000 | 95~99\\uc138\", \"(\\ub0a8\\uc131) 0.000 | 100\\uc138 \\uc774\\uc0c1\"], \"type\": \"bar\", \"x\": [0.010468257541647907, 0.009680324178298064, 0.012156686177397569, 0.020823953174245836, 0.16535344439441693, 0.405110310670869, 0.11031067086897794, 0.03692030616839262, 0.03545700135074291, 0.03601981089599279, 0.050315173345339935, 0.034218820351193155, 0.02341287708239532, 0.01654660063034669, 0.014858171994597028, 0.010468257541647907, 0.005290409725348942, 0.0016884286357496624, 0.0005628095452498874, 0.00022512381809995497, 0.00011256190904997749], \"xaxis\": \"x\", \"y\": [\"0~4\\uc138\", \"5~9\\uc138\", \"10~14\\uc138\", \"15~19\\uc138\", \"20~24\\uc138\", \"25~29\\uc138\", \"30~34\\uc138\", \"35~39\\uc138\", \"40~44\\uc138\", \"45~49\\uc138\", \"50~54\\uc138\", \"55~59\\uc138\", \"60~64\\uc138\", \"65~69\\uc138\", \"70~74\\uc138\", \"75~79\\uc138\", \"80~84\\uc138\", \"85~89\\uc138\", \"90~94\\uc138\", \"95~99\\uc138\", \"100\\uc138 \\uc774\\uc0c1\"], \"yaxis\": \"y\"}, {\"hoverinfo\": \"text\", \"name\": \"\\uc6d4\\ub871\\uba74 \\uc5ec\", \"orientation\": \"h\", \"text\": [\"(\\uc5ec\\uc131) 0.012 | 0~4\\uc138\", \"(\\uc5ec\\uc131) 0.009 | 5~9\\uc138\", \"(\\uc5ec\\uc131) 0.015 | 10~14\\uc138\", \"(\\uc5ec\\uc131) 0.140 | 15~19\\uc138\", \"(\\uc5ec\\uc131) 0.341 | 20~24\\uc138\", \"(\\uc5ec\\uc131) 0.124 | 25~29\\uc138\", \"(\\uc5ec\\uc131) 0.033 | 30~34\\uc138\", \"(\\uc5ec\\uc131) 0.026 | 35~39\\uc138\", \"(\\uc5ec\\uc131) 0.032 | 40~44\\uc138\", \"(\\uc5ec\\uc131) 0.041 | 45~49\\uc138\", \"(\\uc5ec\\uc131) 0.049 | 50~54\\uc138\", \"(\\uc5ec\\uc131) 0.045 | 55~59\\uc138\", \"(\\uc5ec\\uc131) 0.028 | 60~64\\uc138\", \"(\\uc5ec\\uc131) 0.024 | 65~69\\uc138\", \"(\\uc5ec\\uc131) 0.027 | 70~74\\uc138\", \"(\\uc5ec\\uc131) 0.022 | 75~79\\uc138\", \"(\\uc5ec\\uc131) 0.013 | 80~84\\uc138\", \"(\\uc5ec\\uc131) 0.005 | 85~89\\uc138\", \"(\\uc5ec\\uc131) 0.003 | 90~94\\uc138\", \"(\\uc5ec\\uc131) 0.000 | 95~99\\uc138\", \"(\\uc5ec\\uc131) 0.000 | 100\\uc138 \\uc774\\uc0c1\"], \"type\": \"bar\", \"x\": [-0.012311227839789888, -0.009192383453709783, -0.015758371634931056, -0.14084044648719632, -0.34143138542350626, -0.12491792514773474, -0.03315824031516743, -0.02659225213394616, -0.0329940906106369, -0.04136572554169402, -0.04973736047275115, -0.04596191726854892, -0.028726198292843074, -0.024130006565988182, -0.027084701247537753, -0.02298095863427446, -0.013624425476034143, -0.005416940249507551, -0.003118844386080105, -0.00032829940906106366, -0.00032829940906106366], \"xaxis\": \"x\", \"y\": [\"0~4\\uc138\", \"5~9\\uc138\", \"10~14\\uc138\", \"15~19\\uc138\", \"20~24\\uc138\", \"25~29\\uc138\", \"30~34\\uc138\", \"35~39\\uc138\", \"40~44\\uc138\", \"45~49\\uc138\", \"50~54\\uc138\", \"55~59\\uc138\", \"60~64\\uc138\", \"65~69\\uc138\", \"70~74\\uc138\", \"75~79\\uc138\", \"80~84\\uc138\", \"85~89\\uc138\", \"90~94\\uc138\", \"95~99\\uc138\", \"100\\uc138 \\uc774\\uc0c1\"], \"yaxis\": \"y\"}, {\"hoverinfo\": \"text\", \"name\": \"\\uc9c4\\ubbf8\\ub3d9 \\ub0a8\", \"opacity\": 0.5, \"orientation\": \"h\", \"text\": [\"(\\ub0a8\\uc131) 0.048 | 0~4\\uc138\", \"(\\ub0a8\\uc131) 0.042 | 5~9\\uc138\", \"(\\ub0a8\\uc131) 0.041 | 10~14\\uc138\", \"(\\ub0a8\\uc131) 0.041 | 15~19\\uc138\", \"(\\ub0a8\\uc131) 0.097 | 20~24\\uc138\", \"(\\ub0a8\\uc131) 0.235 | 25~29\\uc138\", \"(\\ub0a8\\uc131) 0.183 | 30~34\\uc138\", \"(\\ub0a8\\uc131) 0.095 | 35~39\\uc138\", \"(\\ub0a8\\uc131) 0.076 | 40~44\\uc138\", \"(\\ub0a8\\uc131) 0.049 | 45~49\\uc138\", \"(\\ub0a8\\uc131) 0.038 | 50~54\\uc138\", \"(\\ub0a8\\uc131) 0.019 | 55~59\\uc138\", \"(\\ub0a8\\uc131) 0.012 | 60~64\\uc138\", \"(\\ub0a8\\uc131) 0.008 | 65~69\\uc138\", \"(\\ub0a8\\uc131) 0.005 | 70~74\\uc138\", \"(\\ub0a8\\uc131) 0.002 | 75~79\\uc138\", \"(\\ub0a8\\uc131) 0.000 | 80~84\\uc138\", \"(\\ub0a8\\uc131) 0.000 | 85~89\\uc138\", \"(\\ub0a8\\uc131) 0.0 | 90~94\\uc138\", \"(\\ub0a8\\uc131) 9.154 | 95~99\\uc138\", \"(\\ub0a8\\uc131) 0.0 | 100\\uc138 \\uc774\\uc0c1\"], \"type\": \"bar\", \"x\": [0.04861301840153804, 0.042112972626567796, 0.04156367298361256, 0.04183832280509018, 0.09795843632701638, 0.2354664469468095, 0.18337453080655497, 0.09502883823125514, 0.07635265037077726, 0.0497116176874485, 0.03808477524489609, 0.019957887027373434, 0.012084592145015106, 0.008147944703835943, 0.0055845463700448595, 0.002563398333791083, 0.0008239494644328481, 0.0006408495834477708, 0.0, 9.154994049253868e-05, 0.0], \"xaxis\": \"x\", \"y\": [\"0~4\\uc138\", \"5~9\\uc138\", \"10~14\\uc138\", \"15~19\\uc138\", \"20~24\\uc138\", \"25~29\\uc138\", \"30~34\\uc138\", \"35~39\\uc138\", \"40~44\\uc138\", \"45~49\\uc138\", \"50~54\\uc138\", \"55~59\\uc138\", \"60~64\\uc138\", \"65~69\\uc138\", \"70~74\\uc138\", \"75~79\\uc138\", \"80~84\\uc138\", \"85~89\\uc138\", \"90~94\\uc138\", \"95~99\\uc138\", \"100\\uc138 \\uc774\\uc0c1\"], \"yaxis\": \"y\"}, {\"hoverinfo\": \"text\", \"name\": \"\\uc9c4\\ubbf8\\ub3d9 \\uc5ec\", \"opacity\": 0.5, \"orientation\": \"h\", \"text\": [\"(\\uc5ec\\uc131) 0.045 | 0~4\\uc138\", \"(\\uc5ec\\uc131) 0.033 | 5~9\\uc138\", \"(\\uc5ec\\uc131) 0.037 | 10~14\\uc138\", \"(\\uc5ec\\uc131) 0.094 | 15~19\\uc138\", \"(\\uc5ec\\uc131) 0.213 | 20~24\\uc138\", \"(\\uc5ec\\uc131) 0.192 | 25~29\\uc138\", \"(\\uc5ec\\uc131) 0.112 | 30~34\\uc138\", \"(\\uc5ec\\uc131) 0.073 | 35~39\\uc138\", \"(\\uc5ec\\uc131) 0.058 | 40~44\\uc138\", \"(\\uc5ec\\uc131) 0.040 | 45~49\\uc138\", \"(\\uc5ec\\uc131) 0.035 | 50~54\\uc138\", \"(\\uc5ec\\uc131) 0.021 | 55~59\\uc138\", \"(\\uc5ec\\uc131) 0.012 | 60~64\\uc138\", \"(\\uc5ec\\uc131) 0.009 | 65~69\\uc138\", \"(\\uc5ec\\uc131) 0.007 | 70~74\\uc138\", \"(\\uc5ec\\uc131) 0.005 | 75~79\\uc138\", \"(\\uc5ec\\uc131) 0.003 | 80~84\\uc138\", \"(\\uc5ec\\uc131) 0.001 | 85~89\\uc138\", \"(\\uc5ec\\uc131) 0.000 | 90~94\\uc138\", \"(\\uc5ec\\uc131) 8.812 | 95~99\\uc138\", \"(\\uc5ec\\uc131) 0.0 | 100\\uc138 \\uc774\\uc0c1\"], \"type\": \"bar\", \"x\": [-0.045911173775114555, -0.0338385618611209, -0.037010927035600986, -0.09437786394078251, -0.213253436728939, -0.19236869933027848, -0.11209023616496298, -0.0739337328163553, -0.05868875572788156, -0.04044765597462108, -0.03560098695805428, -0.02167782869228058, -0.012072611913993656, -0.009340853013746916, -0.007666549171660204, -0.00537539654564681, -0.0038773352132534366, -0.0018505463517800493, -0.0005287275290800141, -8.812125484666901e-05, -0.0], \"xaxis\": \"x\", \"y\": [\"0~4\\uc138\", \"5~9\\uc138\", \"10~14\\uc138\", \"15~19\\uc138\", \"20~24\\uc138\", \"25~29\\uc138\", \"30~34\\uc138\", \"35~39\\uc138\", \"40~44\\uc138\", \"45~49\\uc138\", \"50~54\\uc138\", \"55~59\\uc138\", \"60~64\\uc138\", \"65~69\\uc138\", \"70~74\\uc138\", \"75~79\\uc138\", \"80~84\\uc138\", \"85~89\\uc138\", \"90~94\\uc138\", \"95~99\\uc138\", \"100\\uc138 \\uc774\\uc0c1\"], \"yaxis\": \"y\"}, {\"hoverinfo\": \"text\", \"name\": \"\\uc6d4\\ub871\\uba74 \\ub0a8\", \"orientation\": \"h\", \"text\": [\"(\\ub0a8\\uc131) 0.010 | 0~4\\uc138\", \"(\\ub0a8\\uc131) 0.009 | 5~9\\uc138\", \"(\\ub0a8\\uc131) 0.012 | 10~14\\uc138\", \"(\\ub0a8\\uc131) 0.020 | 15~19\\uc138\", \"(\\ub0a8\\uc131) 0.165 | 20~24\\uc138\", \"(\\ub0a8\\uc131) 0.405 | 25~29\\uc138\", \"(\\ub0a8\\uc131) 0.110 | 30~34\\uc138\", \"(\\ub0a8\\uc131) 0.036 | 35~39\\uc138\", \"(\\ub0a8\\uc131) 0.035 | 40~44\\uc138\", \"(\\ub0a8\\uc131) 0.036 | 45~49\\uc138\", \"(\\ub0a8\\uc131) 0.050 | 50~54\\uc138\", \"(\\ub0a8\\uc131) 0.034 | 55~59\\uc138\", \"(\\ub0a8\\uc131) 0.023 | 60~64\\uc138\", \"(\\ub0a8\\uc131) 0.016 | 65~69\\uc138\", \"(\\ub0a8\\uc131) 0.014 | 70~74\\uc138\", \"(\\ub0a8\\uc131) 0.010 | 75~79\\uc138\", \"(\\ub0a8\\uc131) 0.005 | 80~84\\uc138\", \"(\\ub0a8\\uc131) 0.001 | 85~89\\uc138\", \"(\\ub0a8\\uc131) 0.000 | 90~94\\uc138\", \"(\\ub0a8\\uc131) 0.000 | 95~99\\uc138\", \"(\\ub0a8\\uc131) 0.000 | 100\\uc138 \\uc774\\uc0c1\"], \"type\": \"bar\", \"x\": [0.010468257541647907, 0.009680324178298064, 0.012156686177397569, 0.020823953174245836, 0.16535344439441693, 0.405110310670869, 0.11031067086897794, 0.03692030616839262, 0.03545700135074291, 0.03601981089599279, 0.050315173345339935, 0.034218820351193155, 0.02341287708239532, 0.01654660063034669, 0.014858171994597028, 0.010468257541647907, 0.005290409725348942, 0.0016884286357496624, 0.0005628095452498874, 0.00022512381809995497, 0.00011256190904997749], \"xaxis\": \"x2\", \"y\": [\"0~4\\uc138\", \"5~9\\uc138\", \"10~14\\uc138\", \"15~19\\uc138\", \"20~24\\uc138\", \"25~29\\uc138\", \"30~34\\uc138\", \"35~39\\uc138\", \"40~44\\uc138\", \"45~49\\uc138\", \"50~54\\uc138\", \"55~59\\uc138\", \"60~64\\uc138\", \"65~69\\uc138\", \"70~74\\uc138\", \"75~79\\uc138\", \"80~84\\uc138\", \"85~89\\uc138\", \"90~94\\uc138\", \"95~99\\uc138\", \"100\\uc138 \\uc774\\uc0c1\"], \"yaxis\": \"y2\"}, {\"hoverinfo\": \"text\", \"name\": \"\\uc6d4\\ub871\\uba74 \\uc5ec\", \"orientation\": \"h\", \"text\": [\"(\\uc5ec\\uc131) 0.012 | 0~4\\uc138\", \"(\\uc5ec\\uc131) 0.009 | 5~9\\uc138\", \"(\\uc5ec\\uc131) 0.015 | 10~14\\uc138\", \"(\\uc5ec\\uc131) 0.140 | 15~19\\uc138\", \"(\\uc5ec\\uc131) 0.341 | 20~24\\uc138\", \"(\\uc5ec\\uc131) 0.124 | 25~29\\uc138\", \"(\\uc5ec\\uc131) 0.033 | 30~34\\uc138\", \"(\\uc5ec\\uc131) 0.026 | 35~39\\uc138\", \"(\\uc5ec\\uc131) 0.032 | 40~44\\uc138\", \"(\\uc5ec\\uc131) 0.041 | 45~49\\uc138\", \"(\\uc5ec\\uc131) 0.049 | 50~54\\uc138\", \"(\\uc5ec\\uc131) 0.045 | 55~59\\uc138\", \"(\\uc5ec\\uc131) 0.028 | 60~64\\uc138\", \"(\\uc5ec\\uc131) 0.024 | 65~69\\uc138\", \"(\\uc5ec\\uc131) 0.027 | 70~74\\uc138\", \"(\\uc5ec\\uc131) 0.022 | 75~79\\uc138\", \"(\\uc5ec\\uc131) 0.013 | 80~84\\uc138\", \"(\\uc5ec\\uc131) 0.005 | 85~89\\uc138\", \"(\\uc5ec\\uc131) 0.003 | 90~94\\uc138\", \"(\\uc5ec\\uc131) 0.000 | 95~99\\uc138\", \"(\\uc5ec\\uc131) 0.000 | 100\\uc138 \\uc774\\uc0c1\"], \"type\": \"bar\", \"x\": [-0.012311227839789888, -0.009192383453709783, -0.015758371634931056, -0.14084044648719632, -0.34143138542350626, -0.12491792514773474, -0.03315824031516743, -0.02659225213394616, -0.0329940906106369, -0.04136572554169402, -0.04973736047275115, -0.04596191726854892, -0.028726198292843074, -0.024130006565988182, -0.027084701247537753, -0.02298095863427446, -0.013624425476034143, -0.005416940249507551, -0.003118844386080105, -0.00032829940906106366, -0.00032829940906106366], \"xaxis\": \"x2\", \"y\": [\"0~4\\uc138\", \"5~9\\uc138\", \"10~14\\uc138\", \"15~19\\uc138\", \"20~24\\uc138\", \"25~29\\uc138\", \"30~34\\uc138\", \"35~39\\uc138\", \"40~44\\uc138\", \"45~49\\uc138\", \"50~54\\uc138\", \"55~59\\uc138\", \"60~64\\uc138\", \"65~69\\uc138\", \"70~74\\uc138\", \"75~79\\uc138\", \"80~84\\uc138\", \"85~89\\uc138\", \"90~94\\uc138\", \"95~99\\uc138\", \"100\\uc138 \\uc774\\uc0c1\"], \"yaxis\": \"y2\"}, {\"hoverinfo\": \"text\", \"name\": \"\\uadfc\\ubd81\\uba74 \\ub0a8\", \"opacity\": 0.5, \"orientation\": \"h\", \"text\": [\"(\\ub0a8\\uc131) 0.016 | 0~4\\uc138\", \"(\\ub0a8\\uc131) 0.032 | 5~9\\uc138\", \"(\\ub0a8\\uc131) 0.016 | 10~14\\uc138\", \"(\\ub0a8\\uc131) 0.0 | 15~19\\uc138\", \"(\\ub0a8\\uc131) 0.016 | 20~24\\uc138\", \"(\\ub0a8\\uc131) 0.064 | 25~29\\uc138\", \"(\\ub0a8\\uc131) 0.016 | 30~34\\uc138\", \"(\\ub0a8\\uc131) 0.096 | 35~39\\uc138\", \"(\\ub0a8\\uc131) 0.080 | 40~44\\uc138\", \"(\\ub0a8\\uc131) 0.048 | 45~49\\uc138\", \"(\\ub0a8\\uc131) 0.048 | 50~54\\uc138\", \"(\\ub0a8\\uc131) 0.032 | 55~59\\uc138\", \"(\\ub0a8\\uc131) 0.048 | 60~64\\uc138\", \"(\\ub0a8\\uc131) 0.177 | 65~69\\uc138\", \"(\\ub0a8\\uc131) 0.177 | 70~74\\uc138\", \"(\\ub0a8\\uc131) 0.064 | 75~79\\uc138\", \"(\\ub0a8\\uc131) 0.064 | 80~84\\uc138\", \"(\\ub0a8\\uc131) 0.0 | 85~89\\uc138\", \"(\\ub0a8\\uc131) 0.0 | 90~94\\uc138\", \"(\\ub0a8\\uc131) 0.0 | 95~99\\uc138\", \"(\\ub0a8\\uc131) 0.0 | 100\\uc138 \\uc774\\uc0c1\"], \"type\": \"bar\", \"x\": [0.016129032258064516, 0.03225806451612903, 0.016129032258064516, 0.0, 0.016129032258064516, 0.06451612903225806, 0.016129032258064516, 0.0967741935483871, 0.08064516129032258, 0.04838709677419355, 0.04838709677419355, 0.03225806451612903, 0.04838709677419355, 0.1774193548387097, 0.1774193548387097, 0.06451612903225806, 0.06451612903225806, 0.0, 0.0, 0.0, 0.0], \"xaxis\": \"x2\", \"y\": [\"0~4\\uc138\", \"5~9\\uc138\", \"10~14\\uc138\", \"15~19\\uc138\", \"20~24\\uc138\", \"25~29\\uc138\", \"30~34\\uc138\", \"35~39\\uc138\", \"40~44\\uc138\", \"45~49\\uc138\", \"50~54\\uc138\", \"55~59\\uc138\", \"60~64\\uc138\", \"65~69\\uc138\", \"70~74\\uc138\", \"75~79\\uc138\", \"80~84\\uc138\", \"85~89\\uc138\", \"90~94\\uc138\", \"95~99\\uc138\", \"100\\uc138 \\uc774\\uc0c1\"], \"yaxis\": \"y2\"}, {\"hoverinfo\": \"text\", \"name\": \"\\uadfc\\ubd81\\uba74 \\uc5ec\", \"opacity\": 0.5, \"orientation\": \"h\", \"text\": [\"(\\uc5ec\\uc131) 0.033 | 0~4\\uc138\", \"(\\uc5ec\\uc131) 0.0 | 5~9\\uc138\", \"(\\uc5ec\\uc131) 0.0 | 10~14\\uc138\", \"(\\uc5ec\\uc131) 0.033 | 15~19\\uc138\", \"(\\uc5ec\\uc131) 0.016 | 20~24\\uc138\", \"(\\uc5ec\\uc131) 0.016 | 25~29\\uc138\", \"(\\uc5ec\\uc131) 0.016 | 30~34\\uc138\", \"(\\uc5ec\\uc131) 0.016 | 35~39\\uc138\", \"(\\uc5ec\\uc131) 0.033 | 40~44\\uc138\", \"(\\uc5ec\\uc131) 0.016 | 45~49\\uc138\", \"(\\uc5ec\\uc131) 0.066 | 50~54\\uc138\", \"(\\uc5ec\\uc131) 0.15 | 55~59\\uc138\", \"(\\uc5ec\\uc131) 0.083 | 60~64\\uc138\", \"(\\uc5ec\\uc131) 0.216 | 65~69\\uc138\", \"(\\uc5ec\\uc131) 0.233 | 70~74\\uc138\", \"(\\uc5ec\\uc131) 0.05 | 75~79\\uc138\", \"(\\uc5ec\\uc131) 0.016 | 80~84\\uc138\", \"(\\uc5ec\\uc131) 0.0 | 85~89\\uc138\", \"(\\uc5ec\\uc131) 0.0 | 90~94\\uc138\", \"(\\uc5ec\\uc131) 0.0 | 95~99\\uc138\", \"(\\uc5ec\\uc131) 0.0 | 100\\uc138 \\uc774\\uc0c1\"], \"type\": \"bar\", \"x\": [-0.03333333333333333, -0.0, -0.0, -0.03333333333333333, -0.016666666666666666, -0.016666666666666666, -0.016666666666666666, -0.016666666666666666, -0.03333333333333333, -0.016666666666666666, -0.06666666666666667, -0.15, -0.08333333333333333, -0.21666666666666667, -0.23333333333333334, -0.05, -0.016666666666666666, -0.0, -0.0, -0.0, -0.0], \"xaxis\": \"x2\", \"y\": [\"0~4\\uc138\", \"5~9\\uc138\", \"10~14\\uc138\", \"15~19\\uc138\", \"20~24\\uc138\", \"25~29\\uc138\", \"30~34\\uc138\", \"35~39\\uc138\", \"40~44\\uc138\", \"45~49\\uc138\", \"50~54\\uc138\", \"55~59\\uc138\", \"60~64\\uc138\", \"65~69\\uc138\", \"70~74\\uc138\", \"75~79\\uc138\", \"80~84\\uc138\", \"85~89\\uc138\", \"90~94\\uc138\", \"95~99\\uc138\", \"100\\uc138 \\uc774\\uc0c1\"], \"yaxis\": \"y2\"}],\n",
              "                        {\"annotations\": [{\"font\": {\"size\": 16}, \"showarrow\": false, \"text\": \"\\uacbd\\uae30\\ub3c4 \\ud30c\\uc8fc\\uc2dc \\uc6d4\\ub871\\uba74 \\u2252  \\uacbd\\uc0c1\\ubd81\\ub3c4 \\uad6c\\ubbf8\\uc2dc \\uc9c4\\ubbf8\\ub3d9\", \"x\": 0.225, \"xanchor\": \"center\", \"xref\": \"paper\", \"y\": 1.0, \"yanchor\": \"bottom\", \"yref\": \"paper\"}, {\"font\": {\"size\": 16}, \"showarrow\": false, \"text\": \"\\uacbd\\uae30\\ub3c4 \\ud30c\\uc8fc\\uc2dc \\uc6d4\\ub871\\uba74 \\u2260  \\uac15\\uc6d0\\ub3c4 \\ucca0\\uc6d0\\uad70 \\uadfc\\ubd81\\uba74\", \"x\": 0.775, \"xanchor\": \"center\", \"xref\": \"paper\", \"y\": 1.0, \"yanchor\": \"bottom\", \"yref\": \"paper\"}], \"bargap\": 0.1, \"barmode\": \"overlay\", \"template\": {\"data\": {\"bar\": [{\"error_x\": {\"color\": \"#2a3f5f\"}, \"error_y\": {\"color\": \"#2a3f5f\"}, \"marker\": {\"line\": {\"color\": \"#E5ECF6\", \"width\": 0.5}}, \"type\": \"bar\"}], \"barpolar\": [{\"marker\": {\"line\": {\"color\": \"#E5ECF6\", \"width\": 0.5}}, \"type\": \"barpolar\"}], \"carpet\": [{\"aaxis\": {\"endlinecolor\": \"#2a3f5f\", \"gridcolor\": \"white\", \"linecolor\": \"white\", \"minorgridcolor\": \"white\", \"startlinecolor\": \"#2a3f5f\"}, \"baxis\": {\"endlinecolor\": \"#2a3f5f\", \"gridcolor\": \"white\", \"linecolor\": \"white\", \"minorgridcolor\": \"white\", \"startlinecolor\": \"#2a3f5f\"}, \"type\": \"carpet\"}], \"choropleth\": [{\"colorbar\": {\"outlinewidth\": 0, \"ticks\": \"\"}, \"type\": \"choropleth\"}], \"contour\": [{\"colorbar\": {\"outlinewidth\": 0, \"ticks\": \"\"}, \"colorscale\": [[0.0, \"#0d0887\"], [0.1111111111111111, \"#46039f\"], [0.2222222222222222, \"#7201a8\"], [0.3333333333333333, \"#9c179e\"], [0.4444444444444444, \"#bd3786\"], [0.5555555555555556, \"#d8576b\"], [0.6666666666666666, \"#ed7953\"], [0.7777777777777778, \"#fb9f3a\"], [0.8888888888888888, \"#fdca26\"], [1.0, \"#f0f921\"]], \"type\": \"contour\"}], \"contourcarpet\": [{\"colorbar\": {\"outlinewidth\": 0, \"ticks\": \"\"}, \"type\": \"contourcarpet\"}], \"heatmap\": [{\"colorbar\": {\"outlinewidth\": 0, \"ticks\": \"\"}, \"colorscale\": [[0.0, \"#0d0887\"], [0.1111111111111111, \"#46039f\"], [0.2222222222222222, \"#7201a8\"], [0.3333333333333333, \"#9c179e\"], [0.4444444444444444, \"#bd3786\"], [0.5555555555555556, \"#d8576b\"], [0.6666666666666666, \"#ed7953\"], [0.7777777777777778, \"#fb9f3a\"], [0.8888888888888888, \"#fdca26\"], [1.0, \"#f0f921\"]], \"type\": \"heatmap\"}], \"heatmapgl\": [{\"colorbar\": {\"outlinewidth\": 0, \"ticks\": \"\"}, \"colorscale\": [[0.0, \"#0d0887\"], [0.1111111111111111, \"#46039f\"], [0.2222222222222222, \"#7201a8\"], [0.3333333333333333, \"#9c179e\"], [0.4444444444444444, \"#bd3786\"], [0.5555555555555556, \"#d8576b\"], [0.6666666666666666, \"#ed7953\"], [0.7777777777777778, \"#fb9f3a\"], [0.8888888888888888, \"#fdca26\"], [1.0, \"#f0f921\"]], \"type\": \"heatmapgl\"}], \"histogram\": [{\"marker\": {\"colorbar\": {\"outlinewidth\": 0, \"ticks\": \"\"}}, \"type\": \"histogram\"}], \"histogram2d\": [{\"colorbar\": {\"outlinewidth\": 0, \"ticks\": \"\"}, \"colorscale\": [[0.0, \"#0d0887\"], [0.1111111111111111, \"#46039f\"], [0.2222222222222222, \"#7201a8\"], [0.3333333333333333, \"#9c179e\"], [0.4444444444444444, \"#bd3786\"], [0.5555555555555556, \"#d8576b\"], [0.6666666666666666, \"#ed7953\"], [0.7777777777777778, \"#fb9f3a\"], [0.8888888888888888, \"#fdca26\"], [1.0, \"#f0f921\"]], \"type\": \"histogram2d\"}], \"histogram2dcontour\": [{\"colorbar\": {\"outlinewidth\": 0, \"ticks\": \"\"}, \"colorscale\": [[0.0, \"#0d0887\"], [0.1111111111111111, \"#46039f\"], [0.2222222222222222, \"#7201a8\"], [0.3333333333333333, \"#9c179e\"], [0.4444444444444444, \"#bd3786\"], [0.5555555555555556, \"#d8576b\"], [0.6666666666666666, \"#ed7953\"], [0.7777777777777778, \"#fb9f3a\"], [0.8888888888888888, \"#fdca26\"], [1.0, \"#f0f921\"]], \"type\": \"histogram2dcontour\"}], \"mesh3d\": [{\"colorbar\": {\"outlinewidth\": 0, \"ticks\": \"\"}, \"type\": \"mesh3d\"}], \"parcoords\": [{\"line\": {\"colorbar\": {\"outlinewidth\": 0, \"ticks\": \"\"}}, \"type\": \"parcoords\"}], \"pie\": [{\"automargin\": true, \"type\": \"pie\"}], \"scatter\": [{\"marker\": {\"colorbar\": {\"outlinewidth\": 0, \"ticks\": \"\"}}, \"type\": \"scatter\"}], \"scatter3d\": [{\"line\": {\"colorbar\": {\"outlinewidth\": 0, \"ticks\": \"\"}}, \"marker\": {\"colorbar\": {\"outlinewidth\": 0, \"ticks\": \"\"}}, \"type\": \"scatter3d\"}], \"scattercarpet\": [{\"marker\": {\"colorbar\": {\"outlinewidth\": 0, \"ticks\": \"\"}}, \"type\": \"scattercarpet\"}], \"scattergeo\": [{\"marker\": {\"colorbar\": {\"outlinewidth\": 0, \"ticks\": \"\"}}, \"type\": \"scattergeo\"}], \"scattergl\": [{\"marker\": {\"colorbar\": {\"outlinewidth\": 0, \"ticks\": \"\"}}, \"type\": \"scattergl\"}], \"scattermapbox\": [{\"marker\": {\"colorbar\": {\"outlinewidth\": 0, \"ticks\": \"\"}}, \"type\": \"scattermapbox\"}], \"scatterpolar\": [{\"marker\": {\"colorbar\": {\"outlinewidth\": 0, \"ticks\": \"\"}}, \"type\": \"scatterpolar\"}], \"scatterpolargl\": [{\"marker\": {\"colorbar\": {\"outlinewidth\": 0, \"ticks\": \"\"}}, \"type\": \"scatterpolargl\"}], \"scatterternary\": [{\"marker\": {\"colorbar\": {\"outlinewidth\": 0, \"ticks\": \"\"}}, \"type\": \"scatterternary\"}], \"surface\": [{\"colorbar\": {\"outlinewidth\": 0, \"ticks\": \"\"}, \"colorscale\": [[0.0, \"#0d0887\"], [0.1111111111111111, \"#46039f\"], [0.2222222222222222, \"#7201a8\"], [0.3333333333333333, \"#9c179e\"], [0.4444444444444444, \"#bd3786\"], [0.5555555555555556, \"#d8576b\"], [0.6666666666666666, \"#ed7953\"], [0.7777777777777778, \"#fb9f3a\"], [0.8888888888888888, \"#fdca26\"], [1.0, \"#f0f921\"]], \"type\": \"surface\"}], \"table\": [{\"cells\": {\"fill\": {\"color\": \"#EBF0F8\"}, \"line\": {\"color\": \"white\"}}, \"header\": {\"fill\": {\"color\": \"#C8D4E3\"}, \"line\": {\"color\": \"white\"}}, \"type\": \"table\"}]}, \"layout\": {\"annotationdefaults\": {\"arrowcolor\": \"#2a3f5f\", \"arrowhead\": 0, \"arrowwidth\": 1}, \"coloraxis\": {\"colorbar\": {\"outlinewidth\": 0, \"ticks\": \"\"}}, \"colorscale\": {\"diverging\": [[0, \"#8e0152\"], [0.1, \"#c51b7d\"], [0.2, \"#de77ae\"], [0.3, \"#f1b6da\"], [0.4, \"#fde0ef\"], [0.5, \"#f7f7f7\"], [0.6, \"#e6f5d0\"], [0.7, \"#b8e186\"], [0.8, \"#7fbc41\"], [0.9, \"#4d9221\"], [1, \"#276419\"]], \"sequential\": [[0.0, \"#0d0887\"], [0.1111111111111111, \"#46039f\"], [0.2222222222222222, \"#7201a8\"], [0.3333333333333333, \"#9c179e\"], [0.4444444444444444, \"#bd3786\"], [0.5555555555555556, \"#d8576b\"], [0.6666666666666666, \"#ed7953\"], [0.7777777777777778, \"#fb9f3a\"], [0.8888888888888888, \"#fdca26\"], [1.0, \"#f0f921\"]], \"sequentialminus\": [[0.0, \"#0d0887\"], [0.1111111111111111, \"#46039f\"], [0.2222222222222222, \"#7201a8\"], [0.3333333333333333, \"#9c179e\"], [0.4444444444444444, \"#bd3786\"], [0.5555555555555556, \"#d8576b\"], [0.6666666666666666, \"#ed7953\"], [0.7777777777777778, \"#fb9f3a\"], [0.8888888888888888, \"#fdca26\"], [1.0, \"#f0f921\"]]}, \"colorway\": [\"#636efa\", \"#EF553B\", \"#00cc96\", \"#ab63fa\", \"#FFA15A\", \"#19d3f3\", \"#FF6692\", \"#B6E880\", \"#FF97FF\", \"#FECB52\"], \"font\": {\"color\": \"#2a3f5f\"}, \"geo\": {\"bgcolor\": \"white\", \"lakecolor\": \"white\", \"landcolor\": \"#E5ECF6\", \"showlakes\": true, \"showland\": true, \"subunitcolor\": \"white\"}, \"hoverlabel\": {\"align\": \"left\"}, \"hovermode\": \"closest\", \"mapbox\": {\"style\": \"light\"}, \"paper_bgcolor\": \"white\", \"plot_bgcolor\": \"#E5ECF6\", \"polar\": {\"angularaxis\": {\"gridcolor\": \"white\", \"linecolor\": \"white\", \"ticks\": \"\"}, \"bgcolor\": \"#E5ECF6\", \"radialaxis\": {\"gridcolor\": \"white\", \"linecolor\": \"white\", \"ticks\": \"\"}}, \"scene\": {\"xaxis\": {\"backgroundcolor\": \"#E5ECF6\", \"gridcolor\": \"white\", \"gridwidth\": 2, \"linecolor\": \"white\", \"showbackground\": true, \"ticks\": \"\", \"zerolinecolor\": \"white\"}, \"yaxis\": {\"backgroundcolor\": \"#E5ECF6\", \"gridcolor\": \"white\", \"gridwidth\": 2, \"linecolor\": \"white\", \"showbackground\": true, \"ticks\": \"\", \"zerolinecolor\": \"white\"}, \"zaxis\": {\"backgroundcolor\": \"#E5ECF6\", \"gridcolor\": \"white\", \"gridwidth\": 2, \"linecolor\": \"white\", \"showbackground\": true, \"ticks\": \"\", \"zerolinecolor\": \"white\"}}, \"shapedefaults\": {\"line\": {\"color\": \"#2a3f5f\"}}, \"ternary\": {\"aaxis\": {\"gridcolor\": \"white\", \"linecolor\": \"white\", \"ticks\": \"\"}, \"baxis\": {\"gridcolor\": \"white\", \"linecolor\": \"white\", \"ticks\": \"\"}, \"bgcolor\": \"#E5ECF6\", \"caxis\": {\"gridcolor\": \"white\", \"linecolor\": \"white\", \"ticks\": \"\"}}, \"title\": {\"x\": 0.05}, \"xaxis\": {\"automargin\": true, \"gridcolor\": \"white\", \"linecolor\": \"white\", \"ticks\": \"\", \"title\": {\"standoff\": 15}, \"zerolinecolor\": \"white\", \"zerolinewidth\": 2}, \"yaxis\": {\"automargin\": true, \"gridcolor\": \"white\", \"linecolor\": \"white\", \"ticks\": \"\", \"title\": {\"standoff\": 15}, \"zerolinecolor\": \"white\", \"zerolinewidth\": 2}}}, \"title\": {\"font\": {\"size\": 20}, \"text\": \"\\uacbd\\uae30\\ub3c4 \\ud30c\\uc8fc\\uc2dc \\uc6d4\\ub871\\uba74\\uc758 \\uc778\\uad6c\\uad6c\\uc870 \\ube44\\uad50\"}, \"xaxis\": {\"anchor\": \"y\", \"domain\": [0.0, 0.45], \"ticktext\": [\"0.16\", \"0.1\", \"0.05\", \"0\", \"0.05\", \"0.1\", \"0.16\"], \"tickvals\": [-0.16, -0.1, -0.05, 0, 0.05, 0.1, 0.16]}, \"xaxis2\": {\"anchor\": \"y2\", \"domain\": [0.55, 1.0], \"ticktext\": [\"0.16\", \"0.1\", \"0.05\", \"0\", \"0.05\", \"0.1\", \"0.16\"], \"tickvals\": [-0.16, -0.1, -0.05, 0, 0.05, 0.1, 0.16]}, \"yaxis\": {\"anchor\": \"x\", \"domain\": [0.0, 1.0]}, \"yaxis2\": {\"anchor\": \"x2\", \"domain\": [0.0, 1.0]}},\n",
              "                        {\"responsive\": true}\n",
              "                    ).then(function(){\n",
              "                            \n",
              "var gd = document.getElementById('851f1cec-6efc-435e-b9cf-053bc354cb9d');\n",
              "var x = new MutationObserver(function (mutations, observer) {{\n",
              "        var display = window.getComputedStyle(gd).display;\n",
              "        if (!display || display === 'none') {{\n",
              "            console.log([gd, 'removed!']);\n",
              "            Plotly.purge(gd);\n",
              "            observer.disconnect();\n",
              "        }}\n",
              "}});\n",
              "\n",
              "// Listen for the removal of the full notebook cells\n",
              "var notebookContainer = gd.closest('#notebook-container');\n",
              "if (notebookContainer) {{\n",
              "    x.observe(notebookContainer, {childList: true});\n",
              "}}\n",
              "\n",
              "// Listen for the clearing of the current output cell\n",
              "var outputEl = gd.closest('.output');\n",
              "if (outputEl) {{\n",
              "    x.observe(outputEl, {childList: true});\n",
              "}}\n",
              "\n",
              "                        })\n",
              "                };\n",
              "                \n",
              "            </script>\n",
              "        </div>\n",
              "</body>\n",
              "</html>"
            ]
          },
          "metadata": {}
        }
      ]
    }
  ]
}