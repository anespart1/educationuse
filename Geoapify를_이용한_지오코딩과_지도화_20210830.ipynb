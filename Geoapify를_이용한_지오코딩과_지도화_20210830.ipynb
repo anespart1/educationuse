{
  "nbformat": 4,
  "nbformat_minor": 0,
  "metadata": {
    "colab": {
      "name": "Geoapify를 이용한 지오코딩과 지도화_20210830.ipynb",
      "provenance": [],
      "collapsed_sections": [
        "JC0QROP9SRCC"
      ],
      "authorship_tag": "ABX9TyNnJ6CIdPHqKhLlOXX4oSTZ",
      "include_colab_link": true
    },
    "kernelspec": {
      "display_name": "Python 3",
      "name": "python3"
    },
    "language_info": {
      "name": "python"
    }
  },
  "cells": [
    {
      "cell_type": "markdown",
      "metadata": {
        "id": "view-in-github",
        "colab_type": "text"
      },
      "source": [
        "<a href=\"https://colab.research.google.com/github/anespart1/educationuse/blob/main/Geoapify%EB%A5%BC_%EC%9D%B4%EC%9A%A9%ED%95%9C_%EC%A7%80%EC%98%A4%EC%BD%94%EB%94%A9%EA%B3%BC_%EC%A7%80%EB%8F%84%ED%99%94_20210830.ipynb\" target=\"_parent\"><img src=\"https://colab.research.google.com/assets/colab-badge.svg\" alt=\"Open In Colab\"/></a>"
      ]
    },
    {
      "cell_type": "markdown",
      "metadata": {
        "id": "2AL2F2uJDLQX"
      },
      "source": [
        "#공간네트워크 시각화1(feat. Geoapify Geocoding API 서비스)"
      ]
    },
    {
      "cell_type": "code",
      "metadata": {
        "id": "5lS5WUbNEHWe"
      },
      "source": [
        "import requests\n",
        "import json\n",
        "from requests.structures import CaseInsensitiveDict\n",
        "import urllib\n",
        "import folium\n",
        "from folium.plugins import *\n",
        "import pandas as pd"
      ],
      "execution_count": 31,
      "outputs": []
    },
    {
      "cell_type": "markdown",
      "metadata": {
        "id": "l2LthS8yJcPq"
      },
      "source": [
        "##이름이나 주소값으로 위치값 알아내기(지오코딩, Geocoding)"
      ]
    },
    {
      "cell_type": "markdown",
      "metadata": {
        "id": "JC0QROP9SRCC"
      },
      "source": [
        "### 사용된 코드(숨김)"
      ]
    },
    {
      "cell_type": "code",
      "metadata": {
        "id": "5a9oiaPOD6iJ"
      },
      "source": [
        "#Geoapify API 서비스를 사용해 지오코딩 하기(느림)\n",
        "def Geoapify_geocoding(data=None, search_rowname=None, alam_off='y', report='y', apikey='d079ec0e5b1a4c3d9b4301d3618abfb4'):\n",
        "  # 경고(SettingWithCopyWarning 발생, 기본 값)를 켜고 끄는 기능\n",
        "  if alam_off != 'y':\n",
        "    pd.set_option('mode.chained_assignment', 'warn') # SettingWithCopyWarning\n",
        "  else:\n",
        "    pd.set_option('mode.chained_assignment',  None) # <==== 경고를 끈다\n",
        "  #사전 준비\n",
        "  names, lats, lons, addresses, postcodes, counties, country_codes, result_types, sources, match_types = [], [], [], [], [], [], [], [], [], []\n",
        "  for num, each in enumerate(data[search_rowname]):\n",
        "    \n",
        "    url = \"https://api.geoapify.com/v1/geocode/search?text={}&apiKey={}\".format(each, apikey)\n",
        "    headers = CaseInsensitiveDict()\n",
        "    headers[\"Accept\"] = \"application/json\"\n",
        "    resp = requests.get(url, headers=headers)\n",
        "    statcode = resp.status_code\n",
        "    resp_data = resp.json()\n",
        "    \n",
        "    if statcode == 200 and len(resp_data['features']) > 0:\n",
        "      re_data = resp_data['features'][0]['properties']\n",
        "      try:\n",
        "        names.append(re_data['name'])\n",
        "      except:\n",
        "        names.append('')\n",
        "      try:\n",
        "        lats.append(re_data['lat'])\n",
        "      except:\n",
        "        lats.append(0.0)\n",
        "      try:\n",
        "        lons.append(re_data['lon'])\n",
        "      except:\n",
        "        lons.append(0.0)\n",
        "      try:\n",
        "        addresses.append(re_data['address_line2'])\n",
        "      except:\n",
        "        addresses.append('')\n",
        "      try:\n",
        "        postcodes.append(re_data['address_line2'])\n",
        "      except:\n",
        "        postcodes.append('')\n",
        "      try:\n",
        "        counties.append(re_data['county'])\n",
        "      except:\n",
        "        counties.append('')\n",
        "      try:\n",
        "        country_codes.append(re_data['country_code'])\n",
        "      except:\n",
        "        country_codes.append('')\n",
        "      try:\n",
        "        result_types.append(re_data['result_type'])\n",
        "      except:\n",
        "        result_types.append('')\n",
        "      try:\n",
        "        sources.append(re_data['datasource']['sourcename'])\n",
        "      except:\n",
        "        sources.append('')\n",
        "      try:\n",
        "        match_types.append(re_data['rank']['match_type'])\n",
        "      except:\n",
        "        match_types.append('')\n",
        "    else:\n",
        "      names.append('')\n",
        "      lats.append(0.0)\n",
        "      lons.append(0.0)\n",
        "      addresses.append('')\n",
        "      postcodes.append('')\n",
        "      counties.append('')\n",
        "      country_codes.append('')\n",
        "      result_types.append('')\n",
        "      sources.append('')\n",
        "      match_types.append('')\n",
        "      if report == 'y':\n",
        "        print('\"{}\" 를 찾지 못했습니다'.format(each))\n",
        "  \n",
        "  data['검색결과'] = names\n",
        "  data['Y'] = lats\n",
        "  data['X'] = lons\n",
        "  data['찾은주소'] = addresses\n",
        "  data['우편번호'] = postcodes\n",
        "  data['시도'] = counties\n",
        "  data['국가코드'] = country_codes\n",
        "  data['구분'] = result_types\n",
        "  data['소스데이터'] = sources\n",
        "  data['정확도'] = match_types\n",
        "  return data"
      ],
      "execution_count": 21,
      "outputs": []
    },
    {
      "cell_type": "code",
      "metadata": {
        "id": "LmeFmfhQQQAu"
      },
      "source": [
        "def spatial_visualizing(data=None, zoom= 7, xcor_name=None, ycor_name=None, \n",
        "                        minimap=True, measure=True, position=True, fullscrean=True):\n",
        "  m = folium.Map(location=[data[ycor_name].mean(), data[xcor_name].mean()], zoom_start=zoom,\n",
        "                 control_scale=True) #스케일바 추가\n",
        "  #지도 타일 종류 추가\n",
        "  for i in ['Stamen Terrain', 'Stamen Water Color', 'cartodbpositron']:\n",
        "    folium.TileLayer(i).add_to(m)\n",
        "  \n",
        "  #Heatmap 추가\n",
        "  heatmap = HeatMap(zip(data['Y'].values.tolist(), data['X'].values.tolist()),\n",
        "                    name='Density', radius=22, min_opacity=0.28)\n",
        "  m.add_child(heatmap)\n",
        "\n",
        "  #미니맵 추가\n",
        "  if minimap==True:\n",
        "    m.add_child(MiniMap())\n",
        "\n",
        "  #거리측량기 추가\n",
        "  if measure==True:\n",
        "    m.add_child(MeasureControl())\n",
        "\n",
        "  #좌표기 추가\n",
        "  if position==True:\n",
        "    MousePosition(prefix='경위도 좌표:').add_to(m)\n",
        "\n",
        "  #전체화면모드 추가\n",
        "  if fullscrean==True:\n",
        "    Fullscreen(title='전체화면', title_cancel='돌아가기', force_separate_button=True).add_to(m)\n",
        "\n",
        "  return m"
      ],
      "execution_count": 29,
      "outputs": []
    },
    {
      "cell_type": "markdown",
      "metadata": {
        "id": "xCOUfEAASfzi"
      },
      "source": [
        "###코드 실행부(Ctrl+F10)"
      ]
    },
    {
      "cell_type": "markdown",
      "metadata": {
        "id": "wIs1UidscAvv"
      },
      "source": [
        "####데이터 지오코딩하기"
      ]
    },
    {
      "cell_type": "code",
      "metadata": {
        "id": "grJhYCh4Hywf"
      },
      "source": [
        "#예시 데이터 가져오기 \n",
        "url = 'https://raw.githubusercontent.com/anespart1/educationuse/master/소방청_시도_소방서_현황_20200121.csv'\n",
        "link = urllib.parse.quote(url, safe=':/?-=') #URL에 포함된 한글 때문에 문제가 생기면 사용\n",
        "df = pd.read_csv(link, encoding='EUC-KR')\n",
        "\n",
        "#지오코딩 - 소방서 이름을 기준으로, 앞에서 10개만 뽑아서 실시(오래걸리기 때문)\n",
        "ndf = Geoapify_geocoding(data=df.head(10), search_rowname='소방서', alam_off='y', report='n')\n",
        "df1 = ndf[ndf.X != 0].copy() #지오코딩이 완료된 데이터\n",
        "df2 = ndf[ndf.X == 0].copy() #지오코딩이 실패한 데이터\n",
        "df3 = Geoapify_geocoding(data=df2, search_rowname='주소', alam_off='y') #실패데이터를 주소 기준으로 다시 지오코딩\n",
        "concat_df = pd.concat([df1, df2], axis=0) #지오코딩이 완료된 데이터 + 다시 지오코딩한 데이터를 결합\n",
        "concat_df.sort_values(by=['순번'], axis=0, inplace=True) #전체 데이터를 순번 열을 기준으로 정렬"
      ],
      "execution_count": 22,
      "outputs": []
    },
    {
      "cell_type": "markdown",
      "metadata": {
        "id": "NFETCBUIcGg3"
      },
      "source": [
        "####지오코딩한 데이터 시각화하기"
      ]
    },
    {
      "cell_type": "code",
      "metadata": {
        "colab": {
          "base_uri": "https://localhost:8080/",
          "height": 1000
        },
        "id": "cOf903_gTV3_",
        "outputId": "78d7aa7b-2d66-4997-a44b-9a1d5b28409c"
      },
      "source": [
        "map = spatial_visualizing(data=concat_df, zoom= 7, xcor_name='X', ycor_name='Y')\n",
        "\n",
        "#마커 클러스터 및 클러스터 그룹 추가\n",
        "marker_cluster = MarkerCluster(control=False)\n",
        "map.add_child(marker_cluster)\n",
        "group = folium.plugins.FeatureGroupSubGroup(marker_cluster, '소방서')\n",
        "map.add_child(group)\n",
        "\n",
        "#전국 소방서 추가\n",
        "for n, station in concat_df.iterrows():\n",
        "  popup = folium.Popup('위도: {}<br>경도: {}'.format(station['Y'], station['X']),\n",
        "                       max_width=300) #max_width를 설정하면 세로로 길게 나오는 현상을 피할 수 있음\n",
        "  folium.Marker(location=[station['Y'], station['X']], popup=popup, tooltip=station['소방서'],\n",
        "                icon=folium.Icon(color=\"red\", icon=\"fire-extinguisher\", prefix='fa')).add_to(group)\n",
        "#레이어 컨트롤러 추가\n",
        "folium.LayerControl().add_to(map)\n",
        "map"
      ],
      "execution_count": 32,
      "outputs": [
        {
          "output_type": "execute_result",
          "data": {
            "text/html": [
              "<div style=\"width:100%;\"><div style=\"position:relative;width:100%;height:0;padding-bottom:60%;\"><span style=\"color:#565656\">Make this Notebook Trusted to load map: File -> Trust Notebook</span><iframe src=\"about:blank\" style=\"position:absolute;width:100%;height:100%;left:0;top:0;border:none !important;\" data-html=%3C%21DOCTYPE%20html%3E%0A%3Chead%3E%20%20%20%20%0A%20%20%20%20%3Cmeta%20http-equiv%3D%22content-type%22%20content%3D%22text/html%3B%20charset%3DUTF-8%22%20/%3E%0A%20%20%20%20%3Cscript%3EL_PREFER_CANVAS%3Dfalse%3B%20L_NO_TOUCH%3Dfalse%3B%20L_DISABLE_3D%3Dfalse%3B%3C/script%3E%0A%20%20%20%20%3Cscript%20src%3D%22https%3A//cdn.jsdelivr.net/npm/leaflet%401.4.0/dist/leaflet.js%22%3E%3C/script%3E%0A%20%20%20%20%3Cscript%20src%3D%22https%3A//code.jquery.com/jquery-1.12.4.min.js%22%3E%3C/script%3E%0A%20%20%20%20%3Cscript%20src%3D%22https%3A//maxcdn.bootstrapcdn.com/bootstrap/3.2.0/js/bootstrap.min.js%22%3E%3C/script%3E%0A%20%20%20%20%3Cscript%20src%3D%22https%3A//cdnjs.cloudflare.com/ajax/libs/Leaflet.awesome-markers/2.0.2/leaflet.awesome-markers.js%22%3E%3C/script%3E%0A%20%20%20%20%3Clink%20rel%3D%22stylesheet%22%20href%3D%22https%3A//cdn.jsdelivr.net/npm/leaflet%401.4.0/dist/leaflet.css%22/%3E%0A%20%20%20%20%3Clink%20rel%3D%22stylesheet%22%20href%3D%22https%3A//maxcdn.bootstrapcdn.com/bootstrap/3.2.0/css/bootstrap.min.css%22/%3E%0A%20%20%20%20%3Clink%20rel%3D%22stylesheet%22%20href%3D%22https%3A//maxcdn.bootstrapcdn.com/bootstrap/3.2.0/css/bootstrap-theme.min.css%22/%3E%0A%20%20%20%20%3Clink%20rel%3D%22stylesheet%22%20href%3D%22https%3A//maxcdn.bootstrapcdn.com/font-awesome/4.6.3/css/font-awesome.min.css%22/%3E%0A%20%20%20%20%3Clink%20rel%3D%22stylesheet%22%20href%3D%22https%3A//cdnjs.cloudflare.com/ajax/libs/Leaflet.awesome-markers/2.0.2/leaflet.awesome-markers.css%22/%3E%0A%20%20%20%20%3Clink%20rel%3D%22stylesheet%22%20href%3D%22https%3A//rawcdn.githack.com/python-visualization/folium/master/folium/templates/leaflet.awesome.rotate.css%22/%3E%0A%20%20%20%20%3Cstyle%3Ehtml%2C%20body%20%7Bwidth%3A%20100%25%3Bheight%3A%20100%25%3Bmargin%3A%200%3Bpadding%3A%200%3B%7D%3C/style%3E%0A%20%20%20%20%3Cstyle%3E%23map%20%7Bposition%3Aabsolute%3Btop%3A0%3Bbottom%3A0%3Bright%3A0%3Bleft%3A0%3B%7D%3C/style%3E%0A%20%20%20%20%0A%20%20%20%20%3Cmeta%20name%3D%22viewport%22%20content%3D%22width%3Ddevice-width%2C%0A%20%20%20%20%20%20%20%20initial-scale%3D1.0%2C%20maximum-scale%3D1.0%2C%20user-scalable%3Dno%22%20/%3E%0A%20%20%20%20%3Cstyle%3E%23map_9bcc9031f8684ad2b7c30d2652c6f527%20%7B%0A%20%20%20%20%20%20%20%20position%3A%20relative%3B%0A%20%20%20%20%20%20%20%20width%3A%20100.0%25%3B%0A%20%20%20%20%20%20%20%20height%3A%20100.0%25%3B%0A%20%20%20%20%20%20%20%20left%3A%200.0%25%3B%0A%20%20%20%20%20%20%20%20top%3A%200.0%25%3B%0A%20%20%20%20%20%20%20%20%7D%0A%20%20%20%20%3C/style%3E%0A%20%20%20%20%3Cscript%20src%3D%22https%3A//leaflet.github.io/Leaflet.heat/dist/leaflet-heat.js%22%3E%3C/script%3E%0A%20%20%20%20%3Cscript%20src%3D%22https%3A//cdnjs.cloudflare.com/ajax/libs/leaflet-minimap/3.6.1/Control.MiniMap.js%22%3E%3C/script%3E%0A%20%20%20%20%3Clink%20rel%3D%22stylesheet%22%20href%3D%22https%3A//cdnjs.cloudflare.com/ajax/libs/leaflet-minimap/3.6.1/Control.MiniMap.css%22/%3E%0A%20%20%20%20%3Cscript%20src%3D%22https%3A//rawcdn.githack.com/ljagis/leaflet-measure/2.1.7/dist/leaflet-measure.js%22%3E%3C/script%3E%0A%20%20%20%20%3Clink%20rel%3D%22stylesheet%22%20href%3D%22https%3A//rawcdn.githack.com/ljagis/leaflet-measure/2.1.7/dist/leaflet-measure.css%22/%3E%0A%20%20%20%20%3Cscript%20src%3D%22https%3A//rawcdn.githack.com/ardhi/Leaflet.MousePosition/c32f1c84/src/L.Control.MousePosition.js%22%3E%3C/script%3E%0A%20%20%20%20%3Clink%20rel%3D%22stylesheet%22%20href%3D%22https%3A//rawcdn.githack.com/ardhi/Leaflet.MousePosition/c32f1c84/src/L.Control.MousePosition.css%22/%3E%0A%20%20%20%20%3Cscript%20src%3D%22https%3A//cdnjs.cloudflare.com/ajax/libs/leaflet.fullscreen/1.4.2/Control.FullScreen.min.js%22%3E%3C/script%3E%0A%20%20%20%20%3Clink%20rel%3D%22stylesheet%22%20href%3D%22https%3A//cdnjs.cloudflare.com/ajax/libs/leaflet.fullscreen/1.4.2/Control.FullScreen.min.css%22/%3E%0A%20%20%20%20%3Cscript%20src%3D%22https%3A//cdnjs.cloudflare.com/ajax/libs/leaflet.markercluster/1.1.0/leaflet.markercluster.js%22%3E%3C/script%3E%0A%20%20%20%20%3Clink%20rel%3D%22stylesheet%22%20href%3D%22https%3A//cdnjs.cloudflare.com/ajax/libs/leaflet.markercluster/1.1.0/MarkerCluster.css%22/%3E%0A%20%20%20%20%3Clink%20rel%3D%22stylesheet%22%20href%3D%22https%3A//cdnjs.cloudflare.com/ajax/libs/leaflet.markercluster/1.1.0/MarkerCluster.Default.css%22/%3E%0A%20%20%20%20%3Cscript%20src%3D%22https%3A//unpkg.com/leaflet.featuregroup.subgroup%401.0.2/dist/leaflet.featuregroup.subgroup.js%22%3E%3C/script%3E%0A%3C/head%3E%0A%3Cbody%3E%20%20%20%20%0A%20%20%20%20%0A%20%20%20%20%3Cdiv%20class%3D%22folium-map%22%20id%3D%22map_9bcc9031f8684ad2b7c30d2652c6f527%22%20%3E%3C/div%3E%0A%3C/body%3E%0A%3Cscript%3E%20%20%20%20%0A%20%20%20%20%0A%20%20%20%20%0A%20%20%20%20%20%20%20%20var%20bounds%20%3D%20null%3B%0A%20%20%20%20%0A%0A%20%20%20%20var%20map_9bcc9031f8684ad2b7c30d2652c6f527%20%3D%20L.map%28%0A%20%20%20%20%20%20%20%20%27map_9bcc9031f8684ad2b7c30d2652c6f527%27%2C%20%7B%0A%20%20%20%20%20%20%20%20center%3A%20%5B37.58313743000001%2C%20127.19343407771453%5D%2C%0A%20%20%20%20%20%20%20%20zoom%3A%207%2C%0A%20%20%20%20%20%20%20%20maxBounds%3A%20bounds%2C%0A%20%20%20%20%20%20%20%20layers%3A%20%5B%5D%2C%0A%20%20%20%20%20%20%20%20worldCopyJump%3A%20false%2C%0A%20%20%20%20%20%20%20%20crs%3A%20L.CRS.EPSG3857%2C%0A%20%20%20%20%20%20%20%20zoomControl%3A%20true%2C%0A%20%20%20%20%20%20%20%20%7D%29%3B%0AL.control.scale%28%29.addTo%28map_9bcc9031f8684ad2b7c30d2652c6f527%29%3B%0A%0A%20%20%20%20%0A%20%20%20%20var%20tile_layer_2d58e0e1099c47df92573397175a1836%20%3D%20L.tileLayer%28%0A%20%20%20%20%20%20%20%20%27https%3A//%7Bs%7D.tile.openstreetmap.org/%7Bz%7D/%7Bx%7D/%7By%7D.png%27%2C%0A%20%20%20%20%20%20%20%20%7B%0A%20%20%20%20%20%20%20%20%22attribution%22%3A%20null%2C%0A%20%20%20%20%20%20%20%20%22detectRetina%22%3A%20false%2C%0A%20%20%20%20%20%20%20%20%22maxNativeZoom%22%3A%2018%2C%0A%20%20%20%20%20%20%20%20%22maxZoom%22%3A%2018%2C%0A%20%20%20%20%20%20%20%20%22minZoom%22%3A%200%2C%0A%20%20%20%20%20%20%20%20%22noWrap%22%3A%20false%2C%0A%20%20%20%20%20%20%20%20%22opacity%22%3A%201%2C%0A%20%20%20%20%20%20%20%20%22subdomains%22%3A%20%22abc%22%2C%0A%20%20%20%20%20%20%20%20%22tms%22%3A%20false%0A%7D%29.addTo%28map_9bcc9031f8684ad2b7c30d2652c6f527%29%3B%0A%20%20%20%20var%20tile_layer_1bb7efdeaca2471694f79bcf0c077c85%20%3D%20L.tileLayer%28%0A%20%20%20%20%20%20%20%20%27https%3A//stamen-tiles-%7Bs%7D.a.ssl.fastly.net/terrain/%7Bz%7D/%7Bx%7D/%7By%7D.jpg%27%2C%0A%20%20%20%20%20%20%20%20%7B%0A%20%20%20%20%20%20%20%20%22attribution%22%3A%20null%2C%0A%20%20%20%20%20%20%20%20%22detectRetina%22%3A%20false%2C%0A%20%20%20%20%20%20%20%20%22maxNativeZoom%22%3A%2018%2C%0A%20%20%20%20%20%20%20%20%22maxZoom%22%3A%2018%2C%0A%20%20%20%20%20%20%20%20%22minZoom%22%3A%200%2C%0A%20%20%20%20%20%20%20%20%22noWrap%22%3A%20false%2C%0A%20%20%20%20%20%20%20%20%22opacity%22%3A%201%2C%0A%20%20%20%20%20%20%20%20%22subdomains%22%3A%20%22abc%22%2C%0A%20%20%20%20%20%20%20%20%22tms%22%3A%20false%0A%7D%29.addTo%28map_9bcc9031f8684ad2b7c30d2652c6f527%29%3B%0A%20%20%20%20var%20tile_layer_719bfff1e3794293864cf44b88bc49f6%20%3D%20L.tileLayer%28%0A%20%20%20%20%20%20%20%20%27https%3A//stamen-tiles-%7Bs%7D.a.ssl.fastly.net/watercolor/%7Bz%7D/%7Bx%7D/%7By%7D.jpg%27%2C%0A%20%20%20%20%20%20%20%20%7B%0A%20%20%20%20%20%20%20%20%22attribution%22%3A%20null%2C%0A%20%20%20%20%20%20%20%20%22detectRetina%22%3A%20false%2C%0A%20%20%20%20%20%20%20%20%22maxNativeZoom%22%3A%2018%2C%0A%20%20%20%20%20%20%20%20%22maxZoom%22%3A%2018%2C%0A%20%20%20%20%20%20%20%20%22minZoom%22%3A%200%2C%0A%20%20%20%20%20%20%20%20%22noWrap%22%3A%20false%2C%0A%20%20%20%20%20%20%20%20%22opacity%22%3A%201%2C%0A%20%20%20%20%20%20%20%20%22subdomains%22%3A%20%22abc%22%2C%0A%20%20%20%20%20%20%20%20%22tms%22%3A%20false%0A%7D%29.addTo%28map_9bcc9031f8684ad2b7c30d2652c6f527%29%3B%0A%20%20%20%20var%20tile_layer_c808843dbe4a4d65acbc31d23dd846b7%20%3D%20L.tileLayer%28%0A%20%20%20%20%20%20%20%20%27https%3A//cartodb-basemaps-%7Bs%7D.global.ssl.fastly.net/light_all/%7Bz%7D/%7Bx%7D/%7By%7D.png%27%2C%0A%20%20%20%20%20%20%20%20%7B%0A%20%20%20%20%20%20%20%20%22attribution%22%3A%20null%2C%0A%20%20%20%20%20%20%20%20%22detectRetina%22%3A%20false%2C%0A%20%20%20%20%20%20%20%20%22maxNativeZoom%22%3A%2018%2C%0A%20%20%20%20%20%20%20%20%22maxZoom%22%3A%2018%2C%0A%20%20%20%20%20%20%20%20%22minZoom%22%3A%200%2C%0A%20%20%20%20%20%20%20%20%22noWrap%22%3A%20false%2C%0A%20%20%20%20%20%20%20%20%22opacity%22%3A%201%2C%0A%20%20%20%20%20%20%20%20%22subdomains%22%3A%20%22abc%22%2C%0A%20%20%20%20%20%20%20%20%22tms%22%3A%20false%0A%7D%29.addTo%28map_9bcc9031f8684ad2b7c30d2652c6f527%29%3B%0A%20%20%20%20%0A%20%20%20%20%20%20%20%20%20%20%20%20var%20heat_map_85f9f738e265497eb7db675f992f84aa%20%3D%20L.heatLayer%28%0A%20%20%20%20%20%20%20%20%20%20%20%20%20%20%20%20%5B%5B37.510354250000006%2C%20127.06688181068927%5D%2C%20%5B37.7609675%2C%20128.9030859%5D%2C%20%5B37.633288%2C%20127.038073%5D%2C%20%5B37.543646%2C%20126.845193%5D%2C%20%5B37.47381275%2C%20126.95255762728854%5D%2C%20%5B37.54492435%2C%20127.08283190671844%5D%2C%20%5B37.4977842%2C%20126.86525942153418%5D%2C%20%5B37.63850185%2C%20127.07096201091493%5D%2C%20%5B37.6641149%2C%20127.0430471%5D%2C%20%5B37.5639805%2C%20127.066449%5D%5D%2C%0A%20%20%20%20%20%20%20%20%20%20%20%20%20%20%20%20%7B%0A%20%20%20%20%20%20%20%20%20%20%20%20%20%20%20%20%20%20%20%20minOpacity%3A%200.28%2C%0A%20%20%20%20%20%20%20%20%20%20%20%20%20%20%20%20%20%20%20%20maxZoom%3A%2018%2C%0A%20%20%20%20%20%20%20%20%20%20%20%20%20%20%20%20%20%20%20%20max%3A%201.0%2C%0A%20%20%20%20%20%20%20%20%20%20%20%20%20%20%20%20%20%20%20%20radius%3A%2022%2C%0A%20%20%20%20%20%20%20%20%20%20%20%20%20%20%20%20%20%20%20%20blur%3A%2015%2C%0A%20%20%20%20%20%20%20%20%20%20%20%20%20%20%20%20%20%20%20%20gradient%3A%20null%0A%20%20%20%20%20%20%20%20%20%20%20%20%20%20%20%20%20%20%20%20%7D%29%0A%20%20%20%20%20%20%20%20%20%20%20%20%20%20%20%20.addTo%28map_9bcc9031f8684ad2b7c30d2652c6f527%29%3B%0A%20%20%20%20%20%20%20%20%0A%20%20%20%20%0A%0A%20%20%20%20%20%20%20%20var%20tile_layer_4e1db2848e1746078ac7a3f40fb3346a%20%3D%20L.tileLayer%28%0A%20%20%20%20%20%20%20%20%27https%3A//%7Bs%7D.tile.openstreetmap.org/%7Bz%7D/%7Bx%7D/%7By%7D.png%27%2C%0A%20%20%20%20%20%20%20%20%7B%0A%20%20%20%20%20%20%20%20%22attribution%22%3A%20null%2C%0A%20%20%20%20%20%20%20%20%22detectRetina%22%3A%20false%2C%0A%20%20%20%20%20%20%20%20%22maxNativeZoom%22%3A%2018%2C%0A%20%20%20%20%20%20%20%20%22maxZoom%22%3A%2018%2C%0A%20%20%20%20%20%20%20%20%22minZoom%22%3A%200%2C%0A%20%20%20%20%20%20%20%20%22noWrap%22%3A%20false%2C%0A%20%20%20%20%20%20%20%20%22opacity%22%3A%201%2C%0A%20%20%20%20%20%20%20%20%22subdomains%22%3A%20%22abc%22%2C%0A%20%20%20%20%20%20%20%20%22tms%22%3A%20false%0A%7D%20%29%3B%0A%0A%20%20%20%20%20%20%20%20var%20mini_map_53d2f70152e04d90a7d93943150cdbf8%20%3D%20new%20L.Control.MiniMap%28%20tile_layer_4e1db2848e1746078ac7a3f40fb3346a%2C%0A%20%20%20%20%20%20%20%20%20%7B%0A%20%20%22autoToggleDisplay%22%3A%20false%2C%0A%20%20%22centerFixed%22%3A%20false%2C%0A%20%20%22collapsedHeight%22%3A%2025%2C%0A%20%20%22collapsedWidth%22%3A%2025%2C%0A%20%20%22height%22%3A%20150%2C%0A%20%20%22minimized%22%3A%20false%2C%0A%20%20%22position%22%3A%20%22bottomright%22%2C%0A%20%20%22toggleDisplay%22%3A%20false%2C%0A%20%20%22width%22%3A%20150%2C%0A%20%20%22zoomAnimation%22%3A%20false%2C%0A%20%20%22zoomLevelFixed%22%3A%20null%2C%0A%20%20%22zoomLevelOffset%22%3A%20-5%0A%7D%29%3B%0A%20%20%20%20%20%20%20%20map_9bcc9031f8684ad2b7c30d2652c6f527.addControl%28mini_map_53d2f70152e04d90a7d93943150cdbf8%29%3B%0A%0A%20%20%20%20%20%20%20%20%0A%20%20%20%20%0A%20%20%20%20%20%20%20%20%20%20%20%20var%20measure_control_98ae6caf08e94c429e0512991927ed77%20%3D%20new%20L.Control.Measure%28%0A%20%20%20%20%20%20%20%20%20%20%20%20%7B%22position%22%3A%20%22topright%22%2C%20%22primaryLengthUnit%22%3A%20%22meters%22%2C%20%22secondaryLengthUnit%22%3A%20%22miles%22%2C%20%22primaryAreaUnit%22%3A%20%22sqmeters%22%2C%20%22secondaryAreaUnit%22%3A%20%22acres%22%7D%29%3B%0A%20%20%20%20%20%20%20%20%20%20%20%20map_9bcc9031f8684ad2b7c30d2652c6f527.addControl%28measure_control_98ae6caf08e94c429e0512991927ed77%29%3B%0A%0A%20%20%20%20%20%20%20%20%0A%20%20%20%20%0A%0A%20%20%20%20%20%20%20%20var%20mouse_position_56ca176536df47abb107807ba88e2f86%20%3D%20new%20L.Control.MousePosition%28%0A%20%20%20%20%20%20%20%20%20%20%20%20%7B%0A%20%20%22emptyString%22%3A%20%22Unavailable%22%2C%0A%20%20%22lngFirst%22%3A%20false%2C%0A%20%20%22numDigits%22%3A%205%2C%0A%20%20%22position%22%3A%20%22bottomright%22%2C%0A%20%20%22prefix%22%3A%20%22%5Cuacbd%5Cuc704%5Cub3c4%20%5Cuc88c%5Cud45c%3A%22%2C%0A%20%20%22separator%22%3A%20%22%20%3A%20%22%0A%7D%29%3B%0A%20%20%20%20%20%20%20%20mouse_position_56ca176536df47abb107807ba88e2f86.options%5B%22latFormatter%22%5D%20%3D%20undefined%3B%0A%20%20%20%20%20%20%20%20mouse_position_56ca176536df47abb107807ba88e2f86.options%5B%22lngFormatter%22%5D%20%3D%20undefined%3B%0A%20%20%20%20%20%20%20%20map_9bcc9031f8684ad2b7c30d2652c6f527.addControl%28mouse_position_56ca176536df47abb107807ba88e2f86%29%3B%0A%0A%20%20%20%20%20%20%20%20%0A%20%20%20%20%0A%20%20%20%20%20%20%20%20%20%20%20%20L.control.fullscreen%28%7B%0A%20%20%20%20%20%20%20%20%20%20%20%20%20%20%20%20position%3A%20%27topleft%27%2C%0A%20%20%20%20%20%20%20%20%20%20%20%20%20%20%20%20title%3A%20%27%EC%A0%84%EC%B2%B4%ED%99%94%EB%A9%B4%27%2C%0A%20%20%20%20%20%20%20%20%20%20%20%20%20%20%20%20titleCancel%3A%20%27%EB%8F%8C%EC%95%84%EA%B0%80%EA%B8%B0%27%2C%0A%20%20%20%20%20%20%20%20%20%20%20%20%20%20%20%20forceSeparateButton%3A%20true%2C%0A%20%20%20%20%20%20%20%20%20%20%20%20%20%20%20%20%7D%29.addTo%28map_9bcc9031f8684ad2b7c30d2652c6f527%29%3B%0A%20%20%20%20%20%20%20%20%20%20%20%20map_9bcc9031f8684ad2b7c30d2652c6f527.on%28%27enterFullscreen%27%2C%20function%28%29%7B%0A%20%20%20%20%20%20%20%20%20%20%20%20%20%20%20%20console.log%28%27entered%20fullscreen%27%29%3B%0A%20%20%20%20%20%20%20%20%20%20%20%20%7D%29%3B%0A%0A%20%20%20%20%20%20%20%20%0A%20%20%20%20%0A%20%20%20%20%20%20%20%20%20%20%20%20var%20marker_cluster_2189890e345e419daf44d691683e2c5c%20%3D%20L.markerClusterGroup%28%7B%7D%29%3B%0A%20%20%20%20%20%20%20%20%20%20%20%20map_9bcc9031f8684ad2b7c30d2652c6f527.addLayer%28marker_cluster_2189890e345e419daf44d691683e2c5c%29%3B%0A%20%20%20%20%20%20%20%20%20%20%20%20%0A%20%20%20%20%0A%20%20%20%20%20%20%20%20%20%20%20%20var%20feature_group_sub_group_98191c76fc9140ff84fdcccf9363fe07%20%3D%20L.featureGroup.subGroup%28marker_cluster_2189890e345e419daf44d691683e2c5c%29%3B%0A%20%20%20%20%20%20%20%20%20%20%20%20feature_group_sub_group_98191c76fc9140ff84fdcccf9363fe07.addTo%28map_9bcc9031f8684ad2b7c30d2652c6f527%29%3B%0A%20%20%20%20%20%20%20%20%20%20%20%20%0A%20%20%20%20%0A%20%20%20%20%20%20%20%20var%20marker_af9dabe1677c45e6b10ed03de3036f1c%20%3D%20L.marker%28%0A%20%20%20%20%20%20%20%20%20%20%20%20%5B37.510354250000006%2C%20127.06688181068927%5D%2C%0A%20%20%20%20%20%20%20%20%20%20%20%20%7B%0A%20%20%20%20%20%20%20%20%20%20%20%20%20%20%20%20icon%3A%20new%20L.Icon.Default%28%29%2C%0A%20%20%20%20%20%20%20%20%20%20%20%20%20%20%20%20%7D%0A%20%20%20%20%20%20%20%20%20%20%20%20%29.addTo%28feature_group_sub_group_98191c76fc9140ff84fdcccf9363fe07%29%3B%0A%20%20%20%20%20%20%20%20%0A%20%20%20%20%0A%0A%20%20%20%20%20%20%20%20%20%20%20%20%20%20%20%20var%20icon_d7a2818fa2ba430ab3924e6b84b7c92c%20%3D%20L.AwesomeMarkers.icon%28%7B%0A%20%20%20%20%20%20%20%20%20%20%20%20%20%20%20%20%20%20%20%20icon%3A%20%27fire-extinguisher%27%2C%0A%20%20%20%20%20%20%20%20%20%20%20%20%20%20%20%20%20%20%20%20iconColor%3A%20%27white%27%2C%0A%20%20%20%20%20%20%20%20%20%20%20%20%20%20%20%20%20%20%20%20markerColor%3A%20%27red%27%2C%0A%20%20%20%20%20%20%20%20%20%20%20%20%20%20%20%20%20%20%20%20prefix%3A%20%27fa%27%2C%0A%20%20%20%20%20%20%20%20%20%20%20%20%20%20%20%20%20%20%20%20extraClasses%3A%20%27fa-rotate-0%27%0A%20%20%20%20%20%20%20%20%20%20%20%20%20%20%20%20%20%20%20%20%7D%29%3B%0A%20%20%20%20%20%20%20%20%20%20%20%20%20%20%20%20marker_af9dabe1677c45e6b10ed03de3036f1c.setIcon%28icon_d7a2818fa2ba430ab3924e6b84b7c92c%29%3B%0A%20%20%20%20%20%20%20%20%20%20%20%20%0A%20%20%20%20%0A%20%20%20%20%20%20%20%20%20%20%20%20var%20popup_b445849fdc2849f990ff8fffbf6bcefd%20%3D%20L.popup%28%7BmaxWidth%3A%20%27300%27%0A%20%20%20%20%20%20%20%20%20%20%20%20%0A%20%20%20%20%20%20%20%20%20%20%20%20%7D%29%3B%0A%0A%20%20%20%20%20%20%20%20%20%20%20%20%0A%20%20%20%20%20%20%20%20%20%20%20%20%20%20%20%20var%20html_c7b3eb5ed0484972bda1b3d1fb82ab0d%20%3D%20%24%28%60%3Cdiv%20id%3D%22html_c7b3eb5ed0484972bda1b3d1fb82ab0d%22%20style%3D%22width%3A%20100.0%25%3B%20height%3A%20100.0%25%3B%22%3E%EC%9C%84%EB%8F%84%3A%2037.510354250000006%3Cbr%3E%EA%B2%BD%EB%8F%84%3A%20127.06688181068927%3C/div%3E%60%29%5B0%5D%3B%0A%20%20%20%20%20%20%20%20%20%20%20%20%20%20%20%20popup_b445849fdc2849f990ff8fffbf6bcefd.setContent%28html_c7b3eb5ed0484972bda1b3d1fb82ab0d%29%3B%0A%20%20%20%20%20%20%20%20%20%20%20%20%0A%0A%20%20%20%20%20%20%20%20%20%20%20%20marker_af9dabe1677c45e6b10ed03de3036f1c.bindPopup%28popup_b445849fdc2849f990ff8fffbf6bcefd%29%0A%20%20%20%20%20%20%20%20%20%20%20%20%3B%0A%0A%20%20%20%20%20%20%20%20%20%20%20%20%0A%20%20%20%20%20%20%20%20%0A%20%20%20%20%0A%20%20%20%20%20%20%20%20marker_af9dabe1677c45e6b10ed03de3036f1c.bindTooltip%28%0A%20%20%20%20%20%20%20%20%20%20%20%20%60%3Cdiv%3E%60%0A%20%20%20%20%20%20%20%20%20%20%20%20%2B%20%60%EA%B0%95%EB%82%A8%EC%86%8C%EB%B0%A9%EC%84%9C%60%20%2B%20%60%3C/div%3E%60%2C%0A%20%20%20%20%20%20%20%20%20%20%20%20%7B%22sticky%22%3A%20true%7D%0A%20%20%20%20%20%20%20%20%29%3B%0A%20%20%20%20%20%20%20%20%0A%20%20%20%20%0A%20%20%20%20%20%20%20%20var%20marker_ec656aeeee1c4f7685595dd3b5d78a4f%20%3D%20L.marker%28%0A%20%20%20%20%20%20%20%20%20%20%20%20%5B37.7609675%2C%20128.9030859%5D%2C%0A%20%20%20%20%20%20%20%20%20%20%20%20%7B%0A%20%20%20%20%20%20%20%20%20%20%20%20%20%20%20%20icon%3A%20new%20L.Icon.Default%28%29%2C%0A%20%20%20%20%20%20%20%20%20%20%20%20%20%20%20%20%7D%0A%20%20%20%20%20%20%20%20%20%20%20%20%29.addTo%28feature_group_sub_group_98191c76fc9140ff84fdcccf9363fe07%29%3B%0A%20%20%20%20%20%20%20%20%0A%20%20%20%20%0A%0A%20%20%20%20%20%20%20%20%20%20%20%20%20%20%20%20var%20icon_2e67d3eeb6804e4096a21cd22d946b50%20%3D%20L.AwesomeMarkers.icon%28%7B%0A%20%20%20%20%20%20%20%20%20%20%20%20%20%20%20%20%20%20%20%20icon%3A%20%27fire-extinguisher%27%2C%0A%20%20%20%20%20%20%20%20%20%20%20%20%20%20%20%20%20%20%20%20iconColor%3A%20%27white%27%2C%0A%20%20%20%20%20%20%20%20%20%20%20%20%20%20%20%20%20%20%20%20markerColor%3A%20%27red%27%2C%0A%20%20%20%20%20%20%20%20%20%20%20%20%20%20%20%20%20%20%20%20prefix%3A%20%27fa%27%2C%0A%20%20%20%20%20%20%20%20%20%20%20%20%20%20%20%20%20%20%20%20extraClasses%3A%20%27fa-rotate-0%27%0A%20%20%20%20%20%20%20%20%20%20%20%20%20%20%20%20%20%20%20%20%7D%29%3B%0A%20%20%20%20%20%20%20%20%20%20%20%20%20%20%20%20marker_ec656aeeee1c4f7685595dd3b5d78a4f.setIcon%28icon_2e67d3eeb6804e4096a21cd22d946b50%29%3B%0A%20%20%20%20%20%20%20%20%20%20%20%20%0A%20%20%20%20%0A%20%20%20%20%20%20%20%20%20%20%20%20var%20popup_cb87f28c3d5b44bba7fe75aba35b8f78%20%3D%20L.popup%28%7BmaxWidth%3A%20%27300%27%0A%20%20%20%20%20%20%20%20%20%20%20%20%0A%20%20%20%20%20%20%20%20%20%20%20%20%7D%29%3B%0A%0A%20%20%20%20%20%20%20%20%20%20%20%20%0A%20%20%20%20%20%20%20%20%20%20%20%20%20%20%20%20var%20html_da2afbf2d733478e969b6057d55f4b3b%20%3D%20%24%28%60%3Cdiv%20id%3D%22html_da2afbf2d733478e969b6057d55f4b3b%22%20style%3D%22width%3A%20100.0%25%3B%20height%3A%20100.0%25%3B%22%3E%EC%9C%84%EB%8F%84%3A%2037.7609675%3Cbr%3E%EA%B2%BD%EB%8F%84%3A%20128.9030859%3C/div%3E%60%29%5B0%5D%3B%0A%20%20%20%20%20%20%20%20%20%20%20%20%20%20%20%20popup_cb87f28c3d5b44bba7fe75aba35b8f78.setContent%28html_da2afbf2d733478e969b6057d55f4b3b%29%3B%0A%20%20%20%20%20%20%20%20%20%20%20%20%0A%0A%20%20%20%20%20%20%20%20%20%20%20%20marker_ec656aeeee1c4f7685595dd3b5d78a4f.bindPopup%28popup_cb87f28c3d5b44bba7fe75aba35b8f78%29%0A%20%20%20%20%20%20%20%20%20%20%20%20%3B%0A%0A%20%20%20%20%20%20%20%20%20%20%20%20%0A%20%20%20%20%20%20%20%20%0A%20%20%20%20%0A%20%20%20%20%20%20%20%20marker_ec656aeeee1c4f7685595dd3b5d78a4f.bindTooltip%28%0A%20%20%20%20%20%20%20%20%20%20%20%20%60%3Cdiv%3E%60%0A%20%20%20%20%20%20%20%20%20%20%20%20%2B%20%60%EA%B0%95%EB%8F%99%EC%86%8C%EB%B0%A9%EC%84%9C%60%20%2B%20%60%3C/div%3E%60%2C%0A%20%20%20%20%20%20%20%20%20%20%20%20%7B%22sticky%22%3A%20true%7D%0A%20%20%20%20%20%20%20%20%29%3B%0A%20%20%20%20%20%20%20%20%0A%20%20%20%20%0A%20%20%20%20%20%20%20%20var%20marker_4b126c76fa8a45a4a7e11d8f76d14d0d%20%3D%20L.marker%28%0A%20%20%20%20%20%20%20%20%20%20%20%20%5B37.633288%2C%20127.038073%5D%2C%0A%20%20%20%20%20%20%20%20%20%20%20%20%7B%0A%20%20%20%20%20%20%20%20%20%20%20%20%20%20%20%20icon%3A%20new%20L.Icon.Default%28%29%2C%0A%20%20%20%20%20%20%20%20%20%20%20%20%20%20%20%20%7D%0A%20%20%20%20%20%20%20%20%20%20%20%20%29.addTo%28feature_group_sub_group_98191c76fc9140ff84fdcccf9363fe07%29%3B%0A%20%20%20%20%20%20%20%20%0A%20%20%20%20%0A%0A%20%20%20%20%20%20%20%20%20%20%20%20%20%20%20%20var%20icon_ceb1fbf1756544a5914f34eb5359cee7%20%3D%20L.AwesomeMarkers.icon%28%7B%0A%20%20%20%20%20%20%20%20%20%20%20%20%20%20%20%20%20%20%20%20icon%3A%20%27fire-extinguisher%27%2C%0A%20%20%20%20%20%20%20%20%20%20%20%20%20%20%20%20%20%20%20%20iconColor%3A%20%27white%27%2C%0A%20%20%20%20%20%20%20%20%20%20%20%20%20%20%20%20%20%20%20%20markerColor%3A%20%27red%27%2C%0A%20%20%20%20%20%20%20%20%20%20%20%20%20%20%20%20%20%20%20%20prefix%3A%20%27fa%27%2C%0A%20%20%20%20%20%20%20%20%20%20%20%20%20%20%20%20%20%20%20%20extraClasses%3A%20%27fa-rotate-0%27%0A%20%20%20%20%20%20%20%20%20%20%20%20%20%20%20%20%20%20%20%20%7D%29%3B%0A%20%20%20%20%20%20%20%20%20%20%20%20%20%20%20%20marker_4b126c76fa8a45a4a7e11d8f76d14d0d.setIcon%28icon_ceb1fbf1756544a5914f34eb5359cee7%29%3B%0A%20%20%20%20%20%20%20%20%20%20%20%20%0A%20%20%20%20%0A%20%20%20%20%20%20%20%20%20%20%20%20var%20popup_08d923787b8d4508814ba12c17b16029%20%3D%20L.popup%28%7BmaxWidth%3A%20%27300%27%0A%20%20%20%20%20%20%20%20%20%20%20%20%0A%20%20%20%20%20%20%20%20%20%20%20%20%7D%29%3B%0A%0A%20%20%20%20%20%20%20%20%20%20%20%20%0A%20%20%20%20%20%20%20%20%20%20%20%20%20%20%20%20var%20html_c7a6a5ad9beb4d528a9628dbb1e85316%20%3D%20%24%28%60%3Cdiv%20id%3D%22html_c7a6a5ad9beb4d528a9628dbb1e85316%22%20style%3D%22width%3A%20100.0%25%3B%20height%3A%20100.0%25%3B%22%3E%EC%9C%84%EB%8F%84%3A%2037.633288%3Cbr%3E%EA%B2%BD%EB%8F%84%3A%20127.038073%3C/div%3E%60%29%5B0%5D%3B%0A%20%20%20%20%20%20%20%20%20%20%20%20%20%20%20%20popup_08d923787b8d4508814ba12c17b16029.setContent%28html_c7a6a5ad9beb4d528a9628dbb1e85316%29%3B%0A%20%20%20%20%20%20%20%20%20%20%20%20%0A%0A%20%20%20%20%20%20%20%20%20%20%20%20marker_4b126c76fa8a45a4a7e11d8f76d14d0d.bindPopup%28popup_08d923787b8d4508814ba12c17b16029%29%0A%20%20%20%20%20%20%20%20%20%20%20%20%3B%0A%0A%20%20%20%20%20%20%20%20%20%20%20%20%0A%20%20%20%20%20%20%20%20%0A%20%20%20%20%0A%20%20%20%20%20%20%20%20marker_4b126c76fa8a45a4a7e11d8f76d14d0d.bindTooltip%28%0A%20%20%20%20%20%20%20%20%20%20%20%20%60%3Cdiv%3E%60%0A%20%20%20%20%20%20%20%20%20%20%20%20%2B%20%60%EA%B0%95%EB%B6%81%EC%86%8C%EB%B0%A9%EC%84%9C%60%20%2B%20%60%3C/div%3E%60%2C%0A%20%20%20%20%20%20%20%20%20%20%20%20%7B%22sticky%22%3A%20true%7D%0A%20%20%20%20%20%20%20%20%29%3B%0A%20%20%20%20%20%20%20%20%0A%20%20%20%20%0A%20%20%20%20%20%20%20%20var%20marker_e5025467d132432fbb06c8423be691a3%20%3D%20L.marker%28%0A%20%20%20%20%20%20%20%20%20%20%20%20%5B37.543646%2C%20126.845193%5D%2C%0A%20%20%20%20%20%20%20%20%20%20%20%20%7B%0A%20%20%20%20%20%20%20%20%20%20%20%20%20%20%20%20icon%3A%20new%20L.Icon.Default%28%29%2C%0A%20%20%20%20%20%20%20%20%20%20%20%20%20%20%20%20%7D%0A%20%20%20%20%20%20%20%20%20%20%20%20%29.addTo%28feature_group_sub_group_98191c76fc9140ff84fdcccf9363fe07%29%3B%0A%20%20%20%20%20%20%20%20%0A%20%20%20%20%0A%0A%20%20%20%20%20%20%20%20%20%20%20%20%20%20%20%20var%20icon_199bd7c8494d4dfea576998c707fbca7%20%3D%20L.AwesomeMarkers.icon%28%7B%0A%20%20%20%20%20%20%20%20%20%20%20%20%20%20%20%20%20%20%20%20icon%3A%20%27fire-extinguisher%27%2C%0A%20%20%20%20%20%20%20%20%20%20%20%20%20%20%20%20%20%20%20%20iconColor%3A%20%27white%27%2C%0A%20%20%20%20%20%20%20%20%20%20%20%20%20%20%20%20%20%20%20%20markerColor%3A%20%27red%27%2C%0A%20%20%20%20%20%20%20%20%20%20%20%20%20%20%20%20%20%20%20%20prefix%3A%20%27fa%27%2C%0A%20%20%20%20%20%20%20%20%20%20%20%20%20%20%20%20%20%20%20%20extraClasses%3A%20%27fa-rotate-0%27%0A%20%20%20%20%20%20%20%20%20%20%20%20%20%20%20%20%20%20%20%20%7D%29%3B%0A%20%20%20%20%20%20%20%20%20%20%20%20%20%20%20%20marker_e5025467d132432fbb06c8423be691a3.setIcon%28icon_199bd7c8494d4dfea576998c707fbca7%29%3B%0A%20%20%20%20%20%20%20%20%20%20%20%20%0A%20%20%20%20%0A%20%20%20%20%20%20%20%20%20%20%20%20var%20popup_f4e0448f1d7f439d867cbf3993bea3ae%20%3D%20L.popup%28%7BmaxWidth%3A%20%27300%27%0A%20%20%20%20%20%20%20%20%20%20%20%20%0A%20%20%20%20%20%20%20%20%20%20%20%20%7D%29%3B%0A%0A%20%20%20%20%20%20%20%20%20%20%20%20%0A%20%20%20%20%20%20%20%20%20%20%20%20%20%20%20%20var%20html_468e53605f884121be3a3369c8e1231f%20%3D%20%24%28%60%3Cdiv%20id%3D%22html_468e53605f884121be3a3369c8e1231f%22%20style%3D%22width%3A%20100.0%25%3B%20height%3A%20100.0%25%3B%22%3E%EC%9C%84%EB%8F%84%3A%2037.543646%3Cbr%3E%EA%B2%BD%EB%8F%84%3A%20126.845193%3C/div%3E%60%29%5B0%5D%3B%0A%20%20%20%20%20%20%20%20%20%20%20%20%20%20%20%20popup_f4e0448f1d7f439d867cbf3993bea3ae.setContent%28html_468e53605f884121be3a3369c8e1231f%29%3B%0A%20%20%20%20%20%20%20%20%20%20%20%20%0A%0A%20%20%20%20%20%20%20%20%20%20%20%20marker_e5025467d132432fbb06c8423be691a3.bindPopup%28popup_f4e0448f1d7f439d867cbf3993bea3ae%29%0A%20%20%20%20%20%20%20%20%20%20%20%20%3B%0A%0A%20%20%20%20%20%20%20%20%20%20%20%20%0A%20%20%20%20%20%20%20%20%0A%20%20%20%20%0A%20%20%20%20%20%20%20%20marker_e5025467d132432fbb06c8423be691a3.bindTooltip%28%0A%20%20%20%20%20%20%20%20%20%20%20%20%60%3Cdiv%3E%60%0A%20%20%20%20%20%20%20%20%20%20%20%20%2B%20%60%EA%B0%95%EC%84%9C%EC%86%8C%EB%B0%A9%EC%84%9C%60%20%2B%20%60%3C/div%3E%60%2C%0A%20%20%20%20%20%20%20%20%20%20%20%20%7B%22sticky%22%3A%20true%7D%0A%20%20%20%20%20%20%20%20%29%3B%0A%20%20%20%20%20%20%20%20%0A%20%20%20%20%0A%20%20%20%20%20%20%20%20var%20marker_1982f3cc037341aa8262fecd3e8cf627%20%3D%20L.marker%28%0A%20%20%20%20%20%20%20%20%20%20%20%20%5B37.47381275%2C%20126.95255762728854%5D%2C%0A%20%20%20%20%20%20%20%20%20%20%20%20%7B%0A%20%20%20%20%20%20%20%20%20%20%20%20%20%20%20%20icon%3A%20new%20L.Icon.Default%28%29%2C%0A%20%20%20%20%20%20%20%20%20%20%20%20%20%20%20%20%7D%0A%20%20%20%20%20%20%20%20%20%20%20%20%29.addTo%28feature_group_sub_group_98191c76fc9140ff84fdcccf9363fe07%29%3B%0A%20%20%20%20%20%20%20%20%0A%20%20%20%20%0A%0A%20%20%20%20%20%20%20%20%20%20%20%20%20%20%20%20var%20icon_401f96dc76534d92a9384e497257a089%20%3D%20L.AwesomeMarkers.icon%28%7B%0A%20%20%20%20%20%20%20%20%20%20%20%20%20%20%20%20%20%20%20%20icon%3A%20%27fire-extinguisher%27%2C%0A%20%20%20%20%20%20%20%20%20%20%20%20%20%20%20%20%20%20%20%20iconColor%3A%20%27white%27%2C%0A%20%20%20%20%20%20%20%20%20%20%20%20%20%20%20%20%20%20%20%20markerColor%3A%20%27red%27%2C%0A%20%20%20%20%20%20%20%20%20%20%20%20%20%20%20%20%20%20%20%20prefix%3A%20%27fa%27%2C%0A%20%20%20%20%20%20%20%20%20%20%20%20%20%20%20%20%20%20%20%20extraClasses%3A%20%27fa-rotate-0%27%0A%20%20%20%20%20%20%20%20%20%20%20%20%20%20%20%20%20%20%20%20%7D%29%3B%0A%20%20%20%20%20%20%20%20%20%20%20%20%20%20%20%20marker_1982f3cc037341aa8262fecd3e8cf627.setIcon%28icon_401f96dc76534d92a9384e497257a089%29%3B%0A%20%20%20%20%20%20%20%20%20%20%20%20%0A%20%20%20%20%0A%20%20%20%20%20%20%20%20%20%20%20%20var%20popup_2dec60e07d11402995a4bb468185c60b%20%3D%20L.popup%28%7BmaxWidth%3A%20%27300%27%0A%20%20%20%20%20%20%20%20%20%20%20%20%0A%20%20%20%20%20%20%20%20%20%20%20%20%7D%29%3B%0A%0A%20%20%20%20%20%20%20%20%20%20%20%20%0A%20%20%20%20%20%20%20%20%20%20%20%20%20%20%20%20var%20html_392f551eb9764aaa883946c9a3ab921f%20%3D%20%24%28%60%3Cdiv%20id%3D%22html_392f551eb9764aaa883946c9a3ab921f%22%20style%3D%22width%3A%20100.0%25%3B%20height%3A%20100.0%25%3B%22%3E%EC%9C%84%EB%8F%84%3A%2037.47381275%3Cbr%3E%EA%B2%BD%EB%8F%84%3A%20126.95255762728854%3C/div%3E%60%29%5B0%5D%3B%0A%20%20%20%20%20%20%20%20%20%20%20%20%20%20%20%20popup_2dec60e07d11402995a4bb468185c60b.setContent%28html_392f551eb9764aaa883946c9a3ab921f%29%3B%0A%20%20%20%20%20%20%20%20%20%20%20%20%0A%0A%20%20%20%20%20%20%20%20%20%20%20%20marker_1982f3cc037341aa8262fecd3e8cf627.bindPopup%28popup_2dec60e07d11402995a4bb468185c60b%29%0A%20%20%20%20%20%20%20%20%20%20%20%20%3B%0A%0A%20%20%20%20%20%20%20%20%20%20%20%20%0A%20%20%20%20%20%20%20%20%0A%20%20%20%20%0A%20%20%20%20%20%20%20%20marker_1982f3cc037341aa8262fecd3e8cf627.bindTooltip%28%0A%20%20%20%20%20%20%20%20%20%20%20%20%60%3Cdiv%3E%60%0A%20%20%20%20%20%20%20%20%20%20%20%20%2B%20%60%EA%B4%80%EC%95%85%EC%86%8C%EB%B0%A9%EC%84%9C%60%20%2B%20%60%3C/div%3E%60%2C%0A%20%20%20%20%20%20%20%20%20%20%20%20%7B%22sticky%22%3A%20true%7D%0A%20%20%20%20%20%20%20%20%29%3B%0A%20%20%20%20%20%20%20%20%0A%20%20%20%20%0A%20%20%20%20%20%20%20%20var%20marker_c6804976926e4eabbea89291cd223ffa%20%3D%20L.marker%28%0A%20%20%20%20%20%20%20%20%20%20%20%20%5B37.54492435%2C%20127.08283190671844%5D%2C%0A%20%20%20%20%20%20%20%20%20%20%20%20%7B%0A%20%20%20%20%20%20%20%20%20%20%20%20%20%20%20%20icon%3A%20new%20L.Icon.Default%28%29%2C%0A%20%20%20%20%20%20%20%20%20%20%20%20%20%20%20%20%7D%0A%20%20%20%20%20%20%20%20%20%20%20%20%29.addTo%28feature_group_sub_group_98191c76fc9140ff84fdcccf9363fe07%29%3B%0A%20%20%20%20%20%20%20%20%0A%20%20%20%20%0A%0A%20%20%20%20%20%20%20%20%20%20%20%20%20%20%20%20var%20icon_1a1558f2738a46f99071826584670293%20%3D%20L.AwesomeMarkers.icon%28%7B%0A%20%20%20%20%20%20%20%20%20%20%20%20%20%20%20%20%20%20%20%20icon%3A%20%27fire-extinguisher%27%2C%0A%20%20%20%20%20%20%20%20%20%20%20%20%20%20%20%20%20%20%20%20iconColor%3A%20%27white%27%2C%0A%20%20%20%20%20%20%20%20%20%20%20%20%20%20%20%20%20%20%20%20markerColor%3A%20%27red%27%2C%0A%20%20%20%20%20%20%20%20%20%20%20%20%20%20%20%20%20%20%20%20prefix%3A%20%27fa%27%2C%0A%20%20%20%20%20%20%20%20%20%20%20%20%20%20%20%20%20%20%20%20extraClasses%3A%20%27fa-rotate-0%27%0A%20%20%20%20%20%20%20%20%20%20%20%20%20%20%20%20%20%20%20%20%7D%29%3B%0A%20%20%20%20%20%20%20%20%20%20%20%20%20%20%20%20marker_c6804976926e4eabbea89291cd223ffa.setIcon%28icon_1a1558f2738a46f99071826584670293%29%3B%0A%20%20%20%20%20%20%20%20%20%20%20%20%0A%20%20%20%20%0A%20%20%20%20%20%20%20%20%20%20%20%20var%20popup_9f2aeab35dac48398dc7c2456067df80%20%3D%20L.popup%28%7BmaxWidth%3A%20%27300%27%0A%20%20%20%20%20%20%20%20%20%20%20%20%0A%20%20%20%20%20%20%20%20%20%20%20%20%7D%29%3B%0A%0A%20%20%20%20%20%20%20%20%20%20%20%20%0A%20%20%20%20%20%20%20%20%20%20%20%20%20%20%20%20var%20html_93241e15ae70403fa80dcfac11284583%20%3D%20%24%28%60%3Cdiv%20id%3D%22html_93241e15ae70403fa80dcfac11284583%22%20style%3D%22width%3A%20100.0%25%3B%20height%3A%20100.0%25%3B%22%3E%EC%9C%84%EB%8F%84%3A%2037.54492435%3Cbr%3E%EA%B2%BD%EB%8F%84%3A%20127.08283190671844%3C/div%3E%60%29%5B0%5D%3B%0A%20%20%20%20%20%20%20%20%20%20%20%20%20%20%20%20popup_9f2aeab35dac48398dc7c2456067df80.setContent%28html_93241e15ae70403fa80dcfac11284583%29%3B%0A%20%20%20%20%20%20%20%20%20%20%20%20%0A%0A%20%20%20%20%20%20%20%20%20%20%20%20marker_c6804976926e4eabbea89291cd223ffa.bindPopup%28popup_9f2aeab35dac48398dc7c2456067df80%29%0A%20%20%20%20%20%20%20%20%20%20%20%20%3B%0A%0A%20%20%20%20%20%20%20%20%20%20%20%20%0A%20%20%20%20%20%20%20%20%0A%20%20%20%20%0A%20%20%20%20%20%20%20%20marker_c6804976926e4eabbea89291cd223ffa.bindTooltip%28%0A%20%20%20%20%20%20%20%20%20%20%20%20%60%3Cdiv%3E%60%0A%20%20%20%20%20%20%20%20%20%20%20%20%2B%20%60%EA%B4%91%EC%A7%84%EC%86%8C%EB%B0%A9%EC%84%9C%60%20%2B%20%60%3C/div%3E%60%2C%0A%20%20%20%20%20%20%20%20%20%20%20%20%7B%22sticky%22%3A%20true%7D%0A%20%20%20%20%20%20%20%20%29%3B%0A%20%20%20%20%20%20%20%20%0A%20%20%20%20%0A%20%20%20%20%20%20%20%20var%20marker_35178c24ca6446208ebfbe3e765b681d%20%3D%20L.marker%28%0A%20%20%20%20%20%20%20%20%20%20%20%20%5B37.4977842%2C%20126.86525942153418%5D%2C%0A%20%20%20%20%20%20%20%20%20%20%20%20%7B%0A%20%20%20%20%20%20%20%20%20%20%20%20%20%20%20%20icon%3A%20new%20L.Icon.Default%28%29%2C%0A%20%20%20%20%20%20%20%20%20%20%20%20%20%20%20%20%7D%0A%20%20%20%20%20%20%20%20%20%20%20%20%29.addTo%28feature_group_sub_group_98191c76fc9140ff84fdcccf9363fe07%29%3B%0A%20%20%20%20%20%20%20%20%0A%20%20%20%20%0A%0A%20%20%20%20%20%20%20%20%20%20%20%20%20%20%20%20var%20icon_c8d3f1b116004ebbb49af38826ea1859%20%3D%20L.AwesomeMarkers.icon%28%7B%0A%20%20%20%20%20%20%20%20%20%20%20%20%20%20%20%20%20%20%20%20icon%3A%20%27fire-extinguisher%27%2C%0A%20%20%20%20%20%20%20%20%20%20%20%20%20%20%20%20%20%20%20%20iconColor%3A%20%27white%27%2C%0A%20%20%20%20%20%20%20%20%20%20%20%20%20%20%20%20%20%20%20%20markerColor%3A%20%27red%27%2C%0A%20%20%20%20%20%20%20%20%20%20%20%20%20%20%20%20%20%20%20%20prefix%3A%20%27fa%27%2C%0A%20%20%20%20%20%20%20%20%20%20%20%20%20%20%20%20%20%20%20%20extraClasses%3A%20%27fa-rotate-0%27%0A%20%20%20%20%20%20%20%20%20%20%20%20%20%20%20%20%20%20%20%20%7D%29%3B%0A%20%20%20%20%20%20%20%20%20%20%20%20%20%20%20%20marker_35178c24ca6446208ebfbe3e765b681d.setIcon%28icon_c8d3f1b116004ebbb49af38826ea1859%29%3B%0A%20%20%20%20%20%20%20%20%20%20%20%20%0A%20%20%20%20%0A%20%20%20%20%20%20%20%20%20%20%20%20var%20popup_84300a285ce945a5a10e4e43b133b139%20%3D%20L.popup%28%7BmaxWidth%3A%20%27300%27%0A%20%20%20%20%20%20%20%20%20%20%20%20%0A%20%20%20%20%20%20%20%20%20%20%20%20%7D%29%3B%0A%0A%20%20%20%20%20%20%20%20%20%20%20%20%0A%20%20%20%20%20%20%20%20%20%20%20%20%20%20%20%20var%20html_eb5ef38d88f64328b717db8baecad104%20%3D%20%24%28%60%3Cdiv%20id%3D%22html_eb5ef38d88f64328b717db8baecad104%22%20style%3D%22width%3A%20100.0%25%3B%20height%3A%20100.0%25%3B%22%3E%EC%9C%84%EB%8F%84%3A%2037.4977842%3Cbr%3E%EA%B2%BD%EB%8F%84%3A%20126.86525942153418%3C/div%3E%60%29%5B0%5D%3B%0A%20%20%20%20%20%20%20%20%20%20%20%20%20%20%20%20popup_84300a285ce945a5a10e4e43b133b139.setContent%28html_eb5ef38d88f64328b717db8baecad104%29%3B%0A%20%20%20%20%20%20%20%20%20%20%20%20%0A%0A%20%20%20%20%20%20%20%20%20%20%20%20marker_35178c24ca6446208ebfbe3e765b681d.bindPopup%28popup_84300a285ce945a5a10e4e43b133b139%29%0A%20%20%20%20%20%20%20%20%20%20%20%20%3B%0A%0A%20%20%20%20%20%20%20%20%20%20%20%20%0A%20%20%20%20%20%20%20%20%0A%20%20%20%20%0A%20%20%20%20%20%20%20%20marker_35178c24ca6446208ebfbe3e765b681d.bindTooltip%28%0A%20%20%20%20%20%20%20%20%20%20%20%20%60%3Cdiv%3E%60%0A%20%20%20%20%20%20%20%20%20%20%20%20%2B%20%60%EA%B5%AC%EB%A1%9C%EC%86%8C%EB%B0%A9%EC%84%9C%60%20%2B%20%60%3C/div%3E%60%2C%0A%20%20%20%20%20%20%20%20%20%20%20%20%7B%22sticky%22%3A%20true%7D%0A%20%20%20%20%20%20%20%20%29%3B%0A%20%20%20%20%20%20%20%20%0A%20%20%20%20%0A%20%20%20%20%20%20%20%20var%20marker_112ba7b654c54a74b6f26e76ddf278cc%20%3D%20L.marker%28%0A%20%20%20%20%20%20%20%20%20%20%20%20%5B37.63850185%2C%20127.07096201091493%5D%2C%0A%20%20%20%20%20%20%20%20%20%20%20%20%7B%0A%20%20%20%20%20%20%20%20%20%20%20%20%20%20%20%20icon%3A%20new%20L.Icon.Default%28%29%2C%0A%20%20%20%20%20%20%20%20%20%20%20%20%20%20%20%20%7D%0A%20%20%20%20%20%20%20%20%20%20%20%20%29.addTo%28feature_group_sub_group_98191c76fc9140ff84fdcccf9363fe07%29%3B%0A%20%20%20%20%20%20%20%20%0A%20%20%20%20%0A%0A%20%20%20%20%20%20%20%20%20%20%20%20%20%20%20%20var%20icon_e35248e4df044261944e7399d957a885%20%3D%20L.AwesomeMarkers.icon%28%7B%0A%20%20%20%20%20%20%20%20%20%20%20%20%20%20%20%20%20%20%20%20icon%3A%20%27fire-extinguisher%27%2C%0A%20%20%20%20%20%20%20%20%20%20%20%20%20%20%20%20%20%20%20%20iconColor%3A%20%27white%27%2C%0A%20%20%20%20%20%20%20%20%20%20%20%20%20%20%20%20%20%20%20%20markerColor%3A%20%27red%27%2C%0A%20%20%20%20%20%20%20%20%20%20%20%20%20%20%20%20%20%20%20%20prefix%3A%20%27fa%27%2C%0A%20%20%20%20%20%20%20%20%20%20%20%20%20%20%20%20%20%20%20%20extraClasses%3A%20%27fa-rotate-0%27%0A%20%20%20%20%20%20%20%20%20%20%20%20%20%20%20%20%20%20%20%20%7D%29%3B%0A%20%20%20%20%20%20%20%20%20%20%20%20%20%20%20%20marker_112ba7b654c54a74b6f26e76ddf278cc.setIcon%28icon_e35248e4df044261944e7399d957a885%29%3B%0A%20%20%20%20%20%20%20%20%20%20%20%20%0A%20%20%20%20%0A%20%20%20%20%20%20%20%20%20%20%20%20var%20popup_08102f8f8169478db538c3687317fa06%20%3D%20L.popup%28%7BmaxWidth%3A%20%27300%27%0A%20%20%20%20%20%20%20%20%20%20%20%20%0A%20%20%20%20%20%20%20%20%20%20%20%20%7D%29%3B%0A%0A%20%20%20%20%20%20%20%20%20%20%20%20%0A%20%20%20%20%20%20%20%20%20%20%20%20%20%20%20%20var%20html_a5acd1fda2bb420684b47283363432bd%20%3D%20%24%28%60%3Cdiv%20id%3D%22html_a5acd1fda2bb420684b47283363432bd%22%20style%3D%22width%3A%20100.0%25%3B%20height%3A%20100.0%25%3B%22%3E%EC%9C%84%EB%8F%84%3A%2037.63850185%3Cbr%3E%EA%B2%BD%EB%8F%84%3A%20127.07096201091493%3C/div%3E%60%29%5B0%5D%3B%0A%20%20%20%20%20%20%20%20%20%20%20%20%20%20%20%20popup_08102f8f8169478db538c3687317fa06.setContent%28html_a5acd1fda2bb420684b47283363432bd%29%3B%0A%20%20%20%20%20%20%20%20%20%20%20%20%0A%0A%20%20%20%20%20%20%20%20%20%20%20%20marker_112ba7b654c54a74b6f26e76ddf278cc.bindPopup%28popup_08102f8f8169478db538c3687317fa06%29%0A%20%20%20%20%20%20%20%20%20%20%20%20%3B%0A%0A%20%20%20%20%20%20%20%20%20%20%20%20%0A%20%20%20%20%20%20%20%20%0A%20%20%20%20%0A%20%20%20%20%20%20%20%20marker_112ba7b654c54a74b6f26e76ddf278cc.bindTooltip%28%0A%20%20%20%20%20%20%20%20%20%20%20%20%60%3Cdiv%3E%60%0A%20%20%20%20%20%20%20%20%20%20%20%20%2B%20%60%EB%85%B8%EC%9B%90%EC%86%8C%EB%B0%A9%EC%84%9C%60%20%2B%20%60%3C/div%3E%60%2C%0A%20%20%20%20%20%20%20%20%20%20%20%20%7B%22sticky%22%3A%20true%7D%0A%20%20%20%20%20%20%20%20%29%3B%0A%20%20%20%20%20%20%20%20%0A%20%20%20%20%0A%20%20%20%20%20%20%20%20var%20marker_f3ad98abf2e947edb30ed04a6538fdf7%20%3D%20L.marker%28%0A%20%20%20%20%20%20%20%20%20%20%20%20%5B37.6641149%2C%20127.0430471%5D%2C%0A%20%20%20%20%20%20%20%20%20%20%20%20%7B%0A%20%20%20%20%20%20%20%20%20%20%20%20%20%20%20%20icon%3A%20new%20L.Icon.Default%28%29%2C%0A%20%20%20%20%20%20%20%20%20%20%20%20%20%20%20%20%7D%0A%20%20%20%20%20%20%20%20%20%20%20%20%29.addTo%28feature_group_sub_group_98191c76fc9140ff84fdcccf9363fe07%29%3B%0A%20%20%20%20%20%20%20%20%0A%20%20%20%20%0A%0A%20%20%20%20%20%20%20%20%20%20%20%20%20%20%20%20var%20icon_efa475e96e9448f2aa47dfa3d327cb67%20%3D%20L.AwesomeMarkers.icon%28%7B%0A%20%20%20%20%20%20%20%20%20%20%20%20%20%20%20%20%20%20%20%20icon%3A%20%27fire-extinguisher%27%2C%0A%20%20%20%20%20%20%20%20%20%20%20%20%20%20%20%20%20%20%20%20iconColor%3A%20%27white%27%2C%0A%20%20%20%20%20%20%20%20%20%20%20%20%20%20%20%20%20%20%20%20markerColor%3A%20%27red%27%2C%0A%20%20%20%20%20%20%20%20%20%20%20%20%20%20%20%20%20%20%20%20prefix%3A%20%27fa%27%2C%0A%20%20%20%20%20%20%20%20%20%20%20%20%20%20%20%20%20%20%20%20extraClasses%3A%20%27fa-rotate-0%27%0A%20%20%20%20%20%20%20%20%20%20%20%20%20%20%20%20%20%20%20%20%7D%29%3B%0A%20%20%20%20%20%20%20%20%20%20%20%20%20%20%20%20marker_f3ad98abf2e947edb30ed04a6538fdf7.setIcon%28icon_efa475e96e9448f2aa47dfa3d327cb67%29%3B%0A%20%20%20%20%20%20%20%20%20%20%20%20%0A%20%20%20%20%0A%20%20%20%20%20%20%20%20%20%20%20%20var%20popup_1674d93af4064c8eb0c80a5d227508d0%20%3D%20L.popup%28%7BmaxWidth%3A%20%27300%27%0A%20%20%20%20%20%20%20%20%20%20%20%20%0A%20%20%20%20%20%20%20%20%20%20%20%20%7D%29%3B%0A%0A%20%20%20%20%20%20%20%20%20%20%20%20%0A%20%20%20%20%20%20%20%20%20%20%20%20%20%20%20%20var%20html_6a327471f9ce4301a78de7fc72128352%20%3D%20%24%28%60%3Cdiv%20id%3D%22html_6a327471f9ce4301a78de7fc72128352%22%20style%3D%22width%3A%20100.0%25%3B%20height%3A%20100.0%25%3B%22%3E%EC%9C%84%EB%8F%84%3A%2037.6641149%3Cbr%3E%EA%B2%BD%EB%8F%84%3A%20127.0430471%3C/div%3E%60%29%5B0%5D%3B%0A%20%20%20%20%20%20%20%20%20%20%20%20%20%20%20%20popup_1674d93af4064c8eb0c80a5d227508d0.setContent%28html_6a327471f9ce4301a78de7fc72128352%29%3B%0A%20%20%20%20%20%20%20%20%20%20%20%20%0A%0A%20%20%20%20%20%20%20%20%20%20%20%20marker_f3ad98abf2e947edb30ed04a6538fdf7.bindPopup%28popup_1674d93af4064c8eb0c80a5d227508d0%29%0A%20%20%20%20%20%20%20%20%20%20%20%20%3B%0A%0A%20%20%20%20%20%20%20%20%20%20%20%20%0A%20%20%20%20%20%20%20%20%0A%20%20%20%20%0A%20%20%20%20%20%20%20%20marker_f3ad98abf2e947edb30ed04a6538fdf7.bindTooltip%28%0A%20%20%20%20%20%20%20%20%20%20%20%20%60%3Cdiv%3E%60%0A%20%20%20%20%20%20%20%20%20%20%20%20%2B%20%60%EB%8F%84%EB%B4%89%EC%86%8C%EB%B0%A9%EC%84%9C%60%20%2B%20%60%3C/div%3E%60%2C%0A%20%20%20%20%20%20%20%20%20%20%20%20%7B%22sticky%22%3A%20true%7D%0A%20%20%20%20%20%20%20%20%29%3B%0A%20%20%20%20%20%20%20%20%0A%20%20%20%20%0A%20%20%20%20%20%20%20%20var%20marker_d088f5dd1bce4cce86bf2fc50037d99a%20%3D%20L.marker%28%0A%20%20%20%20%20%20%20%20%20%20%20%20%5B37.5639805%2C%20127.066449%5D%2C%0A%20%20%20%20%20%20%20%20%20%20%20%20%7B%0A%20%20%20%20%20%20%20%20%20%20%20%20%20%20%20%20icon%3A%20new%20L.Icon.Default%28%29%2C%0A%20%20%20%20%20%20%20%20%20%20%20%20%20%20%20%20%7D%0A%20%20%20%20%20%20%20%20%20%20%20%20%29.addTo%28feature_group_sub_group_98191c76fc9140ff84fdcccf9363fe07%29%3B%0A%20%20%20%20%20%20%20%20%0A%20%20%20%20%0A%0A%20%20%20%20%20%20%20%20%20%20%20%20%20%20%20%20var%20icon_f74f49dd56104378ad2cd833c7826878%20%3D%20L.AwesomeMarkers.icon%28%7B%0A%20%20%20%20%20%20%20%20%20%20%20%20%20%20%20%20%20%20%20%20icon%3A%20%27fire-extinguisher%27%2C%0A%20%20%20%20%20%20%20%20%20%20%20%20%20%20%20%20%20%20%20%20iconColor%3A%20%27white%27%2C%0A%20%20%20%20%20%20%20%20%20%20%20%20%20%20%20%20%20%20%20%20markerColor%3A%20%27red%27%2C%0A%20%20%20%20%20%20%20%20%20%20%20%20%20%20%20%20%20%20%20%20prefix%3A%20%27fa%27%2C%0A%20%20%20%20%20%20%20%20%20%20%20%20%20%20%20%20%20%20%20%20extraClasses%3A%20%27fa-rotate-0%27%0A%20%20%20%20%20%20%20%20%20%20%20%20%20%20%20%20%20%20%20%20%7D%29%3B%0A%20%20%20%20%20%20%20%20%20%20%20%20%20%20%20%20marker_d088f5dd1bce4cce86bf2fc50037d99a.setIcon%28icon_f74f49dd56104378ad2cd833c7826878%29%3B%0A%20%20%20%20%20%20%20%20%20%20%20%20%0A%20%20%20%20%0A%20%20%20%20%20%20%20%20%20%20%20%20var%20popup_4e194d26fef34337ae86907ae3f52df2%20%3D%20L.popup%28%7BmaxWidth%3A%20%27300%27%0A%20%20%20%20%20%20%20%20%20%20%20%20%0A%20%20%20%20%20%20%20%20%20%20%20%20%7D%29%3B%0A%0A%20%20%20%20%20%20%20%20%20%20%20%20%0A%20%20%20%20%20%20%20%20%20%20%20%20%20%20%20%20var%20html_82e4e00c1daa41c3ad24eb23ca349cf3%20%3D%20%24%28%60%3Cdiv%20id%3D%22html_82e4e00c1daa41c3ad24eb23ca349cf3%22%20style%3D%22width%3A%20100.0%25%3B%20height%3A%20100.0%25%3B%22%3E%EC%9C%84%EB%8F%84%3A%2037.5639805%3Cbr%3E%EA%B2%BD%EB%8F%84%3A%20127.066449%3C/div%3E%60%29%5B0%5D%3B%0A%20%20%20%20%20%20%20%20%20%20%20%20%20%20%20%20popup_4e194d26fef34337ae86907ae3f52df2.setContent%28html_82e4e00c1daa41c3ad24eb23ca349cf3%29%3B%0A%20%20%20%20%20%20%20%20%20%20%20%20%0A%0A%20%20%20%20%20%20%20%20%20%20%20%20marker_d088f5dd1bce4cce86bf2fc50037d99a.bindPopup%28popup_4e194d26fef34337ae86907ae3f52df2%29%0A%20%20%20%20%20%20%20%20%20%20%20%20%3B%0A%0A%20%20%20%20%20%20%20%20%20%20%20%20%0A%20%20%20%20%20%20%20%20%0A%20%20%20%20%0A%20%20%20%20%20%20%20%20marker_d088f5dd1bce4cce86bf2fc50037d99a.bindTooltip%28%0A%20%20%20%20%20%20%20%20%20%20%20%20%60%3Cdiv%3E%60%0A%20%20%20%20%20%20%20%20%20%20%20%20%2B%20%60%EB%8F%99%EB%8C%80%EB%AC%B8%EC%86%8C%EB%B0%A9%EC%84%9C%60%20%2B%20%60%3C/div%3E%60%2C%0A%20%20%20%20%20%20%20%20%20%20%20%20%7B%22sticky%22%3A%20true%7D%0A%20%20%20%20%20%20%20%20%29%3B%0A%20%20%20%20%20%20%20%20%0A%20%20%20%20%0A%20%20%20%20%20%20%20%20%20%20%20%20var%20layer_control_559b24060dca4275abf0bbc91ccb61e0%20%3D%20%7B%0A%20%20%20%20%20%20%20%20%20%20%20%20%20%20%20%20base_layers%20%3A%20%7B%20%22openstreetmap%22%20%3A%20tile_layer_2d58e0e1099c47df92573397175a1836%2C%22stamenterrain%22%20%3A%20tile_layer_1bb7efdeaca2471694f79bcf0c077c85%2C%22stamenwatercolor%22%20%3A%20tile_layer_719bfff1e3794293864cf44b88bc49f6%2C%22cartodbpositron%22%20%3A%20tile_layer_c808843dbe4a4d65acbc31d23dd846b7%2C%20%7D%2C%0A%20%20%20%20%20%20%20%20%20%20%20%20%20%20%20%20overlays%20%3A%20%7B%20%22Density%22%20%3A%20heat_map_85f9f738e265497eb7db675f992f84aa%2C%22%EC%86%8C%EB%B0%A9%EC%84%9C%22%20%3A%20feature_group_sub_group_98191c76fc9140ff84fdcccf9363fe07%2C%20%7D%0A%20%20%20%20%20%20%20%20%20%20%20%20%20%20%20%20%7D%3B%0A%20%20%20%20%20%20%20%20%20%20%20%20L.control.layers%28%0A%20%20%20%20%20%20%20%20%20%20%20%20%20%20%20%20layer_control_559b24060dca4275abf0bbc91ccb61e0.base_layers%2C%0A%20%20%20%20%20%20%20%20%20%20%20%20%20%20%20%20layer_control_559b24060dca4275abf0bbc91ccb61e0.overlays%2C%0A%20%20%20%20%20%20%20%20%20%20%20%20%20%20%20%20%7Bposition%3A%20%27topright%27%2C%0A%20%20%20%20%20%20%20%20%20%20%20%20%20%20%20%20%20collapsed%3A%20true%2C%0A%20%20%20%20%20%20%20%20%20%20%20%20%20%20%20%20%20autoZIndex%3A%20true%0A%20%20%20%20%20%20%20%20%20%20%20%20%20%20%20%20%7D%29.addTo%28map_9bcc9031f8684ad2b7c30d2652c6f527%29%3B%0A%20%20%20%20%20%20%20%20%20%20%20%20%0A%20%20%20%20%20%20%20%20%20%20%20%20%20%20%20%20tile_layer_1bb7efdeaca2471694f79bcf0c077c85.remove%28%29%3B%0A%20%20%20%20%20%20%20%20%20%20%20%20%20%20%20%20tile_layer_719bfff1e3794293864cf44b88bc49f6.remove%28%29%3B%0A%20%20%20%20%20%20%20%20%20%20%20%20%20%20%20%20tile_layer_c808843dbe4a4d65acbc31d23dd846b7.remove%28%29%3B%0A%20%20%20%20%20%20%20%20%0A%3C/script%3E onload=\"this.contentDocument.open();this.contentDocument.write(    decodeURIComponent(this.getAttribute('data-html')));this.contentDocument.close();\" allowfullscreen webkitallowfullscreen mozallowfullscreen></iframe></div></div>"
            ],
            "text/plain": [
              "<folium.folium.Map at 0x7fd9d4369850>"
            ]
          },
          "metadata": {},
          "execution_count": 32
        }
      ]
    },
    {
      "cell_type": "code",
      "metadata": {
        "colab": {
          "base_uri": "https://localhost:8080/",
          "height": 17
        },
        "id": "MNng8_Cpb49X",
        "outputId": "4f13a831-8a62-420e-fd85-d570a825637d"
      },
      "source": [
        "#지도 저장하기\n",
        "map.save('map_save.html')\n",
        "from google.colab import files\n",
        "files.download('/content/map_save.html')"
      ],
      "execution_count": 33,
      "outputs": [
        {
          "output_type": "display_data",
          "data": {
            "application/javascript": [
              "\n",
              "    async function download(id, filename, size) {\n",
              "      if (!google.colab.kernel.accessAllowed) {\n",
              "        return;\n",
              "      }\n",
              "      const div = document.createElement('div');\n",
              "      const label = document.createElement('label');\n",
              "      label.textContent = `Downloading \"${filename}\": `;\n",
              "      div.appendChild(label);\n",
              "      const progress = document.createElement('progress');\n",
              "      progress.max = size;\n",
              "      div.appendChild(progress);\n",
              "      document.body.appendChild(div);\n",
              "\n",
              "      const buffers = [];\n",
              "      let downloaded = 0;\n",
              "\n",
              "      const channel = await google.colab.kernel.comms.open(id);\n",
              "      // Send a message to notify the kernel that we're ready.\n",
              "      channel.send({})\n",
              "\n",
              "      for await (const message of channel.messages) {\n",
              "        // Send a message to notify the kernel that we're ready.\n",
              "        channel.send({})\n",
              "        if (message.buffers) {\n",
              "          for (const buffer of message.buffers) {\n",
              "            buffers.push(buffer);\n",
              "            downloaded += buffer.byteLength;\n",
              "            progress.value = downloaded;\n",
              "          }\n",
              "        }\n",
              "      }\n",
              "      const blob = new Blob(buffers, {type: 'application/binary'});\n",
              "      const a = document.createElement('a');\n",
              "      a.href = window.URL.createObjectURL(blob);\n",
              "      a.download = filename;\n",
              "      div.appendChild(a);\n",
              "      a.click();\n",
              "      div.remove();\n",
              "    }\n",
              "  "
            ],
            "text/plain": [
              "<IPython.core.display.Javascript object>"
            ]
          },
          "metadata": {}
        },
        {
          "output_type": "display_data",
          "data": {
            "application/javascript": [
              "download(\"download_2aaa11b4-c863-4773-a445-eaae8e5ea25b\", \"map_save.html\", 25841)"
            ],
            "text/plain": [
              "<IPython.core.display.Javascript object>"
            ]
          },
          "metadata": {}
        }
      ]
    }
  ]
}