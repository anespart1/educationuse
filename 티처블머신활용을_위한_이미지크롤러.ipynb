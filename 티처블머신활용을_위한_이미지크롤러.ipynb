{
  "nbformat": 4,
  "nbformat_minor": 0,
  "metadata": {
    "colab": {
      "name": "티처블머신활용을 위한_이미지크롤러.ipynb",
      "provenance": [],
      "collapsed_sections": [
        "bif_6pbEClut"
      ],
      "authorship_tag": "ABX9TyO56jhKDQpu0RKaAw3f6RfQ",
      "include_colab_link": true
    },
    "kernelspec": {
      "name": "python3",
      "display_name": "Python 3"
    },
    "language_info": {
      "name": "python"
    }
  },
  "cells": [
    {
      "cell_type": "markdown",
      "metadata": {
        "id": "view-in-github",
        "colab_type": "text"
      },
      "source": [
        "<a href=\"https://colab.research.google.com/github/anespart1/educationuse/blob/main/%ED%8B%B0%EC%B2%98%EB%B8%94%EB%A8%B8%EC%8B%A0%ED%99%9C%EC%9A%A9%EC%9D%84_%EC%9C%84%ED%95%9C_%EC%9D%B4%EB%AF%B8%EC%A7%80%ED%81%AC%EB%A1%A4%EB%9F%AC.ipynb\" target=\"_parent\"><img src=\"https://colab.research.google.com/assets/colab-badge.svg\" alt=\"Open In Colab\"/></a>"
      ]
    },
    {
      "cell_type": "code",
      "metadata": {
        "id": "TksV9IrBpqNt"
      },
      "source": [
        "#처음 실행시 아래 3항목 #제거 필요\n",
        "#!pip install selenium\n",
        "#!apt-get update\n",
        "#!apt install chromium-chromedriver"
      ],
      "execution_count": null,
      "outputs": []
    },
    {
      "cell_type": "markdown",
      "metadata": {
        "id": "bif_6pbEClut"
      },
      "source": [
        "#셀레니움 설치 / 가져오기 / 크롬드라이버 준비(숨김)"
      ]
    },
    {
      "cell_type": "code",
      "metadata": {
        "id": "laqr8578_FXw"
      },
      "source": [
        "from selenium import webdriver\n",
        "from selenium.webdriver.common.keys import Keys\n",
        "import time\n",
        "import urllib.request\n",
        "import os\n",
        " \n",
        "#옵션 설정 및 크롬 드라이버 준비\n",
        "chrome_options = webdriver.ChromeOptions()\n",
        "chrome_options.add_argument('--headless')\n",
        "chrome_options.add_argument('--no-sandbox')\n",
        "chrome_options.add_argument('--disable-dev-shm-usage')"
      ],
      "execution_count": null,
      "outputs": []
    },
    {
      "cell_type": "code",
      "metadata": {
        "id": "U1_ntglrS3Im"
      },
      "source": [
        "def web_image_crawler(keyword=None, url = \"https://www.google.co.kr/imghp?hl=ko&tab=ri&authuser=0&ogbl\", stop=10):\n",
        "  #디렉토리 경로 초기화\n",
        "  path = '/content'\n",
        "  try:\n",
        "    os.mkdir('{}/{}'.format(path, 'download'))\n",
        "  except FileExistsError:\n",
        "    pass\n",
        "  os.chdir('{}/{}'.format(path, 'download'))\n",
        "  #드라이버 시동, URL 열기\n",
        "  driver = webdriver.Chrome('chromedriver', chrome_options=chrome_options)\n",
        "  driver.get(url)\n",
        "  #구글 웹 엘리먼트 클래스값(q)을 활용, 검색어 입력\n",
        "  search = driver.find_element_by_name('q')\n",
        "  search.send_keys(keyword)\n",
        "  search.send_keys(Keys.RETURN)\n",
        "\n",
        "  #스크롤 내리기(최대)\n",
        "  last_height = driver.execute_script(\"return document.body.scrollHeight\")\n",
        "  while True:\n",
        "    driver.execute_script(\"window.scrollTo(0, document.body.scrollHeight);\")\n",
        "    time.sleep(2)\n",
        "    new_height = driver.execute_script(\"return document.body.scrollHeight\")\n",
        "    if new_height == last_height:\n",
        "      try:\n",
        "        driver.find_element_by_css_selector(\".mye4qd\").click()\n",
        "      except:\n",
        "        break\n",
        "    last_height = new_height\n",
        "\n",
        "  #CSS 태그로 선택해서 리스트 작성\n",
        "  images = driver.find_elements_by_css_selector(\".rg_i.Q4LuWd\")\n",
        "  #저장경로 생성\n",
        "  try:\n",
        "    os.mkdir('{}/{}/{}'.format(path, 'download', keyword))\n",
        "  except FileExistsError:\n",
        "    pass\n",
        "  os.chdir('{}/{}/{}'.format(path, 'download', keyword))\n",
        "\n",
        "  count = 0\n",
        "  for image in images:\n",
        "    if count < stop:\n",
        "      try:\n",
        "        image.click()\n",
        "        time.sleep(2)\n",
        "        image_url = driver.find_element_by_css_selector('.n3VNCb').get_attribute(\"src\")\n",
        "        count = count+1\n",
        "        urllib.request.urlretrieve(image_url, keyword + '_' + str(count) + \".jpg\")\n",
        "      except:\n",
        "        pass\n",
        "    else:\n",
        "      break\n",
        "  \n",
        "  #결과 보고\n",
        "  print(str(keyword) + \" 이미지(총 {}개를) 가져왔습니다. finished.\".format(count))\n",
        "  driver.close()"
      ],
      "execution_count": null,
      "outputs": []
    },
    {
      "cell_type": "markdown",
      "metadata": {
        "id": "JBIqefvZy0YF"
      },
      "source": [
        "#구글 이미지크롤링 및 저장(입력후 Ctrl+F10)"
      ]
    },
    {
      "cell_type": "code",
      "metadata": {
        "colab": {
          "base_uri": "https://localhost:8080/",
          "height": 791
        },
        "id": "pL1Pj-_Bxe7h",
        "outputId": "87a5494b-47f3-4c9d-90ce-bcadef618b07"
      },
      "source": [
        "#@markdown ### 꽃이름을 입력해주세요:\n",
        "#@markdown (cf. 무궁화 히아신스 동백꽃)\n",
        "flowers = \"\\uBB34\\uAD81\\uD654 \\uBC9A\\uAF43 \\uB77C\\uC77C\\uB77D\" #@param {type:\"string\"}\n",
        "#@markdown 꽃구분은 띄어쓰기로만 부탁드립니다.\n",
        "for flower in flowers.split():\n",
        "  web_image_crawler(keyword=flower, stop=10)\n",
        "\n",
        "#파일 다운로드\n",
        "!zip -r /content/download.zip /content/download/\n",
        "from google.colab import files\n",
        "files.download('/content/download.zip')"
      ],
      "execution_count": null,
      "outputs": [
        {
          "output_type": "stream",
          "text": [
            "/usr/local/lib/python3.7/dist-packages/ipykernel_launcher.py:10: DeprecationWarning: use options instead of chrome_options\n",
            "  # Remove the CWD from sys.path while we load stuff.\n"
          ],
          "name": "stderr"
        },
        {
          "output_type": "stream",
          "text": [
            "무궁화 이미지(총 10개를) 가져왔습니다. finished.\n"
          ],
          "name": "stdout"
        },
        {
          "output_type": "stream",
          "text": [
            "/usr/local/lib/python3.7/dist-packages/ipykernel_launcher.py:10: DeprecationWarning: use options instead of chrome_options\n",
            "  # Remove the CWD from sys.path while we load stuff.\n"
          ],
          "name": "stderr"
        },
        {
          "output_type": "stream",
          "text": [
            "벚꽃 이미지(총 10개를) 가져왔습니다. finished.\n"
          ],
          "name": "stdout"
        },
        {
          "output_type": "stream",
          "text": [
            "/usr/local/lib/python3.7/dist-packages/ipykernel_launcher.py:10: DeprecationWarning: use options instead of chrome_options\n",
            "  # Remove the CWD from sys.path while we load stuff.\n"
          ],
          "name": "stderr"
        },
        {
          "output_type": "stream",
          "text": [
            "라일락 이미지(총 10개를) 가져왔습니다. finished.\n",
            "  adding: content/download/ (stored 0%)\n",
            "  adding: content/download/무궁화/ (stored 0%)\n",
            "  adding: content/download/무궁화/무궁화_3.jpg (deflated 0%)\n",
            "  adding: content/download/무궁화/무궁화_8.jpg (deflated 3%)\n",
            "  adding: content/download/무궁화/무궁화_5.jpg (deflated 0%)\n",
            "  adding: content/download/무궁화/무궁화_9.jpg (deflated 0%)\n",
            "  adding: content/download/무궁화/무궁화_7.jpg (deflated 0%)\n",
            "  adding: content/download/무궁화/무궁화_4.jpg (deflated 0%)\n",
            "  adding: content/download/무궁화/무궁화_6.jpg (deflated 0%)\n",
            "  adding: content/download/무궁화/무궁화_1.jpg (deflated 1%)\n",
            "  adding: content/download/무궁화/무궁화_10.jpg (deflated 0%)\n",
            "  adding: content/download/무궁화/무궁화_2.jpg (deflated 0%)\n",
            "  adding: content/download/벚꽃/ (stored 0%)\n",
            "  adding: content/download/벚꽃/벚꽃_10.jpg (deflated 0%)\n",
            "  adding: content/download/벚꽃/벚꽃_2.jpg (deflated 0%)\n",
            "  adding: content/download/벚꽃/벚꽃_9.jpg (deflated 0%)\n",
            "  adding: content/download/벚꽃/벚꽃_5.jpg (deflated 1%)\n",
            "  adding: content/download/벚꽃/벚꽃_3.jpg (deflated 0%)\n",
            "  adding: content/download/벚꽃/벚꽃_6.jpg (deflated 0%)\n",
            "  adding: content/download/벚꽃/벚꽃_1.jpg (deflated 1%)\n",
            "  adding: content/download/벚꽃/벚꽃_7.jpg (deflated 0%)\n",
            "  adding: content/download/벚꽃/벚꽃_4.jpg (deflated 0%)\n",
            "  adding: content/download/벚꽃/벚꽃_8.jpg (deflated 0%)\n",
            "  adding: content/download/라일락/ (stored 0%)\n",
            "  adding: content/download/라일락/라일락_1.jpg (deflated 0%)\n",
            "  adding: content/download/라일락/라일락_3.jpg (deflated 0%)\n",
            "  adding: content/download/라일락/라일락_10.jpg (deflated 1%)\n",
            "  adding: content/download/라일락/라일락_2.jpg (deflated 0%)\n",
            "  adding: content/download/라일락/라일락_7.jpg (deflated 0%)\n",
            "  adding: content/download/라일락/라일락_9.jpg (deflated 0%)\n",
            "  adding: content/download/라일락/라일락_4.jpg (deflated 0%)\n",
            "  adding: content/download/라일락/라일락_8.jpg (deflated 0%)\n",
            "  adding: content/download/라일락/라일락_5.jpg (deflated 0%)\n",
            "  adding: content/download/라일락/라일락_6.jpg (deflated 0%)\n"
          ],
          "name": "stdout"
        },
        {
          "output_type": "display_data",
          "data": {
            "application/javascript": [
              "\n",
              "    async function download(id, filename, size) {\n",
              "      if (!google.colab.kernel.accessAllowed) {\n",
              "        return;\n",
              "      }\n",
              "      const div = document.createElement('div');\n",
              "      const label = document.createElement('label');\n",
              "      label.textContent = `Downloading \"${filename}\": `;\n",
              "      div.appendChild(label);\n",
              "      const progress = document.createElement('progress');\n",
              "      progress.max = size;\n",
              "      div.appendChild(progress);\n",
              "      document.body.appendChild(div);\n",
              "\n",
              "      const buffers = [];\n",
              "      let downloaded = 0;\n",
              "\n",
              "      const channel = await google.colab.kernel.comms.open(id);\n",
              "      // Send a message to notify the kernel that we're ready.\n",
              "      channel.send({})\n",
              "\n",
              "      for await (const message of channel.messages) {\n",
              "        // Send a message to notify the kernel that we're ready.\n",
              "        channel.send({})\n",
              "        if (message.buffers) {\n",
              "          for (const buffer of message.buffers) {\n",
              "            buffers.push(buffer);\n",
              "            downloaded += buffer.byteLength;\n",
              "            progress.value = downloaded;\n",
              "          }\n",
              "        }\n",
              "      }\n",
              "      const blob = new Blob(buffers, {type: 'application/binary'});\n",
              "      const a = document.createElement('a');\n",
              "      a.href = window.URL.createObjectURL(blob);\n",
              "      a.download = filename;\n",
              "      div.appendChild(a);\n",
              "      a.click();\n",
              "      div.remove();\n",
              "    }\n",
              "  "
            ],
            "text/plain": [
              "<IPython.core.display.Javascript object>"
            ]
          },
          "metadata": {}
        },
        {
          "output_type": "display_data",
          "data": {
            "application/javascript": [
              "download(\"download_bbc21d5d-8626-4b5d-af8a-f38faa921002\", \"download.zip\", 305937)"
            ],
            "text/plain": [
              "<IPython.core.display.Javascript object>"
            ]
          },
          "metadata": {}
        }
      ]
    }
  ]
}