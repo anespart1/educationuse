{
  "nbformat": 4,
  "nbformat_minor": 0,
  "metadata": {
    "colab": {
      "name": "기상청데이터시각화(심플).ipynb",
      "provenance": [],
      "collapsed_sections": [
        "bif_6pbEClut",
        "FLdVns6OSraJ"
      ],
      "authorship_tag": "ABX9TyPf8A8jXvX0qCHRh9W5gT2j",
      "include_colab_link": true
    },
    "kernelspec": {
      "name": "python3",
      "display_name": "Python 3"
    },
    "language_info": {
      "name": "python"
    }
  },
  "cells": [
    {
      "cell_type": "markdown",
      "metadata": {
        "id": "view-in-github",
        "colab_type": "text"
      },
      "source": [
        "<a href=\"https://colab.research.google.com/github/anespart1/educationuse/blob/main/Datavisualization_of_weather_data(simple).ipynb\" target=\"_parent\"><img src=\"https://colab.research.google.com/assets/colab-badge.svg\" alt=\"Open In Colab\"/></a>"
      ]
    },
    {
      "cell_type": "markdown",
      "metadata": {
        "id": "bif_6pbEClut"
      },
      "source": [
        "#셀레니움 설치 / 가져오기 / 크롬드라이버 준비"
      ]
    },
    {
      "cell_type": "code",
      "metadata": {
        "id": "laqr8578_FXw"
      },
      "source": [
        "#처음 실행시 아래 3항목 #제거 필요\n",
        "#!pip install selenium\n",
        "#!apt-get update\n",
        "#!apt install chromium-chromedriver\n",
        "\n",
        "from selenium import webdriver\n",
        "from selenium.webdriver.support.ui import Select\n",
        "import matplotlib.pyplot as plt\n",
        "import pandas as pd\n",
        "import plotly.offline\n",
        "import plotly.express as px\n",
        "import plotly.io as pio\n",
        "\n",
        "#옵션 설정 및 크롬 드라이버 준비\n",
        "chrome_options = webdriver.ChromeOptions()\n",
        "chrome_options.add_argument('--headless')\n",
        "chrome_options.add_argument('--no-sandbox')\n",
        "chrome_options.add_argument('--disable-dev-shm-usage')\n",
        "\n",
        "#플로티 옵션 설정 및 준비\n",
        "plotly.offline.init_notebook_mode(connected=True)\n",
        "pio.renderers.default = 'colab'"
      ],
      "execution_count": 26,
      "outputs": []
    },
    {
      "cell_type": "markdown",
      "metadata": {
        "id": "DDecc21pe62Z"
      },
      "source": [
        "# 기상청 데이터 시각화(심플버전)"
      ]
    },
    {
      "cell_type": "code",
      "metadata": {
        "colab": {
          "base_uri": "https://localhost:8080/"
        },
        "id": "ujsTu0_mfS5H",
        "outputId": "1fa6e72a-2bf2-4837-9189-8423db60b16d"
      },
      "source": [
        "#@title 지역을 선택해주세요 { run: \"auto\" }\n",
        "option1 = \"\\uBC31\\uB839\\uB3C4(\\uC720)\" #@param ['서울(유)','백령도(유)','동두천(무)','파주(무)','인천(유)','수원(유)','강화(무)','양평(무)','이천(무)','북춘천(유)','철원(무)','춘천(무)','원주(무)','영월(무)','인제(무)','홍천(무)','북강릉(유)','울릉도(유)','강릉(무)','속초(무)','대관령(무)','동해(무)','태백(무)','정선군(무)','청주(유)','충주(무)','추풍령(무)','제천(무)','보은(무)','홍성(유)','대전(유)','서산(무)','천안(무)','보령(무)','부여(무)','금산(무)','전주(유)','군산(무)','부안(무)','임실(무)','정읍(무)','남원(무)','장수(무)','순창(무)','고창(무)','고창(구)','광주(유)','목포(유)','흑산도(유)','여수(유)','완도(무)','진도(첨찰산)(무)','진도군(무)','영광(무)','순천(무)','순천(구)','장흥(무)','해남(무)','고흥(무)','강진군(무)','보성군(무)','광양(무)','안동(유)','포항(유)','대구(유)','대구(구)','울진(무)','상주(무)','봉화(무)','영주(무)','문경(무)','영덕(무)','의성(무)','구미(무)','영천(무)','청송군(무)','경주(무)','부산(유)','울산(유)','창원(유)','북창원(무)','통영(무)','진주(무)','거창(무)','합천(무)','밀양(무)','산청(무)','거제(무)','남해(무)','김해시(무)','양산(무)','의령군(무)','함양군(무)','제주(유)','고산(무)','서귀포(무)','성산(무)']\n",
        "print('{} 를 선택했습니다.'.format(option1))"
      ],
      "execution_count": 2,
      "outputs": [
        {
          "output_type": "stream",
          "text": [
            "백령도(유) 를 선택했습니다.\n"
          ],
          "name": "stdout"
        }
      ]
    },
    {
      "cell_type": "code",
      "metadata": {
        "colab": {
          "base_uri": "https://localhost:8080/"
        },
        "id": "aNPaz8zkEpTz",
        "outputId": "dbefdea4-c15b-4f86-d1b2-c2f613bc79cb"
      },
      "source": [
        "#@title 연도를 선택해주세요. { run: \"auto\" }\n",
        "option2 = 2012  #@param {type: \"slider\", min: 1960, max: 2021}\n",
        "print('{} 를 선택했습니다.'.format(option2))"
      ],
      "execution_count": 3,
      "outputs": [
        {
          "output_type": "stream",
          "text": [
            "2012 를 선택했습니다.\n"
          ],
          "name": "stdout"
        }
      ]
    },
    {
      "cell_type": "code",
      "metadata": {
        "colab": {
          "base_uri": "https://localhost:8080/"
        },
        "id": "38d5u4oyGCKW",
        "outputId": "e4d36c7e-434c-4b9e-9806-3631a7f75b2b"
      },
      "source": [
        "#@title 데이터를 선택해주세요 { run: \"auto\" }\n",
        "option3 = \"\\uD3C9\\uADE0\\uAE30\\uC628\" #@param ['평균기온', '최저기온', '최고기온', '강수량', '신적설', '평균풍속', '상대습도', '일조시간', '운량', '날씨']\n",
        "print('{} 를 선택했습니다.'.format(option3))"
      ],
      "execution_count": 4,
      "outputs": [
        {
          "output_type": "stream",
          "text": [
            "평균기온 를 선택했습니다.\n"
          ],
          "name": "stdout"
        }
      ]
    },
    {
      "cell_type": "markdown",
      "metadata": {
        "id": "FLdVns6OSraJ"
      },
      "source": [
        "## 코드 실행부(숨김)"
      ]
    },
    {
      "cell_type": "code",
      "metadata": {
        "colab": {
          "base_uri": "https://localhost:8080/"
        },
        "id": "2cj3Xfy_CS7o",
        "outputId": "26dac724-aad6-4f19-c569-0f8afe587ac8"
      },
      "source": [
        "driver = webdriver.Chrome('chromedriver', chrome_options=chrome_options)\n",
        "driver.get('http://www.weather.go.kr/weather/climate/past_table.jsp') #기상청 날씨누리 데이터 가져오기"
      ],
      "execution_count": 78,
      "outputs": [
        {
          "output_type": "stream",
          "text": [
            "/usr/local/lib/python3.7/dist-packages/ipykernel_launcher.py:1: DeprecationWarning: use options instead of chrome_options\n",
            "  \"\"\"Entry point for launching an IPython kernel.\n"
          ],
          "name": "stderr"
        }
      ]
    },
    {
      "cell_type": "code",
      "metadata": {
        "id": "Fx9vItXiw8Dx"
      },
      "source": [
        "#옵션값 가져오는 방법(수정용)\n",
        "#menu = driver.find_element_by_id('observation_select3').text\n",
        "#menu = menu.split('\\n')\n",
        "#am = [i.lstrip() for i in menu]\n",
        "#bm = [i for i in am if '-' not in i and len(i) > 1]\n",
        "#print(bm)"
      ],
      "execution_count": 79,
      "outputs": []
    },
    {
      "cell_type": "code",
      "metadata": {
        "id": "glGCbbV5DV9h"
      },
      "source": [
        "select = Select(driver.find_element_by_id('observation_select1'))\n",
        "select.select_by_visible_text(option1)\n",
        "driver.find_element_by_xpath('//*[@id=\"content_weather\"]/form/fieldset/input[1]').click()"
      ],
      "execution_count": 80,
      "outputs": []
    },
    {
      "cell_type": "code",
      "metadata": {
        "id": "_npF5RDgDpmW"
      },
      "source": [
        "select = Select(driver.find_element_by_id('observation_select2'))\n",
        "select.select_by_visible_text(str(option2))\n",
        "driver.find_element_by_xpath('//*[@id=\"content_weather\"]/form/fieldset/input[2]').click()"
      ],
      "execution_count": 81,
      "outputs": []
    },
    {
      "cell_type": "code",
      "metadata": {
        "id": "5YejQhfgEqkg"
      },
      "source": [
        "select = Select(driver.find_element_by_id('observation_select3'))\n",
        "select.select_by_visible_text(option3)\n",
        "driver.find_element_by_xpath('//*[@id=\"content_weather\"]/form/fieldset/input[3]').click()"
      ],
      "execution_count": 82,
      "outputs": []
    },
    {
      "cell_type": "code",
      "metadata": {
        "id": "1TyFVxiXGlCv"
      },
      "source": [
        "table = driver.find_element_by_xpath('//*[@id=\"content_weather\"]/table')\n",
        "\n",
        "#테이블 열이름 가져오기\n",
        "heads = table.find_elements_by_class_name('top_line')\n",
        "thead = [value.text for index, value in enumerate(heads)]\n",
        "\n",
        "#테이블 각 행값 가져오기\n",
        "tbody = table.find_element_by_tag_name(\"tbody\")\n",
        "rows = tbody.find_elements_by_tag_name(\"tr\")\n",
        "trows = []\n",
        "for a_row in rows:\n",
        "  body = a_row.find_elements_by_tag_name(\"td\")\n",
        "  trow = []\n",
        "  for index, value in enumerate(body):\n",
        "    trow.append(value.text)\n",
        "  trows.append(trow)"
      ],
      "execution_count": 83,
      "outputs": []
    },
    {
      "cell_type": "code",
      "metadata": {
        "id": "8VoscsByILSs"
      },
      "source": [
        "df = pd.DataFrame(data=trows, columns=thead)\n",
        "#print('[ {}(℃) ] {} / {}년'.format(option1, option2, option3))\n",
        "#df"
      ],
      "execution_count": 84,
      "outputs": []
    },
    {
      "cell_type": "markdown",
      "metadata": {
        "id": "MBgWx8wgS3x-"
      },
      "source": [
        "## 월별 기온 표시 부분"
      ]
    },
    {
      "cell_type": "code",
      "metadata": {
        "colab": {
          "base_uri": "https://localhost:8080/",
          "height": 542
        },
        "id": "wgsk9KZzHiGu",
        "outputId": "1cff42db-c4d4-4e66-b87c-66ae15b02ab2"
      },
      "source": [
        "#@title 달(月)을 선택해주세요 { run: \"auto\" }\n",
        "option4 = \"1\\uC6D4\" #@param ['1월', '2월', '3월', '4월', '5월', '6월', '7월', '8월', '9월', '10월', '11월', '12월']\n",
        "\n",
        "df1 = df[df[option4]!=' '].copy()\n",
        "df2 = df1[option4]\n",
        "df2 = pd.to_numeric(df2) #숫자형 데이터로 변경\n",
        "df2 = df2.reset_index()\n",
        "df2['index'] = df2['index'] + 1\n",
        "df2.columns = ['날짜', '기온']\n",
        "\n",
        "title = '{}년 {} {} {} 그래프'.format(option2, option4, option1.split('(')[0], option3)\n",
        "fig = px.line(df2, x=\"날짜\", y=\"기온\", title=title)\n",
        "fig.show()"
      ],
      "execution_count": 118,
      "outputs": [
        {
          "output_type": "display_data",
          "data": {
            "text/html": [
              "<html>\n",
              "<head><meta charset=\"utf-8\" /></head>\n",
              "<body>\n",
              "    <div>\n",
              "            <script src=\"https://cdnjs.cloudflare.com/ajax/libs/mathjax/2.7.5/MathJax.js?config=TeX-AMS-MML_SVG\"></script><script type=\"text/javascript\">if (window.MathJax) {MathJax.Hub.Config({SVG: {font: \"STIX-Web\"}});}</script>\n",
              "                <script type=\"text/javascript\">window.PlotlyConfig = {MathJaxConfig: 'local'};</script>\n",
              "        <script src=\"https://cdn.plot.ly/plotly-latest.min.js\"></script>    \n",
              "            <div id=\"171191bd-66cc-4390-b604-d69f05706e67\" class=\"plotly-graph-div\" style=\"height:525px; width:100%;\"></div>\n",
              "            <script type=\"text/javascript\">\n",
              "                \n",
              "                    window.PLOTLYENV=window.PLOTLYENV || {};\n",
              "                    \n",
              "                if (document.getElementById(\"171191bd-66cc-4390-b604-d69f05706e67\")) {\n",
              "                    Plotly.newPlot(\n",
              "                        '171191bd-66cc-4390-b604-d69f05706e67',\n",
              "                        [{\"hoverlabel\": {\"namelength\": 0}, \"hovertemplate\": \"\\ub0a0\\uc9dc=%{x}<br>\\uae30\\uc628=%{y}\", \"legendgroup\": \"\", \"line\": {\"color\": \"#636efa\", \"dash\": \"solid\"}, \"mode\": \"lines\", \"name\": \"\", \"showlegend\": false, \"type\": \"scatter\", \"x\": [1, 2, 3, 4, 5, 6, 7, 8, 9, 10, 11, 12, 13, 14, 15, 16, 17, 18, 19, 20, 21, 22, 23, 24, 25, 26, 27, 28, 29, 30, 31, 32], \"xaxis\": \"x\", \"y\": [-2.9, -3.3, -4.0, -5.3, -2.0, -2.3, -2.5, -0.6, -0.1, -1.1, -6.0, -1.2, 0.1, 0.1, -2.2, -1.0, 1.0, 1.5, 1.4, 2.1, -4.2, -9.1, -7.6, -5.4, -5.0, 0.4, -0.1, -2.6, -3.3, -5.9, -4.5, -2.4], \"yaxis\": \"y\"}],\n",
              "                        {\"legend\": {\"tracegroupgap\": 0}, \"template\": {\"data\": {\"bar\": [{\"error_x\": {\"color\": \"#2a3f5f\"}, \"error_y\": {\"color\": \"#2a3f5f\"}, \"marker\": {\"line\": {\"color\": \"#E5ECF6\", \"width\": 0.5}}, \"type\": \"bar\"}], \"barpolar\": [{\"marker\": {\"line\": {\"color\": \"#E5ECF6\", \"width\": 0.5}}, \"type\": \"barpolar\"}], \"carpet\": [{\"aaxis\": {\"endlinecolor\": \"#2a3f5f\", \"gridcolor\": \"white\", \"linecolor\": \"white\", \"minorgridcolor\": \"white\", \"startlinecolor\": \"#2a3f5f\"}, \"baxis\": {\"endlinecolor\": \"#2a3f5f\", \"gridcolor\": \"white\", \"linecolor\": \"white\", \"minorgridcolor\": \"white\", \"startlinecolor\": \"#2a3f5f\"}, \"type\": \"carpet\"}], \"choropleth\": [{\"colorbar\": {\"outlinewidth\": 0, \"ticks\": \"\"}, \"type\": \"choropleth\"}], \"contour\": [{\"colorbar\": {\"outlinewidth\": 0, \"ticks\": \"\"}, \"colorscale\": [[0.0, \"#0d0887\"], [0.1111111111111111, \"#46039f\"], [0.2222222222222222, \"#7201a8\"], [0.3333333333333333, \"#9c179e\"], [0.4444444444444444, \"#bd3786\"], [0.5555555555555556, \"#d8576b\"], [0.6666666666666666, \"#ed7953\"], [0.7777777777777778, \"#fb9f3a\"], [0.8888888888888888, \"#fdca26\"], [1.0, \"#f0f921\"]], \"type\": \"contour\"}], \"contourcarpet\": [{\"colorbar\": {\"outlinewidth\": 0, \"ticks\": \"\"}, \"type\": \"contourcarpet\"}], \"heatmap\": [{\"colorbar\": {\"outlinewidth\": 0, \"ticks\": \"\"}, \"colorscale\": [[0.0, \"#0d0887\"], [0.1111111111111111, \"#46039f\"], [0.2222222222222222, \"#7201a8\"], [0.3333333333333333, \"#9c179e\"], [0.4444444444444444, \"#bd3786\"], [0.5555555555555556, \"#d8576b\"], [0.6666666666666666, \"#ed7953\"], [0.7777777777777778, \"#fb9f3a\"], [0.8888888888888888, \"#fdca26\"], [1.0, \"#f0f921\"]], \"type\": \"heatmap\"}], \"heatmapgl\": [{\"colorbar\": {\"outlinewidth\": 0, \"ticks\": \"\"}, \"colorscale\": [[0.0, \"#0d0887\"], [0.1111111111111111, \"#46039f\"], [0.2222222222222222, \"#7201a8\"], [0.3333333333333333, \"#9c179e\"], [0.4444444444444444, \"#bd3786\"], [0.5555555555555556, \"#d8576b\"], [0.6666666666666666, \"#ed7953\"], [0.7777777777777778, \"#fb9f3a\"], [0.8888888888888888, \"#fdca26\"], [1.0, \"#f0f921\"]], \"type\": \"heatmapgl\"}], \"histogram\": [{\"marker\": {\"colorbar\": {\"outlinewidth\": 0, \"ticks\": \"\"}}, \"type\": \"histogram\"}], \"histogram2d\": [{\"colorbar\": {\"outlinewidth\": 0, \"ticks\": \"\"}, \"colorscale\": [[0.0, \"#0d0887\"], [0.1111111111111111, \"#46039f\"], [0.2222222222222222, \"#7201a8\"], [0.3333333333333333, \"#9c179e\"], [0.4444444444444444, \"#bd3786\"], [0.5555555555555556, \"#d8576b\"], [0.6666666666666666, \"#ed7953\"], [0.7777777777777778, \"#fb9f3a\"], [0.8888888888888888, \"#fdca26\"], [1.0, \"#f0f921\"]], \"type\": \"histogram2d\"}], \"histogram2dcontour\": [{\"colorbar\": {\"outlinewidth\": 0, \"ticks\": \"\"}, \"colorscale\": [[0.0, \"#0d0887\"], [0.1111111111111111, \"#46039f\"], [0.2222222222222222, \"#7201a8\"], [0.3333333333333333, \"#9c179e\"], [0.4444444444444444, \"#bd3786\"], [0.5555555555555556, \"#d8576b\"], [0.6666666666666666, \"#ed7953\"], [0.7777777777777778, \"#fb9f3a\"], [0.8888888888888888, \"#fdca26\"], [1.0, \"#f0f921\"]], \"type\": \"histogram2dcontour\"}], \"mesh3d\": [{\"colorbar\": {\"outlinewidth\": 0, \"ticks\": \"\"}, \"type\": \"mesh3d\"}], \"parcoords\": [{\"line\": {\"colorbar\": {\"outlinewidth\": 0, \"ticks\": \"\"}}, \"type\": \"parcoords\"}], \"pie\": [{\"automargin\": true, \"type\": \"pie\"}], \"scatter\": [{\"marker\": {\"colorbar\": {\"outlinewidth\": 0, \"ticks\": \"\"}}, \"type\": \"scatter\"}], \"scatter3d\": [{\"line\": {\"colorbar\": {\"outlinewidth\": 0, \"ticks\": \"\"}}, \"marker\": {\"colorbar\": {\"outlinewidth\": 0, \"ticks\": \"\"}}, \"type\": \"scatter3d\"}], \"scattercarpet\": [{\"marker\": {\"colorbar\": {\"outlinewidth\": 0, \"ticks\": \"\"}}, \"type\": \"scattercarpet\"}], \"scattergeo\": [{\"marker\": {\"colorbar\": {\"outlinewidth\": 0, \"ticks\": \"\"}}, \"type\": \"scattergeo\"}], \"scattergl\": [{\"marker\": {\"colorbar\": {\"outlinewidth\": 0, \"ticks\": \"\"}}, \"type\": \"scattergl\"}], \"scattermapbox\": [{\"marker\": {\"colorbar\": {\"outlinewidth\": 0, \"ticks\": \"\"}}, \"type\": \"scattermapbox\"}], \"scatterpolar\": [{\"marker\": {\"colorbar\": {\"outlinewidth\": 0, \"ticks\": \"\"}}, \"type\": \"scatterpolar\"}], \"scatterpolargl\": [{\"marker\": {\"colorbar\": {\"outlinewidth\": 0, \"ticks\": \"\"}}, \"type\": \"scatterpolargl\"}], \"scatterternary\": [{\"marker\": {\"colorbar\": {\"outlinewidth\": 0, \"ticks\": \"\"}}, \"type\": \"scatterternary\"}], \"surface\": [{\"colorbar\": {\"outlinewidth\": 0, \"ticks\": \"\"}, \"colorscale\": [[0.0, \"#0d0887\"], [0.1111111111111111, \"#46039f\"], [0.2222222222222222, \"#7201a8\"], [0.3333333333333333, \"#9c179e\"], [0.4444444444444444, \"#bd3786\"], [0.5555555555555556, \"#d8576b\"], [0.6666666666666666, \"#ed7953\"], [0.7777777777777778, \"#fb9f3a\"], [0.8888888888888888, \"#fdca26\"], [1.0, \"#f0f921\"]], \"type\": \"surface\"}], \"table\": [{\"cells\": {\"fill\": {\"color\": \"#EBF0F8\"}, \"line\": {\"color\": \"white\"}}, \"header\": {\"fill\": {\"color\": \"#C8D4E3\"}, \"line\": {\"color\": \"white\"}}, \"type\": \"table\"}]}, \"layout\": {\"annotationdefaults\": {\"arrowcolor\": \"#2a3f5f\", \"arrowhead\": 0, \"arrowwidth\": 1}, \"coloraxis\": {\"colorbar\": {\"outlinewidth\": 0, \"ticks\": \"\"}}, \"colorscale\": {\"diverging\": [[0, \"#8e0152\"], [0.1, \"#c51b7d\"], [0.2, \"#de77ae\"], [0.3, \"#f1b6da\"], [0.4, \"#fde0ef\"], [0.5, \"#f7f7f7\"], [0.6, \"#e6f5d0\"], [0.7, \"#b8e186\"], [0.8, \"#7fbc41\"], [0.9, \"#4d9221\"], [1, \"#276419\"]], \"sequential\": [[0.0, \"#0d0887\"], [0.1111111111111111, \"#46039f\"], [0.2222222222222222, \"#7201a8\"], [0.3333333333333333, \"#9c179e\"], [0.4444444444444444, \"#bd3786\"], [0.5555555555555556, \"#d8576b\"], [0.6666666666666666, \"#ed7953\"], [0.7777777777777778, \"#fb9f3a\"], [0.8888888888888888, \"#fdca26\"], [1.0, \"#f0f921\"]], \"sequentialminus\": [[0.0, \"#0d0887\"], [0.1111111111111111, \"#46039f\"], [0.2222222222222222, \"#7201a8\"], [0.3333333333333333, \"#9c179e\"], [0.4444444444444444, \"#bd3786\"], [0.5555555555555556, \"#d8576b\"], [0.6666666666666666, \"#ed7953\"], [0.7777777777777778, \"#fb9f3a\"], [0.8888888888888888, \"#fdca26\"], [1.0, \"#f0f921\"]]}, \"colorway\": [\"#636efa\", \"#EF553B\", \"#00cc96\", \"#ab63fa\", \"#FFA15A\", \"#19d3f3\", \"#FF6692\", \"#B6E880\", \"#FF97FF\", \"#FECB52\"], \"font\": {\"color\": \"#2a3f5f\"}, \"geo\": {\"bgcolor\": \"white\", \"lakecolor\": \"white\", \"landcolor\": \"#E5ECF6\", \"showlakes\": true, \"showland\": true, \"subunitcolor\": \"white\"}, \"hoverlabel\": {\"align\": \"left\"}, \"hovermode\": \"closest\", \"mapbox\": {\"style\": \"light\"}, \"paper_bgcolor\": \"white\", \"plot_bgcolor\": \"#E5ECF6\", \"polar\": {\"angularaxis\": {\"gridcolor\": \"white\", \"linecolor\": \"white\", \"ticks\": \"\"}, \"bgcolor\": \"#E5ECF6\", \"radialaxis\": {\"gridcolor\": \"white\", \"linecolor\": \"white\", \"ticks\": \"\"}}, \"scene\": {\"xaxis\": {\"backgroundcolor\": \"#E5ECF6\", \"gridcolor\": \"white\", \"gridwidth\": 2, \"linecolor\": \"white\", \"showbackground\": true, \"ticks\": \"\", \"zerolinecolor\": \"white\"}, \"yaxis\": {\"backgroundcolor\": \"#E5ECF6\", \"gridcolor\": \"white\", \"gridwidth\": 2, \"linecolor\": \"white\", \"showbackground\": true, \"ticks\": \"\", \"zerolinecolor\": \"white\"}, \"zaxis\": {\"backgroundcolor\": \"#E5ECF6\", \"gridcolor\": \"white\", \"gridwidth\": 2, \"linecolor\": \"white\", \"showbackground\": true, \"ticks\": \"\", \"zerolinecolor\": \"white\"}}, \"shapedefaults\": {\"line\": {\"color\": \"#2a3f5f\"}}, \"ternary\": {\"aaxis\": {\"gridcolor\": \"white\", \"linecolor\": \"white\", \"ticks\": \"\"}, \"baxis\": {\"gridcolor\": \"white\", \"linecolor\": \"white\", \"ticks\": \"\"}, \"bgcolor\": \"#E5ECF6\", \"caxis\": {\"gridcolor\": \"white\", \"linecolor\": \"white\", \"ticks\": \"\"}}, \"title\": {\"x\": 0.05}, \"xaxis\": {\"automargin\": true, \"gridcolor\": \"white\", \"linecolor\": \"white\", \"ticks\": \"\", \"title\": {\"standoff\": 15}, \"zerolinecolor\": \"white\", \"zerolinewidth\": 2}, \"yaxis\": {\"automargin\": true, \"gridcolor\": \"white\", \"linecolor\": \"white\", \"ticks\": \"\", \"title\": {\"standoff\": 15}, \"zerolinecolor\": \"white\", \"zerolinewidth\": 2}}}, \"title\": {\"text\": \"2012\\ub144 1\\uc6d4 \\ubc31\\ub839\\ub3c4 \\ud3c9\\uade0\\uae30\\uc628 \\uadf8\\ub798\\ud504\"}, \"xaxis\": {\"anchor\": \"y\", \"domain\": [0.0, 1.0], \"title\": {\"text\": \"\\ub0a0\\uc9dc\"}}, \"yaxis\": {\"anchor\": \"x\", \"domain\": [0.0, 1.0], \"title\": {\"text\": \"\\uae30\\uc628\"}}},\n",
              "                        {\"responsive\": true}\n",
              "                    ).then(function(){\n",
              "                            \n",
              "var gd = document.getElementById('171191bd-66cc-4390-b604-d69f05706e67');\n",
              "var x = new MutationObserver(function (mutations, observer) {{\n",
              "        var display = window.getComputedStyle(gd).display;\n",
              "        if (!display || display === 'none') {{\n",
              "            console.log([gd, 'removed!']);\n",
              "            Plotly.purge(gd);\n",
              "            observer.disconnect();\n",
              "        }}\n",
              "}});\n",
              "\n",
              "// Listen for the removal of the full notebook cells\n",
              "var notebookContainer = gd.closest('#notebook-container');\n",
              "if (notebookContainer) {{\n",
              "    x.observe(notebookContainer, {childList: true});\n",
              "}}\n",
              "\n",
              "// Listen for the clearing of the current output cell\n",
              "var outputEl = gd.closest('.output');\n",
              "if (outputEl) {{\n",
              "    x.observe(outputEl, {childList: true});\n",
              "}}\n",
              "\n",
              "                        })\n",
              "                };\n",
              "                \n",
              "            </script>\n",
              "        </div>\n",
              "</body>\n",
              "</html>"
            ]
          },
          "metadata": {}
        }
      ]
    }
  ]
}
