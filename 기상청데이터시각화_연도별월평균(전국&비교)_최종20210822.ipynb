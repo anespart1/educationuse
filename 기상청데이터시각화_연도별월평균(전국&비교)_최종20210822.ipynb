{
  "nbformat": 4,
  "nbformat_minor": 0,
  "metadata": {
    "colab": {
      "name": "기상청데이터시각화_연도별월평균(전국&비교)_최종20210822.ipynb",
      "provenance": [],
      "collapsed_sections": [
        "bif_6pbEClut",
        "FLdVns6OSraJ"
      ],
      "authorship_tag": "ABX9TyM/sROuJ2MDNOEb2kw5sQrb",
      "include_colab_link": true
    },
    "kernelspec": {
      "name": "python3",
      "display_name": "Python 3"
    },
    "language_info": {
      "name": "python"
    }
  },
  "cells": [
    {
      "cell_type": "markdown",
      "metadata": {
        "id": "view-in-github",
        "colab_type": "text"
      },
      "source": [
        "<a href=\"https://colab.research.google.com/github/anespart1/educationuse/blob/main/%EA%B8%B0%EC%83%81%EC%B2%AD%EB%8D%B0%EC%9D%B4%ED%84%B0%EC%8B%9C%EA%B0%81%ED%99%94_%EC%97%B0%EB%8F%84%EB%B3%84%EC%9B%94%ED%8F%89%EA%B7%A0(%EC%A0%84%EA%B5%AD%26%EB%B9%84%EA%B5%90)_%EC%B5%9C%EC%A2%8520210822.ipynb\" target=\"_parent\"><img src=\"https://colab.research.google.com/assets/colab-badge.svg\" alt=\"Open In Colab\"/></a>"
      ]
    },
    {
      "cell_type": "code",
      "metadata": {
        "id": "TksV9IrBpqNt"
      },
      "source": [
        "#처음 실행시 아래 3항목 #제거 필요\n",
        "#!pip install selenium\n",
        "#!apt-get update\n",
        "#!apt install chromium-chromedrive"
      ],
      "execution_count": 1,
      "outputs": []
    },
    {
      "cell_type": "markdown",
      "metadata": {
        "id": "bif_6pbEClut"
      },
      "source": [
        "#셀레니움 설치 / 가져오기 / 크롬드라이버 준비(숨김)"
      ]
    },
    {
      "cell_type": "code",
      "metadata": {
        "id": "laqr8578_FXw",
        "colab": {
          "base_uri": "https://localhost:8080/",
          "height": 0
        },
        "outputId": "736f5cbc-ca52-49d4-9de8-1f2002b7b581"
      },
      "source": [
        "from selenium import webdriver\n",
        "from selenium.webdriver.support.ui import Select\n",
        "import matplotlib.pyplot as plt\n",
        "import pandas as pd\n",
        "import plotly.offline\n",
        "import plotly.graph_objects as go\n",
        "import plotly.io as pio\n",
        "import requests\n",
        "from io import BytesIO\n",
        " \n",
        "#옵션 설정 및 크롬 드라이버 준비\n",
        "chrome_options = webdriver.ChromeOptions()\n",
        "chrome_options.add_argument('--headless')\n",
        "chrome_options.add_argument('--no-sandbox')\n",
        "chrome_options.add_argument('--disable-dev-shm-usage')\n",
        " \n",
        "#플로티 옵션 설정 및 준비\n",
        "plotly.offline.init_notebook_mode(connected=True)\n",
        "pio.renderers.default = 'colab'"
      ],
      "execution_count": 2,
      "outputs": [
        {
          "output_type": "display_data",
          "data": {
            "text/html": [
              "        <script type=\"text/javascript\">\n",
              "        window.PlotlyConfig = {MathJaxConfig: 'local'};\n",
              "        if (window.MathJax) {MathJax.Hub.Config({SVG: {font: \"STIX-Web\"}});}\n",
              "        if (typeof require !== 'undefined') {\n",
              "        require.undef(\"plotly\");\n",
              "        requirejs.config({\n",
              "            paths: {\n",
              "                'plotly': ['https://cdn.plot.ly/plotly-latest.min']\n",
              "            }\n",
              "        });\n",
              "        require(['plotly'], function(Plotly) {\n",
              "            window._Plotly = Plotly;\n",
              "        });\n",
              "        }\n",
              "        </script>\n",
              "        "
            ]
          },
          "metadata": {}
        }
      ]
    },
    {
      "cell_type": "code",
      "metadata": {
        "colab": {
          "base_uri": "https://localhost:8080/"
        },
        "id": "2cj3Xfy_CS7o",
        "outputId": "c2798930-a5cb-4449-e9ea-c372e8e668c7"
      },
      "source": [
        "driver = webdriver.Chrome('chromedriver', chrome_options=chrome_options)\n",
        "driver.get('http://www.weather.go.kr/weather/climate/past_table.jsp') #기상청 날씨누리 데이터 가져오기"
      ],
      "execution_count": 3,
      "outputs": [
        {
          "output_type": "stream",
          "text": [
            "/usr/local/lib/python3.7/dist-packages/ipykernel_launcher.py:1: DeprecationWarning:\n",
            "\n",
            "use options instead of chrome_options\n",
            "\n"
          ],
          "name": "stderr"
        }
      ]
    },
    {
      "cell_type": "markdown",
      "metadata": {
        "id": "DDecc21pe62Z"
      },
      "source": [
        "# 기상청 데이터 시각화(실행후 위젯을 사용하면 자동으로 재실행됩니다)"
      ]
    },
    {
      "cell_type": "code",
      "metadata": {
        "colab": {
          "base_uri": "https://localhost:8080/"
        },
        "id": "ujsTu0_mfS5H",
        "outputId": "dd0f87b7-3eb2-4b29-d4df-c2ddd1d283c6"
      },
      "source": [
        "#@title 지역을 선택해주세요 { run: \"auto\" }\n",
        "option1 = \"\\uBC31\\uB839\\uB3C4(\\uC720)\" #@param ['서울(유)','백령도(유)','동두천(무)','파주(무)','인천(유)','수원(유)','강화(무)','양평(무)','이천(무)','북춘천(유)','철원(무)','춘천(무)','원주(무)','영월(무)','인제(무)','홍천(무)','북강릉(유)','울릉도(유)','강릉(무)','속초(무)','대관령(무)','동해(무)','태백(무)','정선군(무)','청주(유)','충주(무)','추풍령(무)','제천(무)','보은(무)','홍성(유)','대전(유)','서산(무)','천안(무)','보령(무)','부여(무)','금산(무)','전주(유)','군산(무)','부안(무)','임실(무)','정읍(무)','남원(무)','장수(무)','순창(무)','고창(무)','고창(구)','광주(유)','목포(유)','흑산도(유)','여수(유)','완도(무)','진도(첨찰산)(무)','진도군(무)','영광(무)','순천(무)','순천(구)','장흥(무)','해남(무)','고흥(무)','강진군(무)','보성군(무)','광양(무)','안동(유)','포항(유)','대구(유)','대구(구)','울진(무)','상주(무)','봉화(무)','영주(무)','문경(무)','영덕(무)','의성(무)','구미(무)','영천(무)','청송군(무)','경주(무)','부산(유)','울산(유)','창원(유)','북창원(무)','통영(무)','진주(무)','거창(무)','합천(무)','밀양(무)','산청(무)','거제(무)','남해(무)','김해시(무)','양산(무)','의령군(무)','함양군(무)','제주(유)','고산(무)','서귀포(무)','성산(무)']\n",
        "print('{} 를 선택했습니다.'.format(option1))"
      ],
      "execution_count": 4,
      "outputs": [
        {
          "output_type": "stream",
          "text": [
            "백령도(유) 를 선택했습니다.\n"
          ],
          "name": "stdout"
        }
      ]
    },
    {
      "cell_type": "code",
      "metadata": {
        "colab": {
          "base_uri": "https://localhost:8080/"
        },
        "id": "JfU0fJZSEKj6",
        "outputId": "bee1bd48-4012-4e71-a4d8-f50104683fbe"
      },
      "source": [
        "#@title 비교할 지역을 선택해주세요 { run: \"auto\" }\n",
        "compare = \"\\uCCAD\\uC8FC(\\uC720)\" #@param ['서울(유)','백령도(유)','동두천(무)','파주(무)','인천(유)','수원(유)','강화(무)','양평(무)','이천(무)','북춘천(유)','철원(무)','춘천(무)','원주(무)','영월(무)','인제(무)','홍천(무)','북강릉(유)','울릉도(유)','강릉(무)','속초(무)','대관령(무)','동해(무)','태백(무)','정선군(무)','청주(유)','충주(무)','추풍령(무)','제천(무)','보은(무)','홍성(유)','대전(유)','서산(무)','천안(무)','보령(무)','부여(무)','금산(무)','전주(유)','군산(무)','부안(무)','임실(무)','정읍(무)','남원(무)','장수(무)','순창(무)','고창(무)','고창(구)','광주(유)','목포(유)','흑산도(유)','여수(유)','완도(무)','진도(첨찰산)(무)','진도군(무)','영광(무)','순천(무)','순천(구)','장흥(무)','해남(무)','고흥(무)','강진군(무)','보성군(무)','광양(무)','안동(유)','포항(유)','대구(유)','대구(구)','울진(무)','상주(무)','봉화(무)','영주(무)','문경(무)','영덕(무)','의성(무)','구미(무)','영천(무)','청송군(무)','경주(무)','부산(유)','울산(유)','창원(유)','북창원(무)','통영(무)','진주(무)','거창(무)','합천(무)','밀양(무)','산청(무)','거제(무)','남해(무)','김해시(무)','양산(무)','의령군(무)','함양군(무)','제주(유)','고산(무)','서귀포(무)','성산(무)']\n",
        "print('{} 를 선택했습니다.'.format(compare))"
      ],
      "execution_count": 5,
      "outputs": [
        {
          "output_type": "stream",
          "text": [
            "청주(유) 를 선택했습니다.\n"
          ],
          "name": "stdout"
        }
      ]
    },
    {
      "cell_type": "code",
      "metadata": {
        "colab": {
          "base_uri": "https://localhost:8080/"
        },
        "id": "38d5u4oyGCKW",
        "outputId": "1036b0f3-0e24-4fe2-bc57-7319e2837226"
      },
      "source": [
        "#@title 데이터를 선택해주세요 { run: \"auto\" }\n",
        "option3 = \"\\uCD5C\\uACE0\\uAE30\\uC628\" #@param ['평균기온', '최저기온', '최고기온', '강수량', '신적설', '평균풍속', '상대습도', '일조시간', '운량', '날씨']\n",
        "print('{} 를 선택했습니다.'.format(option3))"
      ],
      "execution_count": 14,
      "outputs": [
        {
          "output_type": "stream",
          "text": [
            "최고기온 를 선택했습니다.\n"
          ],
          "name": "stdout"
        }
      ]
    },
    {
      "cell_type": "markdown",
      "metadata": {
        "id": "FLdVns6OSraJ"
      },
      "source": [
        "## 코드 실행부(숨김)"
      ]
    },
    {
      "cell_type": "code",
      "metadata": {
        "id": "Wr6_1NZkAMfh"
      },
      "source": [
        " def option_selection(option1=None, option2=None, option3=None):\n",
        "   for num, opt in enumerate([option1, option2, option3]):\n",
        "     select = Select(driver.find_element_by_id('observation_select' + str(num+1)))\n",
        "     select.select_by_visible_text(str(opt))\n",
        "     driver.find_element_by_xpath('//*[@id=\"content_weather\"]/form/fieldset/input[' + str(num+1) + ']').click()"
      ],
      "execution_count": 15,
      "outputs": []
    },
    {
      "cell_type": "code",
      "metadata": {
        "id": "vteso0FhD9KO"
      },
      "source": [
        "#테이블 가져와서 데이터프레임 만들기(제작중)\n",
        "def get_table():\n",
        "  table = driver.find_element_by_xpath('//*[@id=\"content_weather\"]/table')\n",
        "  heads = table.find_elements_by_class_name('top_line')\n",
        "  thead = [value.text for index, value in enumerate(heads)]\n",
        "  tbody = table.find_element_by_tag_name(\"tbody\")\n",
        "  rows = tbody.find_elements_by_tag_name(\"tr\")\n",
        "  trows = rows[31].text.split()\n",
        "  tidx = []\n",
        "  for i in range(1, len(thead)):\n",
        "    text = thead[i].replace('월', '')\n",
        "    if len(text) == 1:\n",
        "      text = '0' + text\n",
        "    text = str(option2) + '-' + text\n",
        "    tidx.append(text)\n",
        "\n",
        "  return trows, tidx"
      ],
      "execution_count": 16,
      "outputs": []
    },
    {
      "cell_type": "code",
      "metadata": {
        "id": "a-eYgvXrNnLK"
      },
      "source": [
        "def compare_graph(data=None):\n",
        "  data[option3] = data[option3].astype(float)\n",
        "  data['월별'] = data['월별'].astype('datetime64[ns]')\n",
        "  return data"
      ],
      "execution_count": 17,
      "outputs": []
    },
    {
      "cell_type": "code",
      "metadata": {
        "id": "6ukwqfyHfq77"
      },
      "source": [
        "def rn_data_import(url='https://raw.githubusercontent.com/anespart1/educationuse/main/rn_20210822150454.xlsx'):\n",
        "  data = requests.get(url).content\n",
        "  rn_df = pd.read_excel(BytesIO(data)) \n",
        "  rn_df.columns = rn_df.iloc[6].to_list()\n",
        "  rn_df.drop(rn_df.index[[0, 1, 2, 3, 4, 5, 6]], axis=0, inplace=True)\n",
        "  rn_df['년'] = rn_df['년월'].apply(lambda 년월: int(str(년월).split('-')[0]))\n",
        "  rn_df['월별'] = rn_df['년월'].apply(lambda 년월: str(년월).split('-01 ')[0])\n",
        "  rn_df = rn_df.astype({'월별': 'datetime64[ns]', '강수량(mm)': \"float64\"})\n",
        "  return rn_df"
      ],
      "execution_count": 18,
      "outputs": []
    },
    {
      "cell_type": "code",
      "metadata": {
        "id": "O-clBsj1TM1A"
      },
      "source": [
        "def ta_data_import(url=\"https://raw.githubusercontent.com/anespart1/educationuse/main/ta_20210821193228.xlsx\"):\n",
        "  data = requests.get(url).content\n",
        "  ta_df = pd.read_excel(BytesIO(data)) \n",
        "  ta_df.columns = ta_df.iloc[6].to_list()\n",
        "  ta_df.drop(ta_df.index[[0, 1, 2, 3, 4, 5, 6]], axis=0, inplace=True)\n",
        "  ta_df['년'] = ta_df['년월'].apply(lambda 년월: int(str(년월).split('-')[0]))\n",
        "  ta_df['월별'] = ta_df['년월'].apply(lambda 년월: str(년월).split('-01 ')[0])\n",
        "  ta_df = ta_df.astype({'월별': 'datetime64[ns]', '평균기온(℃)': \"float64\", '최저기온(℃)': \"float64\", '최고기온(℃)': \"float64\"})\n",
        "  return ta_df"
      ],
      "execution_count": 19,
      "outputs": []
    },
    {
      "cell_type": "code",
      "metadata": {
        "id": "9zb2DnO7V4MY"
      },
      "source": [
        "def dataframe_maker(option1=None, option2=None, option3=None):\n",
        "  option_selection(option1=option1, option2=option2, option3=option3)\n",
        "\n",
        "  trows, tidx = get_table()\n",
        "  df = pd.DataFrame(data=trows[1:], columns=[option3])\n",
        "  df['월별'] = tidx\n",
        "\n",
        "  option_selection(option1=compare, option2=option2, option3=option3)\n",
        "\n",
        "  trows, tidx = get_table()\n",
        "  cp_df = pd.DataFrame(data=trows[1:], columns=[option3])\n",
        "  cp_df['월별'] = tidx\n",
        "\n",
        "  df1 = compare_graph(data=df)\n",
        "  df2 = compare_graph(data=cp_df)\n",
        "\n",
        "  ta_df = ta_data_import()\n",
        "  rn_df = rn_data_import()\n",
        "\n",
        "  return df1, df2, ta_df, rn_df"
      ],
      "execution_count": 20,
      "outputs": []
    },
    {
      "cell_type": "markdown",
      "metadata": {
        "id": "MBgWx8wgS3x-"
      },
      "source": [
        "## 연도별 월평균 비교 그래프(실행후 위젯을 사용하면 자동으로 재실행됩니다)"
      ]
    },
    {
      "cell_type": "code",
      "metadata": {
        "colab": {
          "base_uri": "https://localhost:8080/",
          "height": 559
        },
        "id": "IICehpp5UV-G",
        "outputId": "1801583b-1b8a-470b-f69f-72d4e3e5b9cb"
      },
      "source": [
        "#@title 연도를 선택해주세요. { run: \"auto\" }\n",
        "option2 = 2017  #@param {type: \"slider\", min: 1960, max: 2021}\n",
        "print('{}년을 선택했습니다.'.format(option2))\n",
        " \n",
        "df1, df2, ta_df, rn_df = dataframe_maker(option1=option1, option2=option2, option3=option3)\n",
        "df3 = ta_df[ta_df['년']==option2]\n",
        "df4 = rn_df[rn_df['년']==option2]\n",
        " \n",
        "title = '{}년 {}/{} {} 비교 그래프'.format(option2, option1.split('(')[0], compare.split('(')[0], option3)\n",
        " \n",
        "fig = go.Figure()\n",
        "fig.add_trace(go.Bar(x=df2['월별'], y=df2[option3], name=compare.split('(')[0], marker_color='lightslategrey'))\n",
        "fig.add_trace(go.Bar(x=df1['월별'], y=df1[option3], name=option1.split('(')[0]))\n",
        "if '기온' in option3:\n",
        "  fig.add_trace(go.Scatter(x=df3['월별'], y=df3[option3 + '(℃)'], mode='lines', name='전국', line=dict(width=5)))\n",
        "if '강수' in option3:\n",
        "  fig.add_trace(go.Scatter(x=df4['월별'], y=df4[option3 + '(mm)'], mode='lines', name='전국', line=dict(width=5)))\n",
        "fig.update_layout(title = title, xaxis_title = '월별', yaxis_title = option3)\n",
        "fig.show()"
      ],
      "execution_count": 21,
      "outputs": [
        {
          "output_type": "stream",
          "text": [
            "2017년을 선택했습니다.\n"
          ],
          "name": "stdout"
        },
        {
          "output_type": "display_data",
          "data": {
            "text/html": [
              "<html>\n",
              "<head><meta charset=\"utf-8\" /></head>\n",
              "<body>\n",
              "    <div>\n",
              "            <script src=\"https://cdnjs.cloudflare.com/ajax/libs/mathjax/2.7.5/MathJax.js?config=TeX-AMS-MML_SVG\"></script><script type=\"text/javascript\">if (window.MathJax) {MathJax.Hub.Config({SVG: {font: \"STIX-Web\"}});}</script>\n",
              "                <script type=\"text/javascript\">window.PlotlyConfig = {MathJaxConfig: 'local'};</script>\n",
              "        <script src=\"https://cdn.plot.ly/plotly-latest.min.js\"></script>    \n",
              "            <div id=\"5b633afa-baec-48ba-822d-be88ea6e28cf\" class=\"plotly-graph-div\" style=\"height:525px; width:100%;\"></div>\n",
              "            <script type=\"text/javascript\">\n",
              "                \n",
              "                    window.PLOTLYENV=window.PLOTLYENV || {};\n",
              "                    \n",
              "                if (document.getElementById(\"5b633afa-baec-48ba-822d-be88ea6e28cf\")) {\n",
              "                    Plotly.newPlot(\n",
              "                        '5b633afa-baec-48ba-822d-be88ea6e28cf',\n",
              "                        [{\"marker\": {\"color\": \"lightslategrey\"}, \"name\": \"\\uccad\\uc8fc\", \"type\": \"bar\", \"x\": [\"2017-01-01T00:00:00\", \"2017-02-01T00:00:00\", \"2017-03-01T00:00:00\", \"2017-04-01T00:00:00\", \"2017-05-01T00:00:00\", \"2017-06-01T00:00:00\", \"2017-07-01T00:00:00\", \"2017-08-01T00:00:00\", \"2017-09-01T00:00:00\", \"2017-10-01T00:00:00\", \"2017-11-01T00:00:00\", \"2017-12-01T00:00:00\"], \"y\": [3.7, 5.8, 12.8, 21.3, 26.5, 29.5, 31.3, 30.4, 26.7, 21.1, 11.3, 3.6]}, {\"name\": \"\\ubc31\\ub839\\ub3c4\", \"type\": \"bar\", \"x\": [\"2017-01-01T00:00:00\", \"2017-02-01T00:00:00\", \"2017-03-01T00:00:00\", \"2017-04-01T00:00:00\", \"2017-05-01T00:00:00\", \"2017-06-01T00:00:00\", \"2017-07-01T00:00:00\", \"2017-08-01T00:00:00\", \"2017-09-01T00:00:00\", \"2017-10-01T00:00:00\", \"2017-11-01T00:00:00\", \"2017-12-01T00:00:00\"], \"y\": [2.1, 2.8, 8.1, 14.6, 20.3, 23.8, 27.4, 26.7, 23.7, 17.8, 9.6, 3.3]}, {\"line\": {\"width\": 5}, \"mode\": \"lines\", \"name\": \"\\uc804\\uad6d\", \"type\": \"scatter\", \"x\": [\"2017-01-01T00:00:00\", \"2017-02-01T00:00:00\", \"2017-03-01T00:00:00\", \"2017-04-01T00:00:00\", \"2017-05-01T00:00:00\", \"2017-06-01T00:00:00\", \"2017-07-01T00:00:00\", \"2017-08-01T00:00:00\", \"2017-09-01T00:00:00\", \"2017-10-01T00:00:00\", \"2017-11-01T00:00:00\", \"2017-12-01T00:00:00\"], \"y\": [5.5, 7.3, 12.6, 20.3, 25.4, 27.8, 30.6, 29.9, 26.3, 21.0, 12.9, 5.0]}],\n",
              "                        {\"template\": {\"data\": {\"bar\": [{\"error_x\": {\"color\": \"#2a3f5f\"}, \"error_y\": {\"color\": \"#2a3f5f\"}, \"marker\": {\"line\": {\"color\": \"#E5ECF6\", \"width\": 0.5}}, \"type\": \"bar\"}], \"barpolar\": [{\"marker\": {\"line\": {\"color\": \"#E5ECF6\", \"width\": 0.5}}, \"type\": \"barpolar\"}], \"carpet\": [{\"aaxis\": {\"endlinecolor\": \"#2a3f5f\", \"gridcolor\": \"white\", \"linecolor\": \"white\", \"minorgridcolor\": \"white\", \"startlinecolor\": \"#2a3f5f\"}, \"baxis\": {\"endlinecolor\": \"#2a3f5f\", \"gridcolor\": \"white\", \"linecolor\": \"white\", \"minorgridcolor\": \"white\", \"startlinecolor\": \"#2a3f5f\"}, \"type\": \"carpet\"}], \"choropleth\": [{\"colorbar\": {\"outlinewidth\": 0, \"ticks\": \"\"}, \"type\": \"choropleth\"}], \"contour\": [{\"colorbar\": {\"outlinewidth\": 0, \"ticks\": \"\"}, \"colorscale\": [[0.0, \"#0d0887\"], [0.1111111111111111, \"#46039f\"], [0.2222222222222222, \"#7201a8\"], [0.3333333333333333, \"#9c179e\"], [0.4444444444444444, \"#bd3786\"], [0.5555555555555556, \"#d8576b\"], [0.6666666666666666, \"#ed7953\"], [0.7777777777777778, \"#fb9f3a\"], [0.8888888888888888, \"#fdca26\"], [1.0, \"#f0f921\"]], \"type\": \"contour\"}], \"contourcarpet\": [{\"colorbar\": {\"outlinewidth\": 0, \"ticks\": \"\"}, \"type\": \"contourcarpet\"}], \"heatmap\": [{\"colorbar\": {\"outlinewidth\": 0, \"ticks\": \"\"}, \"colorscale\": [[0.0, \"#0d0887\"], [0.1111111111111111, \"#46039f\"], [0.2222222222222222, \"#7201a8\"], [0.3333333333333333, \"#9c179e\"], [0.4444444444444444, \"#bd3786\"], [0.5555555555555556, \"#d8576b\"], [0.6666666666666666, \"#ed7953\"], [0.7777777777777778, \"#fb9f3a\"], [0.8888888888888888, \"#fdca26\"], [1.0, \"#f0f921\"]], \"type\": \"heatmap\"}], \"heatmapgl\": [{\"colorbar\": {\"outlinewidth\": 0, \"ticks\": \"\"}, \"colorscale\": [[0.0, \"#0d0887\"], [0.1111111111111111, \"#46039f\"], [0.2222222222222222, \"#7201a8\"], [0.3333333333333333, \"#9c179e\"], [0.4444444444444444, \"#bd3786\"], [0.5555555555555556, \"#d8576b\"], [0.6666666666666666, \"#ed7953\"], [0.7777777777777778, \"#fb9f3a\"], [0.8888888888888888, \"#fdca26\"], [1.0, \"#f0f921\"]], \"type\": \"heatmapgl\"}], \"histogram\": [{\"marker\": {\"colorbar\": {\"outlinewidth\": 0, \"ticks\": \"\"}}, \"type\": \"histogram\"}], \"histogram2d\": [{\"colorbar\": {\"outlinewidth\": 0, \"ticks\": \"\"}, \"colorscale\": [[0.0, \"#0d0887\"], [0.1111111111111111, \"#46039f\"], [0.2222222222222222, \"#7201a8\"], [0.3333333333333333, \"#9c179e\"], [0.4444444444444444, \"#bd3786\"], [0.5555555555555556, \"#d8576b\"], [0.6666666666666666, \"#ed7953\"], [0.7777777777777778, \"#fb9f3a\"], [0.8888888888888888, \"#fdca26\"], [1.0, \"#f0f921\"]], \"type\": \"histogram2d\"}], \"histogram2dcontour\": [{\"colorbar\": {\"outlinewidth\": 0, \"ticks\": \"\"}, \"colorscale\": [[0.0, \"#0d0887\"], [0.1111111111111111, \"#46039f\"], [0.2222222222222222, \"#7201a8\"], [0.3333333333333333, \"#9c179e\"], [0.4444444444444444, \"#bd3786\"], [0.5555555555555556, \"#d8576b\"], [0.6666666666666666, \"#ed7953\"], [0.7777777777777778, \"#fb9f3a\"], [0.8888888888888888, \"#fdca26\"], [1.0, \"#f0f921\"]], \"type\": \"histogram2dcontour\"}], \"mesh3d\": [{\"colorbar\": {\"outlinewidth\": 0, \"ticks\": \"\"}, \"type\": \"mesh3d\"}], \"parcoords\": [{\"line\": {\"colorbar\": {\"outlinewidth\": 0, \"ticks\": \"\"}}, \"type\": \"parcoords\"}], \"pie\": [{\"automargin\": true, \"type\": \"pie\"}], \"scatter\": [{\"marker\": {\"colorbar\": {\"outlinewidth\": 0, \"ticks\": \"\"}}, \"type\": \"scatter\"}], \"scatter3d\": [{\"line\": {\"colorbar\": {\"outlinewidth\": 0, \"ticks\": \"\"}}, \"marker\": {\"colorbar\": {\"outlinewidth\": 0, \"ticks\": \"\"}}, \"type\": \"scatter3d\"}], \"scattercarpet\": [{\"marker\": {\"colorbar\": {\"outlinewidth\": 0, \"ticks\": \"\"}}, \"type\": \"scattercarpet\"}], \"scattergeo\": [{\"marker\": {\"colorbar\": {\"outlinewidth\": 0, \"ticks\": \"\"}}, \"type\": \"scattergeo\"}], \"scattergl\": [{\"marker\": {\"colorbar\": {\"outlinewidth\": 0, \"ticks\": \"\"}}, \"type\": \"scattergl\"}], \"scattermapbox\": [{\"marker\": {\"colorbar\": {\"outlinewidth\": 0, \"ticks\": \"\"}}, \"type\": \"scattermapbox\"}], \"scatterpolar\": [{\"marker\": {\"colorbar\": {\"outlinewidth\": 0, \"ticks\": \"\"}}, \"type\": \"scatterpolar\"}], \"scatterpolargl\": [{\"marker\": {\"colorbar\": {\"outlinewidth\": 0, \"ticks\": \"\"}}, \"type\": \"scatterpolargl\"}], \"scatterternary\": [{\"marker\": {\"colorbar\": {\"outlinewidth\": 0, \"ticks\": \"\"}}, \"type\": \"scatterternary\"}], \"surface\": [{\"colorbar\": {\"outlinewidth\": 0, \"ticks\": \"\"}, \"colorscale\": [[0.0, \"#0d0887\"], [0.1111111111111111, \"#46039f\"], [0.2222222222222222, \"#7201a8\"], [0.3333333333333333, \"#9c179e\"], [0.4444444444444444, \"#bd3786\"], [0.5555555555555556, \"#d8576b\"], [0.6666666666666666, \"#ed7953\"], [0.7777777777777778, \"#fb9f3a\"], [0.8888888888888888, \"#fdca26\"], [1.0, \"#f0f921\"]], \"type\": \"surface\"}], \"table\": [{\"cells\": {\"fill\": {\"color\": \"#EBF0F8\"}, \"line\": {\"color\": \"white\"}}, \"header\": {\"fill\": {\"color\": \"#C8D4E3\"}, \"line\": {\"color\": \"white\"}}, \"type\": \"table\"}]}, \"layout\": {\"annotationdefaults\": {\"arrowcolor\": \"#2a3f5f\", \"arrowhead\": 0, \"arrowwidth\": 1}, \"coloraxis\": {\"colorbar\": {\"outlinewidth\": 0, \"ticks\": \"\"}}, \"colorscale\": {\"diverging\": [[0, \"#8e0152\"], [0.1, \"#c51b7d\"], [0.2, \"#de77ae\"], [0.3, \"#f1b6da\"], [0.4, \"#fde0ef\"], [0.5, \"#f7f7f7\"], [0.6, \"#e6f5d0\"], [0.7, \"#b8e186\"], [0.8, \"#7fbc41\"], [0.9, \"#4d9221\"], [1, \"#276419\"]], \"sequential\": [[0.0, \"#0d0887\"], [0.1111111111111111, \"#46039f\"], [0.2222222222222222, \"#7201a8\"], [0.3333333333333333, \"#9c179e\"], [0.4444444444444444, \"#bd3786\"], [0.5555555555555556, \"#d8576b\"], [0.6666666666666666, \"#ed7953\"], [0.7777777777777778, \"#fb9f3a\"], [0.8888888888888888, \"#fdca26\"], [1.0, \"#f0f921\"]], \"sequentialminus\": [[0.0, \"#0d0887\"], [0.1111111111111111, \"#46039f\"], [0.2222222222222222, \"#7201a8\"], [0.3333333333333333, \"#9c179e\"], [0.4444444444444444, \"#bd3786\"], [0.5555555555555556, \"#d8576b\"], [0.6666666666666666, \"#ed7953\"], [0.7777777777777778, \"#fb9f3a\"], [0.8888888888888888, \"#fdca26\"], [1.0, \"#f0f921\"]]}, \"colorway\": [\"#636efa\", \"#EF553B\", \"#00cc96\", \"#ab63fa\", \"#FFA15A\", \"#19d3f3\", \"#FF6692\", \"#B6E880\", \"#FF97FF\", \"#FECB52\"], \"font\": {\"color\": \"#2a3f5f\"}, \"geo\": {\"bgcolor\": \"white\", \"lakecolor\": \"white\", \"landcolor\": \"#E5ECF6\", \"showlakes\": true, \"showland\": true, \"subunitcolor\": \"white\"}, \"hoverlabel\": {\"align\": \"left\"}, \"hovermode\": \"closest\", \"mapbox\": {\"style\": \"light\"}, \"paper_bgcolor\": \"white\", \"plot_bgcolor\": \"#E5ECF6\", \"polar\": {\"angularaxis\": {\"gridcolor\": \"white\", \"linecolor\": \"white\", \"ticks\": \"\"}, \"bgcolor\": \"#E5ECF6\", \"radialaxis\": {\"gridcolor\": \"white\", \"linecolor\": \"white\", \"ticks\": \"\"}}, \"scene\": {\"xaxis\": {\"backgroundcolor\": \"#E5ECF6\", \"gridcolor\": \"white\", \"gridwidth\": 2, \"linecolor\": \"white\", \"showbackground\": true, \"ticks\": \"\", \"zerolinecolor\": \"white\"}, \"yaxis\": {\"backgroundcolor\": \"#E5ECF6\", \"gridcolor\": \"white\", \"gridwidth\": 2, \"linecolor\": \"white\", \"showbackground\": true, \"ticks\": \"\", \"zerolinecolor\": \"white\"}, \"zaxis\": {\"backgroundcolor\": \"#E5ECF6\", \"gridcolor\": \"white\", \"gridwidth\": 2, \"linecolor\": \"white\", \"showbackground\": true, \"ticks\": \"\", \"zerolinecolor\": \"white\"}}, \"shapedefaults\": {\"line\": {\"color\": \"#2a3f5f\"}}, \"ternary\": {\"aaxis\": {\"gridcolor\": \"white\", \"linecolor\": \"white\", \"ticks\": \"\"}, \"baxis\": {\"gridcolor\": \"white\", \"linecolor\": \"white\", \"ticks\": \"\"}, \"bgcolor\": \"#E5ECF6\", \"caxis\": {\"gridcolor\": \"white\", \"linecolor\": \"white\", \"ticks\": \"\"}}, \"title\": {\"x\": 0.05}, \"xaxis\": {\"automargin\": true, \"gridcolor\": \"white\", \"linecolor\": \"white\", \"ticks\": \"\", \"title\": {\"standoff\": 15}, \"zerolinecolor\": \"white\", \"zerolinewidth\": 2}, \"yaxis\": {\"automargin\": true, \"gridcolor\": \"white\", \"linecolor\": \"white\", \"ticks\": \"\", \"title\": {\"standoff\": 15}, \"zerolinecolor\": \"white\", \"zerolinewidth\": 2}}}, \"title\": {\"text\": \"2017\\ub144 \\ubc31\\ub839\\ub3c4/\\uccad\\uc8fc \\ucd5c\\uace0\\uae30\\uc628 \\ube44\\uad50 \\uadf8\\ub798\\ud504\"}, \"xaxis\": {\"title\": {\"text\": \"\\uc6d4\\ubcc4\"}}, \"yaxis\": {\"title\": {\"text\": \"\\ucd5c\\uace0\\uae30\\uc628\"}}},\n",
              "                        {\"responsive\": true}\n",
              "                    ).then(function(){\n",
              "                            \n",
              "var gd = document.getElementById('5b633afa-baec-48ba-822d-be88ea6e28cf');\n",
              "var x = new MutationObserver(function (mutations, observer) {{\n",
              "        var display = window.getComputedStyle(gd).display;\n",
              "        if (!display || display === 'none') {{\n",
              "            console.log([gd, 'removed!']);\n",
              "            Plotly.purge(gd);\n",
              "            observer.disconnect();\n",
              "        }}\n",
              "}});\n",
              "\n",
              "// Listen for the removal of the full notebook cells\n",
              "var notebookContainer = gd.closest('#notebook-container');\n",
              "if (notebookContainer) {{\n",
              "    x.observe(notebookContainer, {childList: true});\n",
              "}}\n",
              "\n",
              "// Listen for the clearing of the current output cell\n",
              "var outputEl = gd.closest('.output');\n",
              "if (outputEl) {{\n",
              "    x.observe(outputEl, {childList: true});\n",
              "}}\n",
              "\n",
              "                        })\n",
              "                };\n",
              "                \n",
              "            </script>\n",
              "        </div>\n",
              "</body>\n",
              "</html>"
            ]
          },
          "metadata": {}
        }
      ]
    }
  ]
}