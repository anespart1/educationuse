{
  "nbformat": 4,
  "nbformat_minor": 0,
  "metadata": {
    "colab": {
      "name": "기상청데이터시각화_월별일평균(비교).ipynb",
      "provenance": [],
      "collapsed_sections": [
        "FLdVns6OSraJ"
      ],
      "authorship_tag": "ABX9TyO1WFEC0Wmm9fi0lHN1v4h1",
      "include_colab_link": true
    },
    "kernelspec": {
      "name": "python3",
      "display_name": "Python 3"
    },
    "language_info": {
      "name": "python"
    }
  },
  "cells": [
    {
      "cell_type": "markdown",
      "metadata": {
        "id": "view-in-github",
        "colab_type": "text"
      },
      "source": [
        "<a href=\"https://colab.research.google.com/github/anespart1/educationuse/blob/main/%EA%B8%B0%EC%83%81%EC%B2%AD%EB%8D%B0%EC%9D%B4%ED%84%B0%EC%8B%9C%EA%B0%81%ED%99%94_%EC%9B%94%EB%B3%84%EC%9D%BC%ED%8F%89%EA%B7%A0(%EB%B9%84%EA%B5%90).ipynb\" target=\"_parent\"><img src=\"https://colab.research.google.com/assets/colab-badge.svg\" alt=\"Open In Colab\"/></a>"
      ]
    },
    {
      "cell_type": "code",
      "metadata": {
        "id": "TksV9IrBpqNt"
      },
      "source": [
        "#처음 실행시 아래 3항목 #제거 필요\n",
        "#!pip install selenium\n",
        "#!apt-get update\n",
        "#!apt install chromium-chromedriver"
      ],
      "execution_count": 37,
      "outputs": []
    },
    {
      "cell_type": "markdown",
      "metadata": {
        "id": "bif_6pbEClut"
      },
      "source": [
        "#셀레니움 설치 / 가져오기 / 크롬드라이버 준비(숨김)"
      ]
    },
    {
      "cell_type": "code",
      "metadata": {
        "id": "laqr8578_FXw",
        "colab": {
          "base_uri": "https://localhost:8080/",
          "height": 17
        },
        "outputId": "9aaeead5-e38f-495c-b930-de1ebcff05ae"
      },
      "source": [
        "from selenium import webdriver\n",
        "from selenium.webdriver.support.ui import Select\n",
        "import matplotlib.pyplot as plt\n",
        "import pandas as pd\n",
        "import plotly.offline\n",
        "import plotly.graph_objects as go\n",
        "import plotly.io as pio\n",
        "\n",
        "#옵션 설정 및 크롬 드라이버 준비\n",
        "chrome_options = webdriver.ChromeOptions()\n",
        "chrome_options.add_argument('--headless')\n",
        "chrome_options.add_argument('--no-sandbox')\n",
        "chrome_options.add_argument('--disable-dev-shm-usage')\n",
        "\n",
        "#플로티 옵션 설정 및 준비\n",
        "plotly.offline.init_notebook_mode(connected=True)\n",
        "pio.renderers.default = 'colab'"
      ],
      "execution_count": 68,
      "outputs": [
        {
          "output_type": "display_data",
          "data": {
            "text/html": [
              "        <script type=\"text/javascript\">\n",
              "        window.PlotlyConfig = {MathJaxConfig: 'local'};\n",
              "        if (window.MathJax) {MathJax.Hub.Config({SVG: {font: \"STIX-Web\"}});}\n",
              "        if (typeof require !== 'undefined') {\n",
              "        require.undef(\"plotly\");\n",
              "        requirejs.config({\n",
              "            paths: {\n",
              "                'plotly': ['https://cdn.plot.ly/plotly-latest.min']\n",
              "            }\n",
              "        });\n",
              "        require(['plotly'], function(Plotly) {\n",
              "            window._Plotly = Plotly;\n",
              "        });\n",
              "        }\n",
              "        </script>\n",
              "        "
            ]
          },
          "metadata": {}
        }
      ]
    },
    {
      "cell_type": "markdown",
      "metadata": {
        "id": "DDecc21pe62Z"
      },
      "source": [
        "# 기상청 데이터 시각화(심플버전)"
      ]
    },
    {
      "cell_type": "code",
      "metadata": {
        "colab": {
          "base_uri": "https://localhost:8080/"
        },
        "id": "ujsTu0_mfS5H",
        "outputId": "7ac1d554-f7e2-417f-e968-5738c0742542"
      },
      "source": [
        "#@title 지역을 선택해주세요 { run: \"auto\" }\n",
        "option1 = \"\\uBC31\\uB839\\uB3C4(\\uC720)\" #@param ['서울(유)','백령도(유)','동두천(무)','파주(무)','인천(유)','수원(유)','강화(무)','양평(무)','이천(무)','북춘천(유)','철원(무)','춘천(무)','원주(무)','영월(무)','인제(무)','홍천(무)','북강릉(유)','울릉도(유)','강릉(무)','속초(무)','대관령(무)','동해(무)','태백(무)','정선군(무)','청주(유)','충주(무)','추풍령(무)','제천(무)','보은(무)','홍성(유)','대전(유)','서산(무)','천안(무)','보령(무)','부여(무)','금산(무)','전주(유)','군산(무)','부안(무)','임실(무)','정읍(무)','남원(무)','장수(무)','순창(무)','고창(무)','고창(구)','광주(유)','목포(유)','흑산도(유)','여수(유)','완도(무)','진도(첨찰산)(무)','진도군(무)','영광(무)','순천(무)','순천(구)','장흥(무)','해남(무)','고흥(무)','강진군(무)','보성군(무)','광양(무)','안동(유)','포항(유)','대구(유)','대구(구)','울진(무)','상주(무)','봉화(무)','영주(무)','문경(무)','영덕(무)','의성(무)','구미(무)','영천(무)','청송군(무)','경주(무)','부산(유)','울산(유)','창원(유)','북창원(무)','통영(무)','진주(무)','거창(무)','합천(무)','밀양(무)','산청(무)','거제(무)','남해(무)','김해시(무)','양산(무)','의령군(무)','함양군(무)','제주(유)','고산(무)','서귀포(무)','성산(무)']\n",
        "print('{} 를 선택했습니다.'.format(option1))"
      ],
      "execution_count": 39,
      "outputs": [
        {
          "output_type": "stream",
          "text": [
            "백령도(유) 를 선택했습니다.\n"
          ],
          "name": "stdout"
        }
      ]
    },
    {
      "cell_type": "code",
      "metadata": {
        "colab": {
          "base_uri": "https://localhost:8080/"
        },
        "id": "JfU0fJZSEKj6",
        "outputId": "24698878-dbbc-4d69-d531-7e67330671af"
      },
      "source": [
        "#@title 비교할 지역을 선택해주세요 { run: \"auto\" }\n",
        "compare = \"\\uC11C\\uC6B8(\\uC720)\" #@param ['서울(유)','백령도(유)','동두천(무)','파주(무)','인천(유)','수원(유)','강화(무)','양평(무)','이천(무)','북춘천(유)','철원(무)','춘천(무)','원주(무)','영월(무)','인제(무)','홍천(무)','북강릉(유)','울릉도(유)','강릉(무)','속초(무)','대관령(무)','동해(무)','태백(무)','정선군(무)','청주(유)','충주(무)','추풍령(무)','제천(무)','보은(무)','홍성(유)','대전(유)','서산(무)','천안(무)','보령(무)','부여(무)','금산(무)','전주(유)','군산(무)','부안(무)','임실(무)','정읍(무)','남원(무)','장수(무)','순창(무)','고창(무)','고창(구)','광주(유)','목포(유)','흑산도(유)','여수(유)','완도(무)','진도(첨찰산)(무)','진도군(무)','영광(무)','순천(무)','순천(구)','장흥(무)','해남(무)','고흥(무)','강진군(무)','보성군(무)','광양(무)','안동(유)','포항(유)','대구(유)','대구(구)','울진(무)','상주(무)','봉화(무)','영주(무)','문경(무)','영덕(무)','의성(무)','구미(무)','영천(무)','청송군(무)','경주(무)','부산(유)','울산(유)','창원(유)','북창원(무)','통영(무)','진주(무)','거창(무)','합천(무)','밀양(무)','산청(무)','거제(무)','남해(무)','김해시(무)','양산(무)','의령군(무)','함양군(무)','제주(유)','고산(무)','서귀포(무)','성산(무)']\n",
        "print('{} 를 선택했습니다.'.format(compare))"
      ],
      "execution_count": 40,
      "outputs": [
        {
          "output_type": "stream",
          "text": [
            "서울(유) 를 선택했습니다.\n"
          ],
          "name": "stdout"
        }
      ]
    },
    {
      "cell_type": "code",
      "metadata": {
        "colab": {
          "base_uri": "https://localhost:8080/"
        },
        "id": "aNPaz8zkEpTz",
        "outputId": "0c632faf-e2fc-4aeb-b681-358b59631a5d"
      },
      "source": [
        "#@title 연도를 선택해주세요. { run: \"auto\" }\n",
        "option2 = 2012  #@param {type: \"slider\", min: 1960, max: 2021}\n",
        "print('{} 를 선택했습니다.'.format(option2))"
      ],
      "execution_count": 41,
      "outputs": [
        {
          "output_type": "stream",
          "text": [
            "2012 를 선택했습니다.\n"
          ],
          "name": "stdout"
        }
      ]
    },
    {
      "cell_type": "code",
      "metadata": {
        "colab": {
          "base_uri": "https://localhost:8080/"
        },
        "id": "38d5u4oyGCKW",
        "outputId": "583cfe93-256e-4369-9493-d266069fd1e6"
      },
      "source": [
        "#@title 데이터를 선택해주세요 { run: \"auto\" }\n",
        "option3 = \"\\uCD5C\\uC800\\uAE30\\uC628\" #@param ['평균기온', '최저기온', '최고기온', '강수량', '신적설', '평균풍속', '상대습도', '일조시간', '운량', '날씨']\n",
        "print('{} 를 선택했습니다.'.format(option3))"
      ],
      "execution_count": 42,
      "outputs": [
        {
          "output_type": "stream",
          "text": [
            "최저기온 를 선택했습니다.\n"
          ],
          "name": "stdout"
        }
      ]
    },
    {
      "cell_type": "markdown",
      "metadata": {
        "id": "FLdVns6OSraJ"
      },
      "source": [
        "## 코드 실행부(숨김)"
      ]
    },
    {
      "cell_type": "code",
      "metadata": {
        "colab": {
          "base_uri": "https://localhost:8080/"
        },
        "id": "2cj3Xfy_CS7o",
        "outputId": "e7fa5777-c540-4732-8379-b1b880a71587"
      },
      "source": [
        "driver = webdriver.Chrome('chromedriver', chrome_options=chrome_options)\n",
        "driver.get('http://www.weather.go.kr/weather/climate/past_table.jsp') #기상청 날씨누리 데이터 가져오기"
      ],
      "execution_count": 43,
      "outputs": [
        {
          "output_type": "stream",
          "text": [
            "/usr/local/lib/python3.7/dist-packages/ipykernel_launcher.py:1: DeprecationWarning:\n",
            "\n",
            "use options instead of chrome_options\n",
            "\n"
          ],
          "name": "stderr"
        }
      ]
    },
    {
      "cell_type": "code",
      "metadata": {
        "id": "Fx9vItXiw8Dx"
      },
      "source": [
        "#옵션값 가져오는 방법(수정용)\n",
        "#menu = driver.find_element_by_id('observation_select3').text\n",
        "#menu = menu.split('\\n')\n",
        "#am = [i.lstrip() for i in menu]\n",
        "#bm = [i for i in am if '-' not in i and len(i) > 1]\n",
        "#print(bm)"
      ],
      "execution_count": 44,
      "outputs": []
    },
    {
      "cell_type": "code",
      "metadata": {
        "id": "glGCbbV5DV9h"
      },
      "source": [
        "select = Select(driver.find_element_by_id('observation_select1'))\n",
        "select.select_by_visible_text(option1)\n",
        "driver.find_element_by_xpath('//*[@id=\"content_weather\"]/form/fieldset/input[1]').click()"
      ],
      "execution_count": 45,
      "outputs": []
    },
    {
      "cell_type": "code",
      "metadata": {
        "id": "_npF5RDgDpmW"
      },
      "source": [
        "select = Select(driver.find_element_by_id('observation_select2'))\n",
        "select.select_by_visible_text(str(option2))\n",
        "driver.find_element_by_xpath('//*[@id=\"content_weather\"]/form/fieldset/input[2]').click()"
      ],
      "execution_count": 46,
      "outputs": []
    },
    {
      "cell_type": "code",
      "metadata": {
        "id": "5YejQhfgEqkg"
      },
      "source": [
        "select = Select(driver.find_element_by_id('observation_select3'))\n",
        "select.select_by_visible_text(option3)\n",
        "driver.find_element_by_xpath('//*[@id=\"content_weather\"]/form/fieldset/input[3]').click()"
      ],
      "execution_count": 47,
      "outputs": []
    },
    {
      "cell_type": "code",
      "metadata": {
        "id": "1TyFVxiXGlCv"
      },
      "source": [
        "table = driver.find_element_by_xpath('//*[@id=\"content_weather\"]/table')\n",
        "\n",
        "#테이블 열이름 가져오기\n",
        "heads = table.find_elements_by_class_name('top_line')\n",
        "thead = [value.text for index, value in enumerate(heads)]\n",
        "\n",
        "#테이블 각 행값 가져오기\n",
        "tbody = table.find_element_by_tag_name(\"tbody\")\n",
        "rows = tbody.find_elements_by_tag_name(\"tr\")\n",
        "trows = []\n",
        "for a_row in rows:\n",
        "  body = a_row.find_elements_by_tag_name(\"td\")\n",
        "  trow = []\n",
        "  for index, value in enumerate(body):\n",
        "    trow.append(value.text)\n",
        "  trows.append(trow)"
      ],
      "execution_count": 48,
      "outputs": []
    },
    {
      "cell_type": "code",
      "metadata": {
        "id": "8VoscsByILSs"
      },
      "source": [
        "df = pd.DataFrame(data=trows, columns=thead)\n",
        "#print('[ {}(℃) ] {} / {}년'.format(option1, option2, option3))\n",
        "#df"
      ],
      "execution_count": 49,
      "outputs": []
    },
    {
      "cell_type": "code",
      "metadata": {
        "id": "9vzY6z-vE6Dq"
      },
      "source": [
        "select = Select(driver.find_element_by_id('observation_select1'))\n",
        "select.select_by_visible_text(compare)\n",
        "driver.find_element_by_xpath('//*[@id=\"content_weather\"]/form/fieldset/input[1]').click()"
      ],
      "execution_count": 51,
      "outputs": []
    },
    {
      "cell_type": "code",
      "metadata": {
        "id": "Gt0lHOGfE_ri"
      },
      "source": [
        "select = Select(driver.find_element_by_id('observation_select2'))\n",
        "select.select_by_visible_text(str(option2))\n",
        "driver.find_element_by_xpath('//*[@id=\"content_weather\"]/form/fieldset/input[2]').click()"
      ],
      "execution_count": 52,
      "outputs": []
    },
    {
      "cell_type": "code",
      "metadata": {
        "id": "phjEeXk-FBGH"
      },
      "source": [
        "select = Select(driver.find_element_by_id('observation_select3'))\n",
        "select.select_by_visible_text(option3)\n",
        "driver.find_element_by_xpath('//*[@id=\"content_weather\"]/form/fieldset/input[3]').click()"
      ],
      "execution_count": 53,
      "outputs": []
    },
    {
      "cell_type": "code",
      "metadata": {
        "id": "Q7lCvyKCFECa"
      },
      "source": [
        "table = driver.find_element_by_xpath('//*[@id=\"content_weather\"]/table')\n",
        "\n",
        "#테이블 열이름 가져오기\n",
        "heads = table.find_elements_by_class_name('top_line')\n",
        "thead = [value.text for index, value in enumerate(heads)]\n",
        "\n",
        "#테이블 각 행값 가져오기\n",
        "tbody = table.find_element_by_tag_name(\"tbody\")\n",
        "rows = tbody.find_elements_by_tag_name(\"tr\")\n",
        "trows = []\n",
        "for a_row in rows:\n",
        "  body = a_row.find_elements_by_tag_name(\"td\")\n",
        "  trow = []\n",
        "  for index, value in enumerate(body):\n",
        "    trow.append(value.text)\n",
        "  trows.append(trow)"
      ],
      "execution_count": 54,
      "outputs": []
    },
    {
      "cell_type": "code",
      "metadata": {
        "id": "BiNAvipPFMtW"
      },
      "source": [
        "cp_df = pd.DataFrame(data=trows, columns=thead)"
      ],
      "execution_count": 55,
      "outputs": []
    },
    {
      "cell_type": "code",
      "metadata": {
        "id": "7e5J8nkKFVzm"
      },
      "source": [
        "def compare_graph(data=None, option=None):\n",
        "  data1 = data[data[option4]!=' '].copy()\n",
        "  data2 = data1[option4]\n",
        "  data2 = pd.to_numeric(data2)\n",
        "  data2 = data2.reset_index()\n",
        "  data2['index'] = data2['index'] + 1\n",
        "  data2.columns = ['날짜', option3]\n",
        "  data2.drop(data2.index[-1], axis=0, inplace=True)\n",
        "  return data2"
      ],
      "execution_count": 56,
      "outputs": []
    },
    {
      "cell_type": "markdown",
      "metadata": {
        "id": "MBgWx8wgS3x-"
      },
      "source": [
        "## 월별 비교 그래프 표시 부분"
      ]
    },
    {
      "cell_type": "code",
      "metadata": {
        "colab": {
          "base_uri": "https://localhost:8080/",
          "height": 542
        },
        "id": "hG7xx4XqGuoz",
        "outputId": "1dd45675-7e4e-445b-9812-bdda9b9c5acb"
      },
      "source": [
        "#@title 달(月)을 선택해주세요 { run: \"auto\" }\n",
        "option4 = \"5\\uC6D4\" #@param ['1월', '2월', '3월', '4월', '5월', '6월', '7월', '8월', '9월', '10월', '11월', '12월']\n",
        "\n",
        "df1 = compare_graph(data=df, option=option4)\n",
        "df2 = compare_graph(data=cp_df, option=option4)\n",
        "\n",
        "title = '{}년 {} {}/{} {} 비교 그래프'.format(option2, option4, option1.split('(')[0], compare.split('(')[0], option3)\n",
        "\n",
        "fig = go.Figure()\n",
        "fig.add_trace(go.Bar(x=df2['날짜'], y=df2[option3], name=compare.split('(')[0]))\n",
        "fig.add_trace(go.Scatter(x=df1['날짜'], y=df1[option3], mode='lines', name=option1.split('(')[0]))\n",
        "fig.update_layout(title = title, xaxis_title = '날짜', yaxis_title = option3)\n",
        "fig.show()"
      ],
      "execution_count": 70,
      "outputs": [
        {
          "output_type": "display_data",
          "data": {
            "text/html": [
              "<html>\n",
              "<head><meta charset=\"utf-8\" /></head>\n",
              "<body>\n",
              "    <div>\n",
              "            <script src=\"https://cdnjs.cloudflare.com/ajax/libs/mathjax/2.7.5/MathJax.js?config=TeX-AMS-MML_SVG\"></script><script type=\"text/javascript\">if (window.MathJax) {MathJax.Hub.Config({SVG: {font: \"STIX-Web\"}});}</script>\n",
              "                <script type=\"text/javascript\">window.PlotlyConfig = {MathJaxConfig: 'local'};</script>\n",
              "        <script src=\"https://cdn.plot.ly/plotly-latest.min.js\"></script>    \n",
              "            <div id=\"bf9b5807-020c-4619-b1e6-c079e20eecbd\" class=\"plotly-graph-div\" style=\"height:525px; width:100%;\"></div>\n",
              "            <script type=\"text/javascript\">\n",
              "                \n",
              "                    window.PLOTLYENV=window.PLOTLYENV || {};\n",
              "                    \n",
              "                if (document.getElementById(\"bf9b5807-020c-4619-b1e6-c079e20eecbd\")) {\n",
              "                    Plotly.newPlot(\n",
              "                        'bf9b5807-020c-4619-b1e6-c079e20eecbd',\n",
              "                        [{\"name\": \"\\uc11c\\uc6b8\", \"type\": \"bar\", \"x\": [1, 2, 3, 4, 5, 6, 7, 8, 9, 10, 11, 12, 13, 14, 15, 16, 17, 18, 19, 20, 21, 22, 23, 24, 25, 26, 27, 28, 29, 30, 31], \"y\": [17.3, 19.0, 17.0, 14.3, 13.5, 13.1, 12.2, 14.2, 15.0, 15.5, 13.2, 14.4, 14.8, 15.1, 13.0, 12.7, 13.9, 12.0, 13.1, 14.5, 17.2, 17.8, 18.3, 17.0, 16.2, 14.1, 17.1, 16.4, 18.8, 18.6, 16.6]}, {\"mode\": \"lines\", \"name\": \"\\ubc31\\ub839\\ub3c4\", \"type\": \"scatter\", \"x\": [1, 2, 3, 4, 5, 6, 7, 8, 9, 10, 11, 12, 13, 14, 15, 16, 17, 18, 19, 20, 21, 22, 23, 24, 25, 26, 27, 28, 29, 30, 31], \"y\": [14.1, 11.8, 8.0, 12.5, 11.4, 11.1, 10.7, 13.6, 13.6, 12.1, 9.0, 10.3, 10.9, 11.2, 6.5, 6.7, 8.9, 12.0, 10.6, 12.0, 15.2, 14.4, 15.6, 15.2, 14.7, 12.7, 13.9, 13.2, 15.9, 13.6, 13.9]}],\n",
              "                        {\"template\": {\"data\": {\"bar\": [{\"error_x\": {\"color\": \"#2a3f5f\"}, \"error_y\": {\"color\": \"#2a3f5f\"}, \"marker\": {\"line\": {\"color\": \"#E5ECF6\", \"width\": 0.5}}, \"type\": \"bar\"}], \"barpolar\": [{\"marker\": {\"line\": {\"color\": \"#E5ECF6\", \"width\": 0.5}}, \"type\": \"barpolar\"}], \"carpet\": [{\"aaxis\": {\"endlinecolor\": \"#2a3f5f\", \"gridcolor\": \"white\", \"linecolor\": \"white\", \"minorgridcolor\": \"white\", \"startlinecolor\": \"#2a3f5f\"}, \"baxis\": {\"endlinecolor\": \"#2a3f5f\", \"gridcolor\": \"white\", \"linecolor\": \"white\", \"minorgridcolor\": \"white\", \"startlinecolor\": \"#2a3f5f\"}, \"type\": \"carpet\"}], \"choropleth\": [{\"colorbar\": {\"outlinewidth\": 0, \"ticks\": \"\"}, \"type\": \"choropleth\"}], \"contour\": [{\"colorbar\": {\"outlinewidth\": 0, \"ticks\": \"\"}, \"colorscale\": [[0.0, \"#0d0887\"], [0.1111111111111111, \"#46039f\"], [0.2222222222222222, \"#7201a8\"], [0.3333333333333333, \"#9c179e\"], [0.4444444444444444, \"#bd3786\"], [0.5555555555555556, \"#d8576b\"], [0.6666666666666666, \"#ed7953\"], [0.7777777777777778, \"#fb9f3a\"], [0.8888888888888888, \"#fdca26\"], [1.0, \"#f0f921\"]], \"type\": \"contour\"}], \"contourcarpet\": [{\"colorbar\": {\"outlinewidth\": 0, \"ticks\": \"\"}, \"type\": \"contourcarpet\"}], \"heatmap\": [{\"colorbar\": {\"outlinewidth\": 0, \"ticks\": \"\"}, \"colorscale\": [[0.0, \"#0d0887\"], [0.1111111111111111, \"#46039f\"], [0.2222222222222222, \"#7201a8\"], [0.3333333333333333, \"#9c179e\"], [0.4444444444444444, \"#bd3786\"], [0.5555555555555556, \"#d8576b\"], [0.6666666666666666, \"#ed7953\"], [0.7777777777777778, \"#fb9f3a\"], [0.8888888888888888, \"#fdca26\"], [1.0, \"#f0f921\"]], \"type\": \"heatmap\"}], \"heatmapgl\": [{\"colorbar\": {\"outlinewidth\": 0, \"ticks\": \"\"}, \"colorscale\": [[0.0, \"#0d0887\"], [0.1111111111111111, \"#46039f\"], [0.2222222222222222, \"#7201a8\"], [0.3333333333333333, \"#9c179e\"], [0.4444444444444444, \"#bd3786\"], [0.5555555555555556, \"#d8576b\"], [0.6666666666666666, \"#ed7953\"], [0.7777777777777778, \"#fb9f3a\"], [0.8888888888888888, \"#fdca26\"], [1.0, \"#f0f921\"]], \"type\": \"heatmapgl\"}], \"histogram\": [{\"marker\": {\"colorbar\": {\"outlinewidth\": 0, \"ticks\": \"\"}}, \"type\": \"histogram\"}], \"histogram2d\": [{\"colorbar\": {\"outlinewidth\": 0, \"ticks\": \"\"}, \"colorscale\": [[0.0, \"#0d0887\"], [0.1111111111111111, \"#46039f\"], [0.2222222222222222, \"#7201a8\"], [0.3333333333333333, \"#9c179e\"], [0.4444444444444444, \"#bd3786\"], [0.5555555555555556, \"#d8576b\"], [0.6666666666666666, \"#ed7953\"], [0.7777777777777778, \"#fb9f3a\"], [0.8888888888888888, \"#fdca26\"], [1.0, \"#f0f921\"]], \"type\": \"histogram2d\"}], \"histogram2dcontour\": [{\"colorbar\": {\"outlinewidth\": 0, \"ticks\": \"\"}, \"colorscale\": [[0.0, \"#0d0887\"], [0.1111111111111111, \"#46039f\"], [0.2222222222222222, \"#7201a8\"], [0.3333333333333333, \"#9c179e\"], [0.4444444444444444, \"#bd3786\"], [0.5555555555555556, \"#d8576b\"], [0.6666666666666666, \"#ed7953\"], [0.7777777777777778, \"#fb9f3a\"], [0.8888888888888888, \"#fdca26\"], [1.0, \"#f0f921\"]], \"type\": \"histogram2dcontour\"}], \"mesh3d\": [{\"colorbar\": {\"outlinewidth\": 0, \"ticks\": \"\"}, \"type\": \"mesh3d\"}], \"parcoords\": [{\"line\": {\"colorbar\": {\"outlinewidth\": 0, \"ticks\": \"\"}}, \"type\": \"parcoords\"}], \"pie\": [{\"automargin\": true, \"type\": \"pie\"}], \"scatter\": [{\"marker\": {\"colorbar\": {\"outlinewidth\": 0, \"ticks\": \"\"}}, \"type\": \"scatter\"}], \"scatter3d\": [{\"line\": {\"colorbar\": {\"outlinewidth\": 0, \"ticks\": \"\"}}, \"marker\": {\"colorbar\": {\"outlinewidth\": 0, \"ticks\": \"\"}}, \"type\": \"scatter3d\"}], \"scattercarpet\": [{\"marker\": {\"colorbar\": {\"outlinewidth\": 0, \"ticks\": \"\"}}, \"type\": \"scattercarpet\"}], \"scattergeo\": [{\"marker\": {\"colorbar\": {\"outlinewidth\": 0, \"ticks\": \"\"}}, \"type\": \"scattergeo\"}], \"scattergl\": [{\"marker\": {\"colorbar\": {\"outlinewidth\": 0, \"ticks\": \"\"}}, \"type\": \"scattergl\"}], \"scattermapbox\": [{\"marker\": {\"colorbar\": {\"outlinewidth\": 0, \"ticks\": \"\"}}, \"type\": \"scattermapbox\"}], \"scatterpolar\": [{\"marker\": {\"colorbar\": {\"outlinewidth\": 0, \"ticks\": \"\"}}, \"type\": \"scatterpolar\"}], \"scatterpolargl\": [{\"marker\": {\"colorbar\": {\"outlinewidth\": 0, \"ticks\": \"\"}}, \"type\": \"scatterpolargl\"}], \"scatterternary\": [{\"marker\": {\"colorbar\": {\"outlinewidth\": 0, \"ticks\": \"\"}}, \"type\": \"scatterternary\"}], \"surface\": [{\"colorbar\": {\"outlinewidth\": 0, \"ticks\": \"\"}, \"colorscale\": [[0.0, \"#0d0887\"], [0.1111111111111111, \"#46039f\"], [0.2222222222222222, \"#7201a8\"], [0.3333333333333333, \"#9c179e\"], [0.4444444444444444, \"#bd3786\"], [0.5555555555555556, \"#d8576b\"], [0.6666666666666666, \"#ed7953\"], [0.7777777777777778, \"#fb9f3a\"], [0.8888888888888888, \"#fdca26\"], [1.0, \"#f0f921\"]], \"type\": \"surface\"}], \"table\": [{\"cells\": {\"fill\": {\"color\": \"#EBF0F8\"}, \"line\": {\"color\": \"white\"}}, \"header\": {\"fill\": {\"color\": \"#C8D4E3\"}, \"line\": {\"color\": \"white\"}}, \"type\": \"table\"}]}, \"layout\": {\"annotationdefaults\": {\"arrowcolor\": \"#2a3f5f\", \"arrowhead\": 0, \"arrowwidth\": 1}, \"coloraxis\": {\"colorbar\": {\"outlinewidth\": 0, \"ticks\": \"\"}}, \"colorscale\": {\"diverging\": [[0, \"#8e0152\"], [0.1, \"#c51b7d\"], [0.2, \"#de77ae\"], [0.3, \"#f1b6da\"], [0.4, \"#fde0ef\"], [0.5, \"#f7f7f7\"], [0.6, \"#e6f5d0\"], [0.7, \"#b8e186\"], [0.8, \"#7fbc41\"], [0.9, \"#4d9221\"], [1, \"#276419\"]], \"sequential\": [[0.0, \"#0d0887\"], [0.1111111111111111, \"#46039f\"], [0.2222222222222222, \"#7201a8\"], [0.3333333333333333, \"#9c179e\"], [0.4444444444444444, \"#bd3786\"], [0.5555555555555556, \"#d8576b\"], [0.6666666666666666, \"#ed7953\"], [0.7777777777777778, \"#fb9f3a\"], [0.8888888888888888, \"#fdca26\"], [1.0, \"#f0f921\"]], \"sequentialminus\": [[0.0, \"#0d0887\"], [0.1111111111111111, \"#46039f\"], [0.2222222222222222, \"#7201a8\"], [0.3333333333333333, \"#9c179e\"], [0.4444444444444444, \"#bd3786\"], [0.5555555555555556, \"#d8576b\"], [0.6666666666666666, \"#ed7953\"], [0.7777777777777778, \"#fb9f3a\"], [0.8888888888888888, \"#fdca26\"], [1.0, \"#f0f921\"]]}, \"colorway\": [\"#636efa\", \"#EF553B\", \"#00cc96\", \"#ab63fa\", \"#FFA15A\", \"#19d3f3\", \"#FF6692\", \"#B6E880\", \"#FF97FF\", \"#FECB52\"], \"font\": {\"color\": \"#2a3f5f\"}, \"geo\": {\"bgcolor\": \"white\", \"lakecolor\": \"white\", \"landcolor\": \"#E5ECF6\", \"showlakes\": true, \"showland\": true, \"subunitcolor\": \"white\"}, \"hoverlabel\": {\"align\": \"left\"}, \"hovermode\": \"closest\", \"mapbox\": {\"style\": \"light\"}, \"paper_bgcolor\": \"white\", \"plot_bgcolor\": \"#E5ECF6\", \"polar\": {\"angularaxis\": {\"gridcolor\": \"white\", \"linecolor\": \"white\", \"ticks\": \"\"}, \"bgcolor\": \"#E5ECF6\", \"radialaxis\": {\"gridcolor\": \"white\", \"linecolor\": \"white\", \"ticks\": \"\"}}, \"scene\": {\"xaxis\": {\"backgroundcolor\": \"#E5ECF6\", \"gridcolor\": \"white\", \"gridwidth\": 2, \"linecolor\": \"white\", \"showbackground\": true, \"ticks\": \"\", \"zerolinecolor\": \"white\"}, \"yaxis\": {\"backgroundcolor\": \"#E5ECF6\", \"gridcolor\": \"white\", \"gridwidth\": 2, \"linecolor\": \"white\", \"showbackground\": true, \"ticks\": \"\", \"zerolinecolor\": \"white\"}, \"zaxis\": {\"backgroundcolor\": \"#E5ECF6\", \"gridcolor\": \"white\", \"gridwidth\": 2, \"linecolor\": \"white\", \"showbackground\": true, \"ticks\": \"\", \"zerolinecolor\": \"white\"}}, \"shapedefaults\": {\"line\": {\"color\": \"#2a3f5f\"}}, \"ternary\": {\"aaxis\": {\"gridcolor\": \"white\", \"linecolor\": \"white\", \"ticks\": \"\"}, \"baxis\": {\"gridcolor\": \"white\", \"linecolor\": \"white\", \"ticks\": \"\"}, \"bgcolor\": \"#E5ECF6\", \"caxis\": {\"gridcolor\": \"white\", \"linecolor\": \"white\", \"ticks\": \"\"}}, \"title\": {\"x\": 0.05}, \"xaxis\": {\"automargin\": true, \"gridcolor\": \"white\", \"linecolor\": \"white\", \"ticks\": \"\", \"title\": {\"standoff\": 15}, \"zerolinecolor\": \"white\", \"zerolinewidth\": 2}, \"yaxis\": {\"automargin\": true, \"gridcolor\": \"white\", \"linecolor\": \"white\", \"ticks\": \"\", \"title\": {\"standoff\": 15}, \"zerolinecolor\": \"white\", \"zerolinewidth\": 2}}}, \"title\": {\"text\": \"2012\\ub144 5\\uc6d4 \\ubc31\\ub839\\ub3c4/\\uc11c\\uc6b8 \\ucd5c\\uc800\\uae30\\uc628 \\ube44\\uad50 \\uadf8\\ub798\\ud504\"}, \"xaxis\": {\"title\": {\"text\": \"\\ub0a0\\uc9dc\"}}, \"yaxis\": {\"title\": {\"text\": \"\\ucd5c\\uc800\\uae30\\uc628\"}}},\n",
              "                        {\"responsive\": true}\n",
              "                    ).then(function(){\n",
              "                            \n",
              "var gd = document.getElementById('bf9b5807-020c-4619-b1e6-c079e20eecbd');\n",
              "var x = new MutationObserver(function (mutations, observer) {{\n",
              "        var display = window.getComputedStyle(gd).display;\n",
              "        if (!display || display === 'none') {{\n",
              "            console.log([gd, 'removed!']);\n",
              "            Plotly.purge(gd);\n",
              "            observer.disconnect();\n",
              "        }}\n",
              "}});\n",
              "\n",
              "// Listen for the removal of the full notebook cells\n",
              "var notebookContainer = gd.closest('#notebook-container');\n",
              "if (notebookContainer) {{\n",
              "    x.observe(notebookContainer, {childList: true});\n",
              "}}\n",
              "\n",
              "// Listen for the clearing of the current output cell\n",
              "var outputEl = gd.closest('.output');\n",
              "if (outputEl) {{\n",
              "    x.observe(outputEl, {childList: true});\n",
              "}}\n",
              "\n",
              "                        })\n",
              "                };\n",
              "                \n",
              "            </script>\n",
              "        </div>\n",
              "</body>\n",
              "</html>"
            ]
          },
          "metadata": {}
        }
      ]
    },
    {
      "cell_type": "code",
      "metadata": {
        "id": "wN4qPI_CMtJZ"
      },
      "source": [
        ""
      ],
      "execution_count": null,
      "outputs": []
    }
  ]
}